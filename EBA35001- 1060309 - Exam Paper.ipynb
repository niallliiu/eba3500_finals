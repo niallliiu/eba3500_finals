{
 "cells": [
  {
   "cell_type": "code",
   "execution_count": 3,
   "metadata": {},
   "outputs": [],
   "source": [
    "import numpy as np\n",
    "import seaborn as sns\n",
    "import pandas as pd\n",
    "import scipy.stats as stats\n",
    "import statsmodels.formula.api as smf\n",
    "import statsmodels.api as sm\n",
    "import statsmodels as s\n",
    "import matplotlib.pyplot as plt\n",
    "import missingno as msno\n",
    "\n",
    "from scipy import optimize\n",
    "from scipy.stats import chi2\n",
    "from scipy.stats import ttest_ind\n",
    "from itertools import product\n",
    "from sympy import E, Symbol\n",
    "from rdatasets import data\n",
    "from scipy.stats import expon\n",
    "from sklearn import metrics\n",
    "from statsmodels.stats.anova import anova_lm\n",
    "from statsmodels.stats.power import TTestIndPower\n",
    "\n",
    "%matplotlib inline"
   ]
  },
  {
   "cell_type": "markdown",
   "metadata": {},
   "source": [
    "# 1 Binary Regression\n",
    "\n",
    "## (a) Exploration\n",
    "\n",
    "### (i) \n",
    "\n",
    "#### ${1}$"
   ]
  },
  {
   "cell_type": "markdown",
   "metadata": {},
   "source": [
    "#### The response RainTomorrow must be modified before we can fit the logistic model. Why?\n",
    "\n",
    "The response in our regression model should be numeric for it to be estimated and predicted."
   ]
  },
  {
   "cell_type": "code",
   "execution_count": 2,
   "metadata": {
    "collapsed": true
   },
   "outputs": [
    {
     "data": {
      "text/html": [
       "<div>\n",
       "<style scoped>\n",
       "    .dataframe tbody tr th:only-of-type {\n",
       "        vertical-align: middle;\n",
       "    }\n",
       "\n",
       "    .dataframe tbody tr th {\n",
       "        vertical-align: top;\n",
       "    }\n",
       "\n",
       "    .dataframe thead th {\n",
       "        text-align: right;\n",
       "    }\n",
       "</style>\n",
       "<table border=\"1\" class=\"dataframe\">\n",
       "  <thead>\n",
       "    <tr style=\"text-align: right;\">\n",
       "      <th></th>\n",
       "      <th>Date</th>\n",
       "      <th>Location</th>\n",
       "      <th>MinTemp</th>\n",
       "      <th>MaxTemp</th>\n",
       "      <th>Rainfall</th>\n",
       "      <th>Evaporation</th>\n",
       "      <th>Sunshine</th>\n",
       "      <th>WindGustDir</th>\n",
       "      <th>WindGustSpeed</th>\n",
       "      <th>WindDir9am</th>\n",
       "      <th>...</th>\n",
       "      <th>Humidity9am</th>\n",
       "      <th>Humidity3pm</th>\n",
       "      <th>Pressure9am</th>\n",
       "      <th>Pressure3pm</th>\n",
       "      <th>Cloud9am</th>\n",
       "      <th>Cloud3pm</th>\n",
       "      <th>Temp9am</th>\n",
       "      <th>Temp3pm</th>\n",
       "      <th>RainToday</th>\n",
       "      <th>RainTomorrow</th>\n",
       "    </tr>\n",
       "  </thead>\n",
       "  <tbody>\n",
       "    <tr>\n",
       "      <th>0</th>\n",
       "      <td>2008-12-01</td>\n",
       "      <td>Albury</td>\n",
       "      <td>13.4</td>\n",
       "      <td>22.9</td>\n",
       "      <td>0.6</td>\n",
       "      <td>NaN</td>\n",
       "      <td>NaN</td>\n",
       "      <td>W</td>\n",
       "      <td>44.0</td>\n",
       "      <td>W</td>\n",
       "      <td>...</td>\n",
       "      <td>71.0</td>\n",
       "      <td>22.0</td>\n",
       "      <td>1007.7</td>\n",
       "      <td>1007.1</td>\n",
       "      <td>8.0</td>\n",
       "      <td>NaN</td>\n",
       "      <td>16.9</td>\n",
       "      <td>21.8</td>\n",
       "      <td>No</td>\n",
       "      <td>No</td>\n",
       "    </tr>\n",
       "    <tr>\n",
       "      <th>1</th>\n",
       "      <td>2008-12-02</td>\n",
       "      <td>Albury</td>\n",
       "      <td>7.4</td>\n",
       "      <td>25.1</td>\n",
       "      <td>0.0</td>\n",
       "      <td>NaN</td>\n",
       "      <td>NaN</td>\n",
       "      <td>WNW</td>\n",
       "      <td>44.0</td>\n",
       "      <td>NNW</td>\n",
       "      <td>...</td>\n",
       "      <td>44.0</td>\n",
       "      <td>25.0</td>\n",
       "      <td>1010.6</td>\n",
       "      <td>1007.8</td>\n",
       "      <td>NaN</td>\n",
       "      <td>NaN</td>\n",
       "      <td>17.2</td>\n",
       "      <td>24.3</td>\n",
       "      <td>No</td>\n",
       "      <td>No</td>\n",
       "    </tr>\n",
       "    <tr>\n",
       "      <th>2</th>\n",
       "      <td>2008-12-03</td>\n",
       "      <td>Albury</td>\n",
       "      <td>12.9</td>\n",
       "      <td>25.7</td>\n",
       "      <td>0.0</td>\n",
       "      <td>NaN</td>\n",
       "      <td>NaN</td>\n",
       "      <td>WSW</td>\n",
       "      <td>46.0</td>\n",
       "      <td>W</td>\n",
       "      <td>...</td>\n",
       "      <td>38.0</td>\n",
       "      <td>30.0</td>\n",
       "      <td>1007.6</td>\n",
       "      <td>1008.7</td>\n",
       "      <td>NaN</td>\n",
       "      <td>2.0</td>\n",
       "      <td>21.0</td>\n",
       "      <td>23.2</td>\n",
       "      <td>No</td>\n",
       "      <td>No</td>\n",
       "    </tr>\n",
       "    <tr>\n",
       "      <th>3</th>\n",
       "      <td>2008-12-04</td>\n",
       "      <td>Albury</td>\n",
       "      <td>9.2</td>\n",
       "      <td>28.0</td>\n",
       "      <td>0.0</td>\n",
       "      <td>NaN</td>\n",
       "      <td>NaN</td>\n",
       "      <td>NE</td>\n",
       "      <td>24.0</td>\n",
       "      <td>SE</td>\n",
       "      <td>...</td>\n",
       "      <td>45.0</td>\n",
       "      <td>16.0</td>\n",
       "      <td>1017.6</td>\n",
       "      <td>1012.8</td>\n",
       "      <td>NaN</td>\n",
       "      <td>NaN</td>\n",
       "      <td>18.1</td>\n",
       "      <td>26.5</td>\n",
       "      <td>No</td>\n",
       "      <td>No</td>\n",
       "    </tr>\n",
       "    <tr>\n",
       "      <th>4</th>\n",
       "      <td>2008-12-05</td>\n",
       "      <td>Albury</td>\n",
       "      <td>17.5</td>\n",
       "      <td>32.3</td>\n",
       "      <td>1.0</td>\n",
       "      <td>NaN</td>\n",
       "      <td>NaN</td>\n",
       "      <td>W</td>\n",
       "      <td>41.0</td>\n",
       "      <td>ENE</td>\n",
       "      <td>...</td>\n",
       "      <td>82.0</td>\n",
       "      <td>33.0</td>\n",
       "      <td>1010.8</td>\n",
       "      <td>1006.0</td>\n",
       "      <td>7.0</td>\n",
       "      <td>8.0</td>\n",
       "      <td>17.8</td>\n",
       "      <td>29.7</td>\n",
       "      <td>No</td>\n",
       "      <td>No</td>\n",
       "    </tr>\n",
       "  </tbody>\n",
       "</table>\n",
       "<p>5 rows × 23 columns</p>\n",
       "</div>"
      ],
      "text/plain": [
       "         Date Location  MinTemp  MaxTemp  Rainfall  Evaporation  Sunshine  \\\n",
       "0  2008-12-01   Albury     13.4     22.9       0.6          NaN       NaN   \n",
       "1  2008-12-02   Albury      7.4     25.1       0.0          NaN       NaN   \n",
       "2  2008-12-03   Albury     12.9     25.7       0.0          NaN       NaN   \n",
       "3  2008-12-04   Albury      9.2     28.0       0.0          NaN       NaN   \n",
       "4  2008-12-05   Albury     17.5     32.3       1.0          NaN       NaN   \n",
       "\n",
       "  WindGustDir  WindGustSpeed WindDir9am  ... Humidity9am  Humidity3pm  \\\n",
       "0           W           44.0          W  ...        71.0         22.0   \n",
       "1         WNW           44.0        NNW  ...        44.0         25.0   \n",
       "2         WSW           46.0          W  ...        38.0         30.0   \n",
       "3          NE           24.0         SE  ...        45.0         16.0   \n",
       "4           W           41.0        ENE  ...        82.0         33.0   \n",
       "\n",
       "   Pressure9am  Pressure3pm  Cloud9am  Cloud3pm  Temp9am  Temp3pm  RainToday  \\\n",
       "0       1007.7       1007.1       8.0       NaN     16.9     21.8         No   \n",
       "1       1010.6       1007.8       NaN       NaN     17.2     24.3         No   \n",
       "2       1007.6       1008.7       NaN       2.0     21.0     23.2         No   \n",
       "3       1017.6       1012.8       NaN       NaN     18.1     26.5         No   \n",
       "4       1010.8       1006.0       7.0       8.0     17.8     29.7         No   \n",
       "\n",
       "   RainTomorrow  \n",
       "0            No  \n",
       "1            No  \n",
       "2            No  \n",
       "3            No  \n",
       "4            No  \n",
       "\n",
       "[5 rows x 23 columns]"
      ]
     },
     "execution_count": 2,
     "metadata": {},
     "output_type": "execute_result"
    }
   ],
   "source": [
    "#import the dataset\n",
    "\n",
    "weather = pd.read_csv('weatherAUS.csv')\n",
    "\n",
    "weather.head(5)"
   ]
  },
  {
   "cell_type": "code",
   "execution_count": 3,
   "metadata": {},
   "outputs": [
    {
     "name": "stdout",
     "output_type": "stream",
     "text": [
      "object\n",
      "object\n"
     ]
    }
   ],
   "source": [
    "#the response must be modified due to their types are 'Object'\n",
    "\n",
    "print(weather.RainTomorrow.dtypes)\n",
    "print(weather.RainToday.dtypes)"
   ]
  },
  {
   "cell_type": "code",
   "execution_count": 4,
   "metadata": {},
   "outputs": [],
   "source": [
    "#lets covert Yes and No in both columns to numeric (1, 0)\n",
    "\n",
    "weather[\"RainTomorrow2\"] = 1 * (weather.RainTomorrow == \"Yes\")"
   ]
  },
  {
   "cell_type": "code",
   "execution_count": 5,
   "metadata": {},
   "outputs": [],
   "source": [
    "weather[\"RainToday2\"] = 1 * (weather.RainToday == \"Yes\")"
   ]
  },
  {
   "cell_type": "code",
   "execution_count": 6,
   "metadata": {},
   "outputs": [
    {
     "data": {
      "text/html": [
       "<div>\n",
       "<style scoped>\n",
       "    .dataframe tbody tr th:only-of-type {\n",
       "        vertical-align: middle;\n",
       "    }\n",
       "\n",
       "    .dataframe tbody tr th {\n",
       "        vertical-align: top;\n",
       "    }\n",
       "\n",
       "    .dataframe thead th {\n",
       "        text-align: right;\n",
       "    }\n",
       "</style>\n",
       "<table border=\"1\" class=\"dataframe\">\n",
       "  <thead>\n",
       "    <tr style=\"text-align: right;\">\n",
       "      <th></th>\n",
       "      <th>Date</th>\n",
       "      <th>Location</th>\n",
       "      <th>MinTemp</th>\n",
       "      <th>MaxTemp</th>\n",
       "      <th>Rainfall</th>\n",
       "      <th>Evaporation</th>\n",
       "      <th>Sunshine</th>\n",
       "      <th>WindGustDir</th>\n",
       "      <th>WindGustSpeed</th>\n",
       "      <th>WindDir9am</th>\n",
       "      <th>...</th>\n",
       "      <th>Pressure9am</th>\n",
       "      <th>Pressure3pm</th>\n",
       "      <th>Cloud9am</th>\n",
       "      <th>Cloud3pm</th>\n",
       "      <th>Temp9am</th>\n",
       "      <th>Temp3pm</th>\n",
       "      <th>RainToday</th>\n",
       "      <th>RainTomorrow</th>\n",
       "      <th>RainTomorrow2</th>\n",
       "      <th>RainToday2</th>\n",
       "    </tr>\n",
       "  </thead>\n",
       "  <tbody>\n",
       "    <tr>\n",
       "      <th>0</th>\n",
       "      <td>2008-12-01</td>\n",
       "      <td>Albury</td>\n",
       "      <td>13.4</td>\n",
       "      <td>22.9</td>\n",
       "      <td>0.6</td>\n",
       "      <td>NaN</td>\n",
       "      <td>NaN</td>\n",
       "      <td>W</td>\n",
       "      <td>44.0</td>\n",
       "      <td>W</td>\n",
       "      <td>...</td>\n",
       "      <td>1007.7</td>\n",
       "      <td>1007.1</td>\n",
       "      <td>8.0</td>\n",
       "      <td>NaN</td>\n",
       "      <td>16.9</td>\n",
       "      <td>21.8</td>\n",
       "      <td>No</td>\n",
       "      <td>No</td>\n",
       "      <td>0</td>\n",
       "      <td>0</td>\n",
       "    </tr>\n",
       "    <tr>\n",
       "      <th>1</th>\n",
       "      <td>2008-12-02</td>\n",
       "      <td>Albury</td>\n",
       "      <td>7.4</td>\n",
       "      <td>25.1</td>\n",
       "      <td>0.0</td>\n",
       "      <td>NaN</td>\n",
       "      <td>NaN</td>\n",
       "      <td>WNW</td>\n",
       "      <td>44.0</td>\n",
       "      <td>NNW</td>\n",
       "      <td>...</td>\n",
       "      <td>1010.6</td>\n",
       "      <td>1007.8</td>\n",
       "      <td>NaN</td>\n",
       "      <td>NaN</td>\n",
       "      <td>17.2</td>\n",
       "      <td>24.3</td>\n",
       "      <td>No</td>\n",
       "      <td>No</td>\n",
       "      <td>0</td>\n",
       "      <td>0</td>\n",
       "    </tr>\n",
       "    <tr>\n",
       "      <th>2</th>\n",
       "      <td>2008-12-03</td>\n",
       "      <td>Albury</td>\n",
       "      <td>12.9</td>\n",
       "      <td>25.7</td>\n",
       "      <td>0.0</td>\n",
       "      <td>NaN</td>\n",
       "      <td>NaN</td>\n",
       "      <td>WSW</td>\n",
       "      <td>46.0</td>\n",
       "      <td>W</td>\n",
       "      <td>...</td>\n",
       "      <td>1007.6</td>\n",
       "      <td>1008.7</td>\n",
       "      <td>NaN</td>\n",
       "      <td>2.0</td>\n",
       "      <td>21.0</td>\n",
       "      <td>23.2</td>\n",
       "      <td>No</td>\n",
       "      <td>No</td>\n",
       "      <td>0</td>\n",
       "      <td>0</td>\n",
       "    </tr>\n",
       "    <tr>\n",
       "      <th>3</th>\n",
       "      <td>2008-12-04</td>\n",
       "      <td>Albury</td>\n",
       "      <td>9.2</td>\n",
       "      <td>28.0</td>\n",
       "      <td>0.0</td>\n",
       "      <td>NaN</td>\n",
       "      <td>NaN</td>\n",
       "      <td>NE</td>\n",
       "      <td>24.0</td>\n",
       "      <td>SE</td>\n",
       "      <td>...</td>\n",
       "      <td>1017.6</td>\n",
       "      <td>1012.8</td>\n",
       "      <td>NaN</td>\n",
       "      <td>NaN</td>\n",
       "      <td>18.1</td>\n",
       "      <td>26.5</td>\n",
       "      <td>No</td>\n",
       "      <td>No</td>\n",
       "      <td>0</td>\n",
       "      <td>0</td>\n",
       "    </tr>\n",
       "    <tr>\n",
       "      <th>4</th>\n",
       "      <td>2008-12-05</td>\n",
       "      <td>Albury</td>\n",
       "      <td>17.5</td>\n",
       "      <td>32.3</td>\n",
       "      <td>1.0</td>\n",
       "      <td>NaN</td>\n",
       "      <td>NaN</td>\n",
       "      <td>W</td>\n",
       "      <td>41.0</td>\n",
       "      <td>ENE</td>\n",
       "      <td>...</td>\n",
       "      <td>1010.8</td>\n",
       "      <td>1006.0</td>\n",
       "      <td>7.0</td>\n",
       "      <td>8.0</td>\n",
       "      <td>17.8</td>\n",
       "      <td>29.7</td>\n",
       "      <td>No</td>\n",
       "      <td>No</td>\n",
       "      <td>0</td>\n",
       "      <td>0</td>\n",
       "    </tr>\n",
       "    <tr>\n",
       "      <th>5</th>\n",
       "      <td>2008-12-06</td>\n",
       "      <td>Albury</td>\n",
       "      <td>14.6</td>\n",
       "      <td>29.7</td>\n",
       "      <td>0.2</td>\n",
       "      <td>NaN</td>\n",
       "      <td>NaN</td>\n",
       "      <td>WNW</td>\n",
       "      <td>56.0</td>\n",
       "      <td>W</td>\n",
       "      <td>...</td>\n",
       "      <td>1009.2</td>\n",
       "      <td>1005.4</td>\n",
       "      <td>NaN</td>\n",
       "      <td>NaN</td>\n",
       "      <td>20.6</td>\n",
       "      <td>28.9</td>\n",
       "      <td>No</td>\n",
       "      <td>No</td>\n",
       "      <td>0</td>\n",
       "      <td>0</td>\n",
       "    </tr>\n",
       "    <tr>\n",
       "      <th>6</th>\n",
       "      <td>2008-12-07</td>\n",
       "      <td>Albury</td>\n",
       "      <td>14.3</td>\n",
       "      <td>25.0</td>\n",
       "      <td>0.0</td>\n",
       "      <td>NaN</td>\n",
       "      <td>NaN</td>\n",
       "      <td>W</td>\n",
       "      <td>50.0</td>\n",
       "      <td>SW</td>\n",
       "      <td>...</td>\n",
       "      <td>1009.6</td>\n",
       "      <td>1008.2</td>\n",
       "      <td>1.0</td>\n",
       "      <td>NaN</td>\n",
       "      <td>18.1</td>\n",
       "      <td>24.6</td>\n",
       "      <td>No</td>\n",
       "      <td>No</td>\n",
       "      <td>0</td>\n",
       "      <td>0</td>\n",
       "    </tr>\n",
       "    <tr>\n",
       "      <th>7</th>\n",
       "      <td>2008-12-08</td>\n",
       "      <td>Albury</td>\n",
       "      <td>7.7</td>\n",
       "      <td>26.7</td>\n",
       "      <td>0.0</td>\n",
       "      <td>NaN</td>\n",
       "      <td>NaN</td>\n",
       "      <td>W</td>\n",
       "      <td>35.0</td>\n",
       "      <td>SSE</td>\n",
       "      <td>...</td>\n",
       "      <td>1013.4</td>\n",
       "      <td>1010.1</td>\n",
       "      <td>NaN</td>\n",
       "      <td>NaN</td>\n",
       "      <td>16.3</td>\n",
       "      <td>25.5</td>\n",
       "      <td>No</td>\n",
       "      <td>No</td>\n",
       "      <td>0</td>\n",
       "      <td>0</td>\n",
       "    </tr>\n",
       "    <tr>\n",
       "      <th>8</th>\n",
       "      <td>2008-12-09</td>\n",
       "      <td>Albury</td>\n",
       "      <td>9.7</td>\n",
       "      <td>31.9</td>\n",
       "      <td>0.0</td>\n",
       "      <td>NaN</td>\n",
       "      <td>NaN</td>\n",
       "      <td>NNW</td>\n",
       "      <td>80.0</td>\n",
       "      <td>SE</td>\n",
       "      <td>...</td>\n",
       "      <td>1008.9</td>\n",
       "      <td>1003.6</td>\n",
       "      <td>NaN</td>\n",
       "      <td>NaN</td>\n",
       "      <td>18.3</td>\n",
       "      <td>30.2</td>\n",
       "      <td>No</td>\n",
       "      <td>Yes</td>\n",
       "      <td>1</td>\n",
       "      <td>0</td>\n",
       "    </tr>\n",
       "    <tr>\n",
       "      <th>9</th>\n",
       "      <td>2008-12-10</td>\n",
       "      <td>Albury</td>\n",
       "      <td>13.1</td>\n",
       "      <td>30.1</td>\n",
       "      <td>1.4</td>\n",
       "      <td>NaN</td>\n",
       "      <td>NaN</td>\n",
       "      <td>W</td>\n",
       "      <td>28.0</td>\n",
       "      <td>S</td>\n",
       "      <td>...</td>\n",
       "      <td>1007.0</td>\n",
       "      <td>1005.7</td>\n",
       "      <td>NaN</td>\n",
       "      <td>NaN</td>\n",
       "      <td>20.1</td>\n",
       "      <td>28.2</td>\n",
       "      <td>Yes</td>\n",
       "      <td>No</td>\n",
       "      <td>0</td>\n",
       "      <td>1</td>\n",
       "    </tr>\n",
       "  </tbody>\n",
       "</table>\n",
       "<p>10 rows × 25 columns</p>\n",
       "</div>"
      ],
      "text/plain": [
       "         Date Location  MinTemp  MaxTemp  Rainfall  Evaporation  Sunshine  \\\n",
       "0  2008-12-01   Albury     13.4     22.9       0.6          NaN       NaN   \n",
       "1  2008-12-02   Albury      7.4     25.1       0.0          NaN       NaN   \n",
       "2  2008-12-03   Albury     12.9     25.7       0.0          NaN       NaN   \n",
       "3  2008-12-04   Albury      9.2     28.0       0.0          NaN       NaN   \n",
       "4  2008-12-05   Albury     17.5     32.3       1.0          NaN       NaN   \n",
       "5  2008-12-06   Albury     14.6     29.7       0.2          NaN       NaN   \n",
       "6  2008-12-07   Albury     14.3     25.0       0.0          NaN       NaN   \n",
       "7  2008-12-08   Albury      7.7     26.7       0.0          NaN       NaN   \n",
       "8  2008-12-09   Albury      9.7     31.9       0.0          NaN       NaN   \n",
       "9  2008-12-10   Albury     13.1     30.1       1.4          NaN       NaN   \n",
       "\n",
       "  WindGustDir  WindGustSpeed WindDir9am  ... Pressure9am  Pressure3pm  \\\n",
       "0           W           44.0          W  ...      1007.7       1007.1   \n",
       "1         WNW           44.0        NNW  ...      1010.6       1007.8   \n",
       "2         WSW           46.0          W  ...      1007.6       1008.7   \n",
       "3          NE           24.0         SE  ...      1017.6       1012.8   \n",
       "4           W           41.0        ENE  ...      1010.8       1006.0   \n",
       "5         WNW           56.0          W  ...      1009.2       1005.4   \n",
       "6           W           50.0         SW  ...      1009.6       1008.2   \n",
       "7           W           35.0        SSE  ...      1013.4       1010.1   \n",
       "8         NNW           80.0         SE  ...      1008.9       1003.6   \n",
       "9           W           28.0          S  ...      1007.0       1005.7   \n",
       "\n",
       "   Cloud9am  Cloud3pm  Temp9am  Temp3pm  RainToday  RainTomorrow  \\\n",
       "0       8.0       NaN     16.9     21.8         No            No   \n",
       "1       NaN       NaN     17.2     24.3         No            No   \n",
       "2       NaN       2.0     21.0     23.2         No            No   \n",
       "3       NaN       NaN     18.1     26.5         No            No   \n",
       "4       7.0       8.0     17.8     29.7         No            No   \n",
       "5       NaN       NaN     20.6     28.9         No            No   \n",
       "6       1.0       NaN     18.1     24.6         No            No   \n",
       "7       NaN       NaN     16.3     25.5         No            No   \n",
       "8       NaN       NaN     18.3     30.2         No           Yes   \n",
       "9       NaN       NaN     20.1     28.2        Yes            No   \n",
       "\n",
       "   RainTomorrow2  RainToday2  \n",
       "0              0           0  \n",
       "1              0           0  \n",
       "2              0           0  \n",
       "3              0           0  \n",
       "4              0           0  \n",
       "5              0           0  \n",
       "6              0           0  \n",
       "7              0           0  \n",
       "8              1           0  \n",
       "9              0           1  \n",
       "\n",
       "[10 rows x 25 columns]"
      ]
     },
     "execution_count": 6,
     "metadata": {},
     "output_type": "execute_result"
    }
   ],
   "source": [
    "#let's see the result\n",
    "\n",
    "weather.head(10)"
   ]
  },
  {
   "cell_type": "markdown",
   "metadata": {},
   "source": [
    "### (i) \n",
    "\n",
    "#### ${2}$"
   ]
  },
  {
   "cell_type": "markdown",
   "metadata": {},
   "source": [
    "####  There are many NA values in the data set, but we cannot use these. Remove every row containing NAs from the data set."
   ]
  },
  {
   "cell_type": "code",
   "execution_count": 7,
   "metadata": {},
   "outputs": [],
   "source": [
    "# Reset index after drop\n",
    "\n",
    "weather=weather.dropna(axis=0).reset_index(drop=True)"
   ]
  },
  {
   "cell_type": "code",
   "execution_count": 8,
   "metadata": {},
   "outputs": [
    {
     "data": {
      "text/plain": [
       "<AxesSubplot:>"
      ]
     },
     "execution_count": 8,
     "metadata": {},
     "output_type": "execute_result"
    },
    {
     "data": {
      "image/png": "[encoded data removed]",
      "text/plain": [
       "<Figure size 1800x720 with 2 Axes>"
      ]
     },
     "metadata": {},
     "output_type": "display_data"
    }
   ],
   "source": [
    "#using msno to check if we have dropped all the rows containing\n",
    "\n",
    "sns.set(style = 'ticks') \n",
    "\n",
    "msno.matrix(weather)"
   ]
  },
  {
   "cell_type": "markdown",
   "metadata": {},
   "source": [
    "### (ii) \n",
    "\n",
    "#### ${1}$ How many unique values are there in the Date column?\n",
    "\n",
    "3416\n",
    "\n",
    "#### ${2}$ How many unique values are there in the Location column?\n",
    "\n",
    "26\n",
    "\n",
    "#### ${3}$ It’s not possible to fit RainTomorrow ~ Date * Location. Why?"
   ]
  },
  {
   "cell_type": "markdown",
   "metadata": {},
   "source": [
    "It is not possible to fit ${\"RainTomorrow ~ Date * Location\"}$ because for following reasons:"
   ]
  },
  {
   "cell_type": "markdown",
   "metadata": {},
   "source": [
    "- Date is not really relavent"
   ]
  },
  {
   "cell_type": "markdown",
   "metadata": {},
   "source": [
    "\n",
    "- The Date and Location cardinality are high and it can create collinearity or other issues"
   ]
  },
  {
   "cell_type": "code",
   "execution_count": 9,
   "metadata": {},
   "outputs": [
    {
     "data": {
      "text/plain": [
       "3416"
      ]
     },
     "execution_count": 9,
     "metadata": {},
     "output_type": "execute_result"
    }
   ],
   "source": [
    "weather.Date.nunique()"
   ]
  },
  {
   "cell_type": "code",
   "execution_count": 10,
   "metadata": {},
   "outputs": [
    {
     "data": {
      "text/plain": [
       "26"
      ]
     },
     "execution_count": 10,
     "metadata": {},
     "output_type": "execute_result"
    }
   ],
   "source": [
    "weather.Location.nunique()"
   ]
  },
  {
   "cell_type": "markdown",
   "metadata": {},
   "source": [
    "#### ${4}$ We won’t be using Date anymore, so remove Date from the weather data."
   ]
  },
  {
   "cell_type": "code",
   "execution_count": 11,
   "metadata": {},
   "outputs": [],
   "source": [
    "weather = weather.drop('Date', axis=1)"
   ]
  },
  {
   "cell_type": "code",
   "execution_count": 12,
   "metadata": {
    "collapsed": true
   },
   "outputs": [
    {
     "data": {
      "text/html": [
       "<div>\n",
       "<style scoped>\n",
       "    .dataframe tbody tr th:only-of-type {\n",
       "        vertical-align: middle;\n",
       "    }\n",
       "\n",
       "    .dataframe tbody tr th {\n",
       "        vertical-align: top;\n",
       "    }\n",
       "\n",
       "    .dataframe thead th {\n",
       "        text-align: right;\n",
       "    }\n",
       "</style>\n",
       "<table border=\"1\" class=\"dataframe\">\n",
       "  <thead>\n",
       "    <tr style=\"text-align: right;\">\n",
       "      <th></th>\n",
       "      <th>Location</th>\n",
       "      <th>MinTemp</th>\n",
       "      <th>MaxTemp</th>\n",
       "      <th>Rainfall</th>\n",
       "      <th>Evaporation</th>\n",
       "      <th>Sunshine</th>\n",
       "      <th>WindGustDir</th>\n",
       "      <th>WindGustSpeed</th>\n",
       "      <th>WindDir9am</th>\n",
       "      <th>WindDir3pm</th>\n",
       "      <th>...</th>\n",
       "      <th>Pressure9am</th>\n",
       "      <th>Pressure3pm</th>\n",
       "      <th>Cloud9am</th>\n",
       "      <th>Cloud3pm</th>\n",
       "      <th>Temp9am</th>\n",
       "      <th>Temp3pm</th>\n",
       "      <th>RainToday</th>\n",
       "      <th>RainTomorrow</th>\n",
       "      <th>RainTomorrow2</th>\n",
       "      <th>RainToday2</th>\n",
       "    </tr>\n",
       "  </thead>\n",
       "  <tbody>\n",
       "    <tr>\n",
       "      <th>0</th>\n",
       "      <td>Cobar</td>\n",
       "      <td>17.9</td>\n",
       "      <td>35.2</td>\n",
       "      <td>0.0</td>\n",
       "      <td>12.0</td>\n",
       "      <td>12.3</td>\n",
       "      <td>SSW</td>\n",
       "      <td>48.0</td>\n",
       "      <td>ENE</td>\n",
       "      <td>SW</td>\n",
       "      <td>...</td>\n",
       "      <td>1006.3</td>\n",
       "      <td>1004.4</td>\n",
       "      <td>2.0</td>\n",
       "      <td>5.0</td>\n",
       "      <td>26.6</td>\n",
       "      <td>33.4</td>\n",
       "      <td>No</td>\n",
       "      <td>No</td>\n",
       "      <td>0</td>\n",
       "      <td>0</td>\n",
       "    </tr>\n",
       "    <tr>\n",
       "      <th>1</th>\n",
       "      <td>Cobar</td>\n",
       "      <td>18.4</td>\n",
       "      <td>28.9</td>\n",
       "      <td>0.0</td>\n",
       "      <td>14.8</td>\n",
       "      <td>13.0</td>\n",
       "      <td>S</td>\n",
       "      <td>37.0</td>\n",
       "      <td>SSE</td>\n",
       "      <td>SSE</td>\n",
       "      <td>...</td>\n",
       "      <td>1012.9</td>\n",
       "      <td>1012.1</td>\n",
       "      <td>1.0</td>\n",
       "      <td>1.0</td>\n",
       "      <td>20.3</td>\n",
       "      <td>27.0</td>\n",
       "      <td>No</td>\n",
       "      <td>No</td>\n",
       "      <td>0</td>\n",
       "      <td>0</td>\n",
       "    </tr>\n",
       "    <tr>\n",
       "      <th>2</th>\n",
       "      <td>Cobar</td>\n",
       "      <td>19.4</td>\n",
       "      <td>37.6</td>\n",
       "      <td>0.0</td>\n",
       "      <td>10.8</td>\n",
       "      <td>10.6</td>\n",
       "      <td>NNE</td>\n",
       "      <td>46.0</td>\n",
       "      <td>NNE</td>\n",
       "      <td>NNW</td>\n",
       "      <td>...</td>\n",
       "      <td>1012.3</td>\n",
       "      <td>1009.2</td>\n",
       "      <td>1.0</td>\n",
       "      <td>6.0</td>\n",
       "      <td>28.7</td>\n",
       "      <td>34.9</td>\n",
       "      <td>No</td>\n",
       "      <td>No</td>\n",
       "      <td>0</td>\n",
       "      <td>0</td>\n",
       "    </tr>\n",
       "    <tr>\n",
       "      <th>3</th>\n",
       "      <td>Cobar</td>\n",
       "      <td>21.9</td>\n",
       "      <td>38.4</td>\n",
       "      <td>0.0</td>\n",
       "      <td>11.4</td>\n",
       "      <td>12.2</td>\n",
       "      <td>WNW</td>\n",
       "      <td>31.0</td>\n",
       "      <td>WNW</td>\n",
       "      <td>WSW</td>\n",
       "      <td>...</td>\n",
       "      <td>1012.7</td>\n",
       "      <td>1009.1</td>\n",
       "      <td>1.0</td>\n",
       "      <td>5.0</td>\n",
       "      <td>29.1</td>\n",
       "      <td>35.6</td>\n",
       "      <td>No</td>\n",
       "      <td>No</td>\n",
       "      <td>0</td>\n",
       "      <td>0</td>\n",
       "    </tr>\n",
       "    <tr>\n",
       "      <th>4</th>\n",
       "      <td>Cobar</td>\n",
       "      <td>24.2</td>\n",
       "      <td>41.0</td>\n",
       "      <td>0.0</td>\n",
       "      <td>11.2</td>\n",
       "      <td>8.4</td>\n",
       "      <td>WNW</td>\n",
       "      <td>35.0</td>\n",
       "      <td>NW</td>\n",
       "      <td>WNW</td>\n",
       "      <td>...</td>\n",
       "      <td>1010.7</td>\n",
       "      <td>1007.4</td>\n",
       "      <td>1.0</td>\n",
       "      <td>6.0</td>\n",
       "      <td>33.6</td>\n",
       "      <td>37.6</td>\n",
       "      <td>No</td>\n",
       "      <td>No</td>\n",
       "      <td>0</td>\n",
       "      <td>0</td>\n",
       "    </tr>\n",
       "    <tr>\n",
       "      <th>...</th>\n",
       "      <td>...</td>\n",
       "      <td>...</td>\n",
       "      <td>...</td>\n",
       "      <td>...</td>\n",
       "      <td>...</td>\n",
       "      <td>...</td>\n",
       "      <td>...</td>\n",
       "      <td>...</td>\n",
       "      <td>...</td>\n",
       "      <td>...</td>\n",
       "      <td>...</td>\n",
       "      <td>...</td>\n",
       "      <td>...</td>\n",
       "      <td>...</td>\n",
       "      <td>...</td>\n",
       "      <td>...</td>\n",
       "      <td>...</td>\n",
       "      <td>...</td>\n",
       "      <td>...</td>\n",
       "      <td>...</td>\n",
       "      <td>...</td>\n",
       "    </tr>\n",
       "    <tr>\n",
       "      <th>56415</th>\n",
       "      <td>Darwin</td>\n",
       "      <td>19.3</td>\n",
       "      <td>33.4</td>\n",
       "      <td>0.0</td>\n",
       "      <td>6.0</td>\n",
       "      <td>11.0</td>\n",
       "      <td>ENE</td>\n",
       "      <td>35.0</td>\n",
       "      <td>SE</td>\n",
       "      <td>NE</td>\n",
       "      <td>...</td>\n",
       "      <td>1013.9</td>\n",
       "      <td>1010.5</td>\n",
       "      <td>0.0</td>\n",
       "      <td>1.0</td>\n",
       "      <td>24.5</td>\n",
       "      <td>32.3</td>\n",
       "      <td>No</td>\n",
       "      <td>No</td>\n",
       "      <td>0</td>\n",
       "      <td>0</td>\n",
       "    </tr>\n",
       "    <tr>\n",
       "      <th>56416</th>\n",
       "      <td>Darwin</td>\n",
       "      <td>21.2</td>\n",
       "      <td>32.6</td>\n",
       "      <td>0.0</td>\n",
       "      <td>7.6</td>\n",
       "      <td>8.6</td>\n",
       "      <td>E</td>\n",
       "      <td>37.0</td>\n",
       "      <td>SE</td>\n",
       "      <td>SE</td>\n",
       "      <td>...</td>\n",
       "      <td>1014.6</td>\n",
       "      <td>1011.2</td>\n",
       "      <td>7.0</td>\n",
       "      <td>0.0</td>\n",
       "      <td>24.8</td>\n",
       "      <td>32.0</td>\n",
       "      <td>No</td>\n",
       "      <td>No</td>\n",
       "      <td>0</td>\n",
       "      <td>0</td>\n",
       "    </tr>\n",
       "    <tr>\n",
       "      <th>56417</th>\n",
       "      <td>Darwin</td>\n",
       "      <td>20.7</td>\n",
       "      <td>32.8</td>\n",
       "      <td>0.0</td>\n",
       "      <td>5.6</td>\n",
       "      <td>11.0</td>\n",
       "      <td>E</td>\n",
       "      <td>33.0</td>\n",
       "      <td>E</td>\n",
       "      <td>W</td>\n",
       "      <td>...</td>\n",
       "      <td>1015.3</td>\n",
       "      <td>1011.8</td>\n",
       "      <td>0.0</td>\n",
       "      <td>0.0</td>\n",
       "      <td>24.8</td>\n",
       "      <td>32.1</td>\n",
       "      <td>No</td>\n",
       "      <td>No</td>\n",
       "      <td>0</td>\n",
       "      <td>0</td>\n",
       "    </tr>\n",
       "    <tr>\n",
       "      <th>56418</th>\n",
       "      <td>Darwin</td>\n",
       "      <td>19.5</td>\n",
       "      <td>31.8</td>\n",
       "      <td>0.0</td>\n",
       "      <td>6.2</td>\n",
       "      <td>10.6</td>\n",
       "      <td>ESE</td>\n",
       "      <td>26.0</td>\n",
       "      <td>SE</td>\n",
       "      <td>NNW</td>\n",
       "      <td>...</td>\n",
       "      <td>1014.9</td>\n",
       "      <td>1010.7</td>\n",
       "      <td>1.0</td>\n",
       "      <td>1.0</td>\n",
       "      <td>24.8</td>\n",
       "      <td>29.2</td>\n",
       "      <td>No</td>\n",
       "      <td>No</td>\n",
       "      <td>0</td>\n",
       "      <td>0</td>\n",
       "    </tr>\n",
       "    <tr>\n",
       "      <th>56419</th>\n",
       "      <td>Darwin</td>\n",
       "      <td>20.2</td>\n",
       "      <td>31.7</td>\n",
       "      <td>0.0</td>\n",
       "      <td>5.6</td>\n",
       "      <td>10.7</td>\n",
       "      <td>ENE</td>\n",
       "      <td>30.0</td>\n",
       "      <td>ENE</td>\n",
       "      <td>NNW</td>\n",
       "      <td>...</td>\n",
       "      <td>1013.9</td>\n",
       "      <td>1009.7</td>\n",
       "      <td>6.0</td>\n",
       "      <td>5.0</td>\n",
       "      <td>25.4</td>\n",
       "      <td>31.0</td>\n",
       "      <td>No</td>\n",
       "      <td>No</td>\n",
       "      <td>0</td>\n",
       "      <td>0</td>\n",
       "    </tr>\n",
       "  </tbody>\n",
       "</table>\n",
       "<p>56420 rows × 24 columns</p>\n",
       "</div>"
      ],
      "text/plain": [
       "      Location  MinTemp  MaxTemp  Rainfall  Evaporation  Sunshine WindGustDir  \\\n",
       "0        Cobar     17.9     35.2       0.0         12.0      12.3         SSW   \n",
       "1        Cobar     18.4     28.9       0.0         14.8      13.0           S   \n",
       "2        Cobar     19.4     37.6       0.0         10.8      10.6         NNE   \n",
       "3        Cobar     21.9     38.4       0.0         11.4      12.2         WNW   \n",
       "4        Cobar     24.2     41.0       0.0         11.2       8.4         WNW   \n",
       "...        ...      ...      ...       ...          ...       ...         ...   \n",
       "56415   Darwin     19.3     33.4       0.0          6.0      11.0         ENE   \n",
       "56416   Darwin     21.2     32.6       0.0          7.6       8.6           E   \n",
       "56417   Darwin     20.7     32.8       0.0          5.6      11.0           E   \n",
       "56418   Darwin     19.5     31.8       0.0          6.2      10.6         ESE   \n",
       "56419   Darwin     20.2     31.7       0.0          5.6      10.7         ENE   \n",
       "\n",
       "       WindGustSpeed WindDir9am WindDir3pm  ...  Pressure9am  Pressure3pm  \\\n",
       "0               48.0        ENE         SW  ...       1006.3       1004.4   \n",
       "1               37.0        SSE        SSE  ...       1012.9       1012.1   \n",
       "2               46.0        NNE        NNW  ...       1012.3       1009.2   \n",
       "3               31.0        WNW        WSW  ...       1012.7       1009.1   \n",
       "4               35.0         NW        WNW  ...       1010.7       1007.4   \n",
       "...              ...        ...        ...  ...          ...          ...   \n",
       "56415           35.0         SE         NE  ...       1013.9       1010.5   \n",
       "56416           37.0         SE         SE  ...       1014.6       1011.2   \n",
       "56417           33.0          E          W  ...       1015.3       1011.8   \n",
       "56418           26.0         SE        NNW  ...       1014.9       1010.7   \n",
       "56419           30.0        ENE        NNW  ...       1013.9       1009.7   \n",
       "\n",
       "       Cloud9am  Cloud3pm  Temp9am  Temp3pm  RainToday  RainTomorrow  \\\n",
       "0           2.0       5.0     26.6     33.4         No            No   \n",
       "1           1.0       1.0     20.3     27.0         No            No   \n",
       "2           1.0       6.0     28.7     34.9         No            No   \n",
       "3           1.0       5.0     29.1     35.6         No            No   \n",
       "4           1.0       6.0     33.6     37.6         No            No   \n",
       "...         ...       ...      ...      ...        ...           ...   \n",
       "56415       0.0       1.0     24.5     32.3         No            No   \n",
       "56416       7.0       0.0     24.8     32.0         No            No   \n",
       "56417       0.0       0.0     24.8     32.1         No            No   \n",
       "56418       1.0       1.0     24.8     29.2         No            No   \n",
       "56419       6.0       5.0     25.4     31.0         No            No   \n",
       "\n",
       "       RainTomorrow2  RainToday2  \n",
       "0                  0           0  \n",
       "1                  0           0  \n",
       "2                  0           0  \n",
       "3                  0           0  \n",
       "4                  0           0  \n",
       "...              ...         ...  \n",
       "56415              0           0  \n",
       "56416              0           0  \n",
       "56417              0           0  \n",
       "56418              0           0  \n",
       "56419              0           0  \n",
       "\n",
       "[56420 rows x 24 columns]"
      ]
     },
     "execution_count": 12,
     "metadata": {},
     "output_type": "execute_result"
    }
   ],
   "source": [
    "weather"
   ]
  },
  {
   "cell_type": "markdown",
   "metadata": {},
   "source": [
    "### (iii) \n",
    "\n",
    "#### What are the unique locations in the data set? Display each unique location along with how many times it appears in the data set."
   ]
  },
  {
   "cell_type": "code",
   "execution_count": 13,
   "metadata": {
    "scrolled": true
   },
   "outputs": [
    {
     "data": {
      "text/plain": [
       "Darwin              3062\n",
       "Perth               3025\n",
       "Brisbane            2953\n",
       "MelbourneAirport    2929\n",
       "PerthAirport        2913\n",
       "SydneyAirport       2870\n",
       "Watsonia            2730\n",
       "Mildura             2594\n",
       "MountGambier        2465\n",
       "NorfolkIsland       2464\n",
       "Cairns              2444\n",
       "Townsville          2419\n",
       "WaggaWagga          2416\n",
       "AliceSprings        2223\n",
       "Nuriootpa           2008\n",
       "Hobart              1939\n",
       "Moree               1913\n",
       "Melbourne           1898\n",
       "Portland            1863\n",
       "Woomera             1734\n",
       "Sydney              1690\n",
       "Sale                1678\n",
       "CoffsHarbour        1380\n",
       "Williamtown         1198\n",
       "Canberra            1078\n",
       "Cobar                534\n",
       "Name: Location, dtype: int64"
      ]
     },
     "execution_count": 13,
     "metadata": {},
     "output_type": "execute_result"
    }
   ],
   "source": [
    "weather.Location.value_counts()"
   ]
  },
  {
   "cell_type": "markdown",
   "metadata": {},
   "source": [
    "### (iii) \n",
    "\n",
    "#### ${1}$ List all the possible wind directions."
   ]
  },
  {
   "cell_type": "code",
   "execution_count": 14,
   "metadata": {},
   "outputs": [
    {
     "data": {
      "text/plain": [
       "E      4516\n",
       "N      4210\n",
       "W      4161\n",
       "SW     4052\n",
       "ENE    4028\n",
       "SE     3930\n",
       "SSW    3898\n",
       "WSW    3791\n",
       "S      3636\n",
       "ESE    3312\n",
       "SSE    3295\n",
       "NE     3185\n",
       "WNW    2989\n",
       "NW     2612\n",
       "NNE    2516\n",
       "NNW    2289\n",
       "Name: WindGustDir, dtype: int64"
      ]
     },
     "execution_count": 14,
     "metadata": {},
     "output_type": "execute_result"
    }
   ],
   "source": [
    "weather.WindGustDir.value_counts()"
   ]
  },
  {
   "cell_type": "markdown",
   "metadata": {},
   "source": [
    "### (iii) \n",
    "\n",
    "#### ${2}$ What are the wind direction covariaties? Do all of them have the same set of possible wind directions?\n",
    "\n",
    "As we can see the Wind Covariates are not the same at all."
   ]
  },
  {
   "cell_type": "code",
   "execution_count": 15,
   "metadata": {},
   "outputs": [
    {
     "data": {
      "text/plain": [
       "0        False\n",
       "1        False\n",
       "2         True\n",
       "3         True\n",
       "4        False\n",
       "         ...  \n",
       "56415    False\n",
       "56416    False\n",
       "56417     True\n",
       "56418    False\n",
       "56419     True\n",
       "Length: 56420, dtype: bool"
      ]
     },
     "execution_count": 15,
     "metadata": {},
     "output_type": "execute_result"
    }
   ],
   "source": [
    "weather.WindGustDir == weather.WindDir9am"
   ]
  },
  {
   "cell_type": "code",
   "execution_count": 16,
   "metadata": {},
   "outputs": [
    {
     "data": {
      "text/plain": [
       "0        False\n",
       "1        False\n",
       "2        False\n",
       "3        False\n",
       "4         True\n",
       "         ...  \n",
       "56415    False\n",
       "56416    False\n",
       "56417    False\n",
       "56418    False\n",
       "56419    False\n",
       "Length: 56420, dtype: bool"
      ]
     },
     "execution_count": 16,
     "metadata": {},
     "output_type": "execute_result"
    }
   ],
   "source": [
    "weather.WindGustDir == weather.WindDir3pm"
   ]
  },
  {
   "cell_type": "markdown",
   "metadata": {},
   "source": [
    "### (iii) \n",
    "\n",
    "#### ${3}$ How many parameters are fitted in the model \"RainTomorrow ~ WindGustDir\"?\n",
    "\n",
    "There are 16 parameters fitted in the model."
   ]
  },
  {
   "cell_type": "code",
   "execution_count": 17,
   "metadata": {},
   "outputs": [
    {
     "data": {
      "text/plain": [
       "16"
      ]
     },
     "execution_count": 17,
     "metadata": {},
     "output_type": "execute_result"
    }
   ],
   "source": [
    "fit = smf.ols(\"RainTomorrow2 ~ C(WindGustDir)\", data = weather).fit()\n",
    "\n",
    "fit.params.count()"
   ]
  },
  {
   "cell_type": "markdown",
   "metadata": {},
   "source": [
    "## (b) Location\n",
    "\n",
    "### (i) \n",
    "\n",
    "#### ${1}$ What is the probability of rain tomorrow in AliceSprings? 0.08412055780476839"
   ]
  },
  {
   "cell_type": "markdown",
   "metadata": {},
   "source": [
    "the probability in calculation is calculated as follows:\n",
    "\n",
    "# ${p=}\\frac{e^{ \\beta X^ {T}}}{1 + {e^{ \\beta X^ {T}}}}$"
   ]
  },
  {
   "cell_type": "code",
   "execution_count": 18,
   "metadata": {},
   "outputs": [
    {
     "name": "stdout",
     "output_type": "stream",
     "text": [
      "Optimization terminated successfully.\n",
      "         Current function value: 0.511888\n",
      "         Iterations 6\n"
     ]
    }
   ],
   "source": [
    "model = smf.logit(\"RainTomorrow2 ~ Location - 1\", data=weather).fit()\n",
    "probp= model.params \n",
    "alicesprings = probp[0]"
   ]
  },
  {
   "cell_type": "markdown",
   "metadata": {},
   "source": [
    "to predict AliceSpring probability: \n",
    "\n",
    "# ${p=}\\frac{e^{ \\beta[AliceSprings]}}{1 + {e^{ \\beta [AliceSprings]}}} {=} \\frac{e^{ -2.387633760815826}}{1 + {e^{ \\beta -2.387633760815826}}}$"
   ]
  },
  {
   "cell_type": "code",
   "execution_count": 19,
   "metadata": {},
   "outputs": [
    {
     "data": {
      "text/plain": [
       "0.08412055780476839"
      ]
     },
     "execution_count": 19,
     "metadata": {},
     "output_type": "execute_result"
    }
   ],
   "source": [
    "( np.e**(alicesprings) ) / ( 1 + (np.e**(alicesprings)))"
   ]
  },
  {
   "cell_type": "markdown",
   "metadata": {},
   "source": [
    "### (i) \n",
    "\n",
    "#### ${2}$ Which location has the smallest probability of rain? And what is the probability? "
   ]
  },
  {
   "cell_type": "code",
   "execution_count": 20,
   "metadata": {},
   "outputs": [],
   "source": [
    "my_params = probp.to_list()\n",
    "\n",
    "def prob(x):\n",
    "    \n",
    "    for i in x:\n",
    "        \n",
    "        probability = ( np.e**(i) ) / ( 1 + (np.e**(i)))\n",
    "        \n",
    "        print(probability)\n",
    "        \n",
    "#using function we can get the probability "
   ]
  },
  {
   "cell_type": "code",
   "execution_count": 21,
   "metadata": {},
   "outputs": [],
   "source": [
    "#and now using it to fit into my table\n",
    "\n",
    "probability = [0.08412055780476839,0.21740602776837123,0.30728314238952537,0.20315398886827452,0.11797752808988769,0.31231884057971016,0.25767472240365774,0.2413615265600825,0.24815595363540557,0.2171389552748379,0.11141094834232851,0.13486670151594352,0.2969574036511156,0.30154220779220775,0.19372509960159362,0.20363636363636367,0.1898386543082732,0.4004294149221686,0.21394517282479142,0.2461538461538462,0.24912891986062716,0.16287722199255877,0.17673841059602646,0.2505494505494505,0.2671118530884808,0.07439446366782018]\n",
    "\n",
    "probabi = pd.DataFrame(probability, columns =['Probability'], dtype = float)"
   ]
  },
  {
   "cell_type": "code",
   "execution_count": 22,
   "metadata": {},
   "outputs": [
    {
     "name": "stdout",
     "output_type": "stream",
     "text": [
      "Optimization terminated successfully.\n",
      "         Current function value: 0.511888\n",
      "         Iterations 6\n"
     ]
    }
   ],
   "source": [
    "modell = smf.logit(\"RainTomorrow2 ~ Location - 1\", data=weather).fit()\n",
    "\n",
    "table = modell.conf_int()\n",
    "\n",
    "table.reindex(table.abs().index).reset_index()\n",
    "\n",
    "table.columns = [\"Conf_0.025\", \"Conf_0.975\"]\n",
    "\n",
    "table['Probability'] = probabi.iloc[:,0].values"
   ]
  },
  {
   "cell_type": "code",
   "execution_count": 23,
   "metadata": {},
   "outputs": [
    {
     "data": {
      "text/html": [
       "<div>\n",
       "<style scoped>\n",
       "    .dataframe tbody tr th:only-of-type {\n",
       "        vertical-align: middle;\n",
       "    }\n",
       "\n",
       "    .dataframe tbody tr th {\n",
       "        vertical-align: top;\n",
       "    }\n",
       "\n",
       "    .dataframe thead th {\n",
       "        text-align: right;\n",
       "    }\n",
       "</style>\n",
       "<table border=\"1\" class=\"dataframe\">\n",
       "  <thead>\n",
       "    <tr style=\"text-align: right;\">\n",
       "      <th></th>\n",
       "      <th>Conf_0.025</th>\n",
       "      <th>Conf_0.975</th>\n",
       "      <th>Probability</th>\n",
       "    </tr>\n",
       "  </thead>\n",
       "  <tbody>\n",
       "    <tr>\n",
       "      <th>Location[Portland]</th>\n",
       "      <td>-0.496350</td>\n",
       "      <td>-0.311002</td>\n",
       "      <td>0.400429</td>\n",
       "    </tr>\n",
       "    <tr>\n",
       "      <th>Location[CoffsHarbour]</th>\n",
       "      <td>-0.903146</td>\n",
       "      <td>-0.675455</td>\n",
       "      <td>0.312319</td>\n",
       "    </tr>\n",
       "    <tr>\n",
       "      <th>Location[Cairns]</th>\n",
       "      <td>-0.898783</td>\n",
       "      <td>-0.726921</td>\n",
       "      <td>0.307283</td>\n",
       "    </tr>\n",
       "    <tr>\n",
       "      <th>Location[NorfolkIsland]</th>\n",
       "      <td>-0.926001</td>\n",
       "      <td>-0.753928</td>\n",
       "      <td>0.301542</td>\n",
       "    </tr>\n",
       "    <tr>\n",
       "      <th>Location[MountGambier]</th>\n",
       "      <td>-0.948226</td>\n",
       "      <td>-0.775431</td>\n",
       "      <td>0.296957</td>\n",
       "    </tr>\n",
       "    <tr>\n",
       "      <th>Location[Williamtown]</th>\n",
       "      <td>-1.137309</td>\n",
       "      <td>-0.881342</td>\n",
       "      <td>0.267112</td>\n",
       "    </tr>\n",
       "    <tr>\n",
       "      <th>Location[Darwin]</th>\n",
       "      <td>-1.139076</td>\n",
       "      <td>-0.977103</td>\n",
       "      <td>0.257675</td>\n",
       "    </tr>\n",
       "    <tr>\n",
       "      <th>Location[Watsonia]</th>\n",
       "      <td>-1.182250</td>\n",
       "      <td>-1.009118</td>\n",
       "      <td>0.250549</td>\n",
       "    </tr>\n",
       "    <tr>\n",
       "      <th>Location[SydneyAirport]</th>\n",
       "      <td>-1.187852</td>\n",
       "      <td>-1.018675</td>\n",
       "      <td>0.249129</td>\n",
       "    </tr>\n",
       "    <tr>\n",
       "      <th>Location[Melbourne]</th>\n",
       "      <td>-1.212625</td>\n",
       "      <td>-1.004318</td>\n",
       "      <td>0.248156</td>\n",
       "    </tr>\n",
       "    <tr>\n",
       "      <th>Location[Sydney]</th>\n",
       "      <td>-1.229909</td>\n",
       "      <td>-1.008554</td>\n",
       "      <td>0.246154</td>\n",
       "    </tr>\n",
       "    <tr>\n",
       "      <th>Location[Hobart]</th>\n",
       "      <td>-1.249247</td>\n",
       "      <td>-1.041212</td>\n",
       "      <td>0.241362</td>\n",
       "    </tr>\n",
       "    <tr>\n",
       "      <th>Location[Brisbane]</th>\n",
       "      <td>-1.368288</td>\n",
       "      <td>-1.193407</td>\n",
       "      <td>0.217406</td>\n",
       "    </tr>\n",
       "    <tr>\n",
       "      <th>Location[MelbourneAirport]</th>\n",
       "      <td>-1.370255</td>\n",
       "      <td>-1.194581</td>\n",
       "      <td>0.217139</td>\n",
       "    </tr>\n",
       "    <tr>\n",
       "      <th>Location[Sale]</th>\n",
       "      <td>-1.417981</td>\n",
       "      <td>-1.184633</td>\n",
       "      <td>0.213945</td>\n",
       "    </tr>\n",
       "    <tr>\n",
       "      <th>Location[Perth]</th>\n",
       "      <td>-1.452212</td>\n",
       "      <td>-1.275228</td>\n",
       "      <td>0.203636</td>\n",
       "    </tr>\n",
       "    <tr>\n",
       "      <th>Location[Canberra]</th>\n",
       "      <td>-1.515065</td>\n",
       "      <td>-1.218330</td>\n",
       "      <td>0.203154</td>\n",
       "    </tr>\n",
       "    <tr>\n",
       "      <th>Location[Nuriootpa]</th>\n",
       "      <td>-1.536655</td>\n",
       "      <td>-1.315314</td>\n",
       "      <td>0.193725</td>\n",
       "    </tr>\n",
       "    <tr>\n",
       "      <th>Location[PerthAirport]</th>\n",
       "      <td>-1.543657</td>\n",
       "      <td>-1.358461</td>\n",
       "      <td>0.189839</td>\n",
       "    </tr>\n",
       "    <tr>\n",
       "      <th>Location[WaggaWagga]</th>\n",
       "      <td>-1.643139</td>\n",
       "      <td>-1.434067</td>\n",
       "      <td>0.176738</td>\n",
       "    </tr>\n",
       "    <tr>\n",
       "      <th>Location[Townsville]</th>\n",
       "      <td>-1.744895</td>\n",
       "      <td>-1.529053</td>\n",
       "      <td>0.162877</td>\n",
       "    </tr>\n",
       "    <tr>\n",
       "      <th>Location[Moree]</th>\n",
       "      <td>-1.989785</td>\n",
       "      <td>-1.727408</td>\n",
       "      <td>0.134867</td>\n",
       "    </tr>\n",
       "    <tr>\n",
       "      <th>Location[Cobar]</th>\n",
       "      <td>-2.274652</td>\n",
       "      <td>-1.748795</td>\n",
       "      <td>0.117978</td>\n",
       "    </tr>\n",
       "    <tr>\n",
       "      <th>Location[Mildura]</th>\n",
       "      <td>-2.198716</td>\n",
       "      <td>-1.954103</td>\n",
       "      <td>0.111411</td>\n",
       "    </tr>\n",
       "    <tr>\n",
       "      <th>Location[AliceSprings]</th>\n",
       "      <td>-2.537398</td>\n",
       "      <td>-2.237870</td>\n",
       "      <td>0.084121</td>\n",
       "    </tr>\n",
       "    <tr>\n",
       "      <th>Location[Woomera]</th>\n",
       "      <td>-2.700433</td>\n",
       "      <td>-2.341701</td>\n",
       "      <td>0.074394</td>\n",
       "    </tr>\n",
       "  </tbody>\n",
       "</table>\n",
       "</div>"
      ],
      "text/plain": [
       "                            Conf_0.025  Conf_0.975  Probability\n",
       "Location[Portland]           -0.496350   -0.311002     0.400429\n",
       "Location[CoffsHarbour]       -0.903146   -0.675455     0.312319\n",
       "Location[Cairns]             -0.898783   -0.726921     0.307283\n",
       "Location[NorfolkIsland]      -0.926001   -0.753928     0.301542\n",
       "Location[MountGambier]       -0.948226   -0.775431     0.296957\n",
       "Location[Williamtown]        -1.137309   -0.881342     0.267112\n",
       "Location[Darwin]             -1.139076   -0.977103     0.257675\n",
       "Location[Watsonia]           -1.182250   -1.009118     0.250549\n",
       "Location[SydneyAirport]      -1.187852   -1.018675     0.249129\n",
       "Location[Melbourne]          -1.212625   -1.004318     0.248156\n",
       "Location[Sydney]             -1.229909   -1.008554     0.246154\n",
       "Location[Hobart]             -1.249247   -1.041212     0.241362\n",
       "Location[Brisbane]           -1.368288   -1.193407     0.217406\n",
       "Location[MelbourneAirport]   -1.370255   -1.194581     0.217139\n",
       "Location[Sale]               -1.417981   -1.184633     0.213945\n",
       "Location[Perth]              -1.452212   -1.275228     0.203636\n",
       "Location[Canberra]           -1.515065   -1.218330     0.203154\n",
       "Location[Nuriootpa]          -1.536655   -1.315314     0.193725\n",
       "Location[PerthAirport]       -1.543657   -1.358461     0.189839\n",
       "Location[WaggaWagga]         -1.643139   -1.434067     0.176738\n",
       "Location[Townsville]         -1.744895   -1.529053     0.162877\n",
       "Location[Moree]              -1.989785   -1.727408     0.134867\n",
       "Location[Cobar]              -2.274652   -1.748795     0.117978\n",
       "Location[Mildura]            -2.198716   -1.954103     0.111411\n",
       "Location[AliceSprings]       -2.537398   -2.237870     0.084121\n",
       "Location[Woomera]            -2.700433   -2.341701     0.074394"
      ]
     },
     "execution_count": 23,
     "metadata": {},
     "output_type": "execute_result"
    }
   ],
   "source": [
    "table.sort_values(by=['Probability'], ascending=False)"
   ]
  },
  {
   "cell_type": "markdown",
   "metadata": {},
   "source": [
    "Thus,\n",
    "\n",
    "- Location[Woomera]\thas the smallest probability of rain tomorrow.\n",
    "- Its probability is 0.074394"
   ]
  },
  {
   "cell_type": "markdown",
   "metadata": {},
   "source": [
    "### (i) \n",
    "\n",
    "#### ${3}$ Which location has the highest probability of rain? And what is the probability?"
   ]
  },
  {
   "cell_type": "markdown",
   "metadata": {},
   "source": [
    "- Location[Portland] has the highest probability of rain tomorrow.\n",
    "- Its probability is 0.400429"
   ]
  },
  {
   "cell_type": "markdown",
   "metadata": {},
   "source": [
    "### (ii) \n",
    "\n",
    "#### ${1}$ Make a table that displays the probability of rain tomorrow for each location along with a confidence interval. Be sure to include AliceSprings!"
   ]
  },
  {
   "cell_type": "code",
   "execution_count": 24,
   "metadata": {},
   "outputs": [
    {
     "data": {
      "text/html": [
       "<div>\n",
       "<style scoped>\n",
       "    .dataframe tbody tr th:only-of-type {\n",
       "        vertical-align: middle;\n",
       "    }\n",
       "\n",
       "    .dataframe tbody tr th {\n",
       "        vertical-align: top;\n",
       "    }\n",
       "\n",
       "    .dataframe thead th {\n",
       "        text-align: right;\n",
       "    }\n",
       "</style>\n",
       "<table border=\"1\" class=\"dataframe\">\n",
       "  <thead>\n",
       "    <tr style=\"text-align: right;\">\n",
       "      <th></th>\n",
       "      <th>Conf_0.025</th>\n",
       "      <th>Conf_0.975</th>\n",
       "      <th>Probability</th>\n",
       "    </tr>\n",
       "  </thead>\n",
       "  <tbody>\n",
       "    <tr>\n",
       "      <th>Location[AliceSprings]</th>\n",
       "      <td>-2.537398</td>\n",
       "      <td>-2.237870</td>\n",
       "      <td>0.084121</td>\n",
       "    </tr>\n",
       "    <tr>\n",
       "      <th>Location[Brisbane]</th>\n",
       "      <td>-1.368288</td>\n",
       "      <td>-1.193407</td>\n",
       "      <td>0.217406</td>\n",
       "    </tr>\n",
       "    <tr>\n",
       "      <th>Location[Cairns]</th>\n",
       "      <td>-0.898783</td>\n",
       "      <td>-0.726921</td>\n",
       "      <td>0.307283</td>\n",
       "    </tr>\n",
       "    <tr>\n",
       "      <th>Location[Canberra]</th>\n",
       "      <td>-1.515065</td>\n",
       "      <td>-1.218330</td>\n",
       "      <td>0.203154</td>\n",
       "    </tr>\n",
       "    <tr>\n",
       "      <th>Location[Cobar]</th>\n",
       "      <td>-2.274652</td>\n",
       "      <td>-1.748795</td>\n",
       "      <td>0.117978</td>\n",
       "    </tr>\n",
       "    <tr>\n",
       "      <th>Location[CoffsHarbour]</th>\n",
       "      <td>-0.903146</td>\n",
       "      <td>-0.675455</td>\n",
       "      <td>0.312319</td>\n",
       "    </tr>\n",
       "    <tr>\n",
       "      <th>Location[Darwin]</th>\n",
       "      <td>-1.139076</td>\n",
       "      <td>-0.977103</td>\n",
       "      <td>0.257675</td>\n",
       "    </tr>\n",
       "    <tr>\n",
       "      <th>Location[Hobart]</th>\n",
       "      <td>-1.249247</td>\n",
       "      <td>-1.041212</td>\n",
       "      <td>0.241362</td>\n",
       "    </tr>\n",
       "    <tr>\n",
       "      <th>Location[Melbourne]</th>\n",
       "      <td>-1.212625</td>\n",
       "      <td>-1.004318</td>\n",
       "      <td>0.248156</td>\n",
       "    </tr>\n",
       "    <tr>\n",
       "      <th>Location[MelbourneAirport]</th>\n",
       "      <td>-1.370255</td>\n",
       "      <td>-1.194581</td>\n",
       "      <td>0.217139</td>\n",
       "    </tr>\n",
       "    <tr>\n",
       "      <th>Location[Mildura]</th>\n",
       "      <td>-2.198716</td>\n",
       "      <td>-1.954103</td>\n",
       "      <td>0.111411</td>\n",
       "    </tr>\n",
       "    <tr>\n",
       "      <th>Location[Moree]</th>\n",
       "      <td>-1.989785</td>\n",
       "      <td>-1.727408</td>\n",
       "      <td>0.134867</td>\n",
       "    </tr>\n",
       "    <tr>\n",
       "      <th>Location[MountGambier]</th>\n",
       "      <td>-0.948226</td>\n",
       "      <td>-0.775431</td>\n",
       "      <td>0.296957</td>\n",
       "    </tr>\n",
       "    <tr>\n",
       "      <th>Location[NorfolkIsland]</th>\n",
       "      <td>-0.926001</td>\n",
       "      <td>-0.753928</td>\n",
       "      <td>0.301542</td>\n",
       "    </tr>\n",
       "    <tr>\n",
       "      <th>Location[Nuriootpa]</th>\n",
       "      <td>-1.536655</td>\n",
       "      <td>-1.315314</td>\n",
       "      <td>0.193725</td>\n",
       "    </tr>\n",
       "    <tr>\n",
       "      <th>Location[Perth]</th>\n",
       "      <td>-1.452212</td>\n",
       "      <td>-1.275228</td>\n",
       "      <td>0.203636</td>\n",
       "    </tr>\n",
       "    <tr>\n",
       "      <th>Location[PerthAirport]</th>\n",
       "      <td>-1.543657</td>\n",
       "      <td>-1.358461</td>\n",
       "      <td>0.189839</td>\n",
       "    </tr>\n",
       "    <tr>\n",
       "      <th>Location[Portland]</th>\n",
       "      <td>-0.496350</td>\n",
       "      <td>-0.311002</td>\n",
       "      <td>0.400429</td>\n",
       "    </tr>\n",
       "    <tr>\n",
       "      <th>Location[Sale]</th>\n",
       "      <td>-1.417981</td>\n",
       "      <td>-1.184633</td>\n",
       "      <td>0.213945</td>\n",
       "    </tr>\n",
       "    <tr>\n",
       "      <th>Location[Sydney]</th>\n",
       "      <td>-1.229909</td>\n",
       "      <td>-1.008554</td>\n",
       "      <td>0.246154</td>\n",
       "    </tr>\n",
       "    <tr>\n",
       "      <th>Location[SydneyAirport]</th>\n",
       "      <td>-1.187852</td>\n",
       "      <td>-1.018675</td>\n",
       "      <td>0.249129</td>\n",
       "    </tr>\n",
       "    <tr>\n",
       "      <th>Location[Townsville]</th>\n",
       "      <td>-1.744895</td>\n",
       "      <td>-1.529053</td>\n",
       "      <td>0.162877</td>\n",
       "    </tr>\n",
       "    <tr>\n",
       "      <th>Location[WaggaWagga]</th>\n",
       "      <td>-1.643139</td>\n",
       "      <td>-1.434067</td>\n",
       "      <td>0.176738</td>\n",
       "    </tr>\n",
       "    <tr>\n",
       "      <th>Location[Watsonia]</th>\n",
       "      <td>-1.182250</td>\n",
       "      <td>-1.009118</td>\n",
       "      <td>0.250549</td>\n",
       "    </tr>\n",
       "    <tr>\n",
       "      <th>Location[Williamtown]</th>\n",
       "      <td>-1.137309</td>\n",
       "      <td>-0.881342</td>\n",
       "      <td>0.267112</td>\n",
       "    </tr>\n",
       "    <tr>\n",
       "      <th>Location[Woomera]</th>\n",
       "      <td>-2.700433</td>\n",
       "      <td>-2.341701</td>\n",
       "      <td>0.074394</td>\n",
       "    </tr>\n",
       "  </tbody>\n",
       "</table>\n",
       "</div>"
      ],
      "text/plain": [
       "                            Conf_0.025  Conf_0.975  Probability\n",
       "Location[AliceSprings]       -2.537398   -2.237870     0.084121\n",
       "Location[Brisbane]           -1.368288   -1.193407     0.217406\n",
       "Location[Cairns]             -0.898783   -0.726921     0.307283\n",
       "Location[Canberra]           -1.515065   -1.218330     0.203154\n",
       "Location[Cobar]              -2.274652   -1.748795     0.117978\n",
       "Location[CoffsHarbour]       -0.903146   -0.675455     0.312319\n",
       "Location[Darwin]             -1.139076   -0.977103     0.257675\n",
       "Location[Hobart]             -1.249247   -1.041212     0.241362\n",
       "Location[Melbourne]          -1.212625   -1.004318     0.248156\n",
       "Location[MelbourneAirport]   -1.370255   -1.194581     0.217139\n",
       "Location[Mildura]            -2.198716   -1.954103     0.111411\n",
       "Location[Moree]              -1.989785   -1.727408     0.134867\n",
       "Location[MountGambier]       -0.948226   -0.775431     0.296957\n",
       "Location[NorfolkIsland]      -0.926001   -0.753928     0.301542\n",
       "Location[Nuriootpa]          -1.536655   -1.315314     0.193725\n",
       "Location[Perth]              -1.452212   -1.275228     0.203636\n",
       "Location[PerthAirport]       -1.543657   -1.358461     0.189839\n",
       "Location[Portland]           -0.496350   -0.311002     0.400429\n",
       "Location[Sale]               -1.417981   -1.184633     0.213945\n",
       "Location[Sydney]             -1.229909   -1.008554     0.246154\n",
       "Location[SydneyAirport]      -1.187852   -1.018675     0.249129\n",
       "Location[Townsville]         -1.744895   -1.529053     0.162877\n",
       "Location[WaggaWagga]         -1.643139   -1.434067     0.176738\n",
       "Location[Watsonia]           -1.182250   -1.009118     0.250549\n",
       "Location[Williamtown]        -1.137309   -0.881342     0.267112\n",
       "Location[Woomera]            -2.700433   -2.341701     0.074394"
      ]
     },
     "execution_count": 24,
     "metadata": {},
     "output_type": "execute_result"
    }
   ],
   "source": [
    "table"
   ]
  },
  {
   "cell_type": "markdown",
   "metadata": {},
   "source": [
    "### (ii) \n",
    "\n",
    "#### ${2}$ Fit a model you can use to predict the probability of rain tomorrow from the probability of rain today, ignoring location. What’s the McFadden 𝑅2 of this model? (Display the 𝑅2 without using the summary method.)\n"
   ]
  },
  {
   "cell_type": "code",
   "execution_count": 25,
   "metadata": {},
   "outputs": [],
   "source": [
    "newm = smf.glm(formula = \"RainTomorrow2 ~ RainToday\", \n",
    "              data=weather, \n",
    "              family=sm.families.Binomial()).fit()"
   ]
  },
  {
   "cell_type": "code",
   "execution_count": 26,
   "metadata": {},
   "outputs": [
    {
     "data": {
      "text/plain": [
       "0.0810013950327716"
      ]
     },
     "execution_count": 26,
     "metadata": {},
     "output_type": "execute_result"
    }
   ],
   "source": [
    "def mcfaddenrsq(model):\n",
    "    \n",
    "    up = model.llf\n",
    "    down = model.llnull\n",
    "    \n",
    "    \n",
    "    if (1 - up / down) >= 0:\n",
    "        \n",
    "        return 1 - up / down\n",
    "    \n",
    "    else:\n",
    "        \n",
    "        return 'NULL'\n",
    "    \n",
    "mcfaddenrsq(newm)"
   ]
  },
  {
   "cell_type": "markdown",
   "metadata": {},
   "source": [
    "### (iii) \n",
    "\n",
    "#### Fit a model using both location and rain. Then fit a model with interactions between location and RainToday. Interpret and compare the parameters of the models. Which model do you prefer?\n"
   ]
  },
  {
   "cell_type": "markdown",
   "metadata": {},
   "source": [
    "We can see here from the two generated models, one with interaction and one without:\n",
    "\n",
    "- based on P-values we can first conclude that we can reject ${H_0}$ in which our covariates do have significant difference so our model is on the right direction.\n",
    "\n",
    "- The one with interaction has higher $McFadden's{R^2}$\n",
    "\n",
    "- In our Akaike information criterion $(AIC)$, the one with interaction also yield a lower score which indicated our likelihood distribution is a bit clower to our real distribution than the higher AIC model\n"
   ]
  },
  {
   "cell_type": "code",
   "execution_count": 27,
   "metadata": {},
   "outputs": [],
   "source": [
    "#using RainToday and Location\n",
    "\n",
    "new_rain_location = smf.glm(formula = \"RainTomorrow2 ~ Location + Rainfall\", \n",
    "              data=weather, \n",
    "              family=sm.families.Binomial()).fit()"
   ]
  },
  {
   "cell_type": "code",
   "execution_count": 28,
   "metadata": {},
   "outputs": [],
   "source": [
    "#using RainToday and Location and \n",
    "\n",
    "new_rainlocation = smf.glm(formula = \"RainTomorrow2 ~ Location * RainToday\", \n",
    "              data=weather, \n",
    "              family=sm.families.Binomial()).fit()"
   ]
  },
  {
   "cell_type": "code",
   "execution_count": 29,
   "metadata": {},
   "outputs": [
    {
     "name": "stdout",
     "output_type": "stream",
     "text": [
      "Rain-Location Model Mc_R_squared: \n",
      "0.07968747734323589 AIC: 54806.36441236664 \n",
      "Rain-Location Interaction Model Mc_R_squared: \n",
      "0.10368071746579965 AIC: 53428.92906373999\n"
     ]
    }
   ],
   "source": [
    "print('Rain-Location Model Mc_R_squared: \\n' \n",
    "      + str(mcfaddenrsq(new_rain_location)),\n",
    "      'AIC: '\n",
    "      + str(new_rain_location.aic),\n",
    "      '\\nRain-Location Interaction Model Mc_R_squared: \\n' \n",
    "      + str(mcfaddenrsq(new_rainlocation)),\n",
    "      'AIC: '\n",
    "      + str(new_rainlocation.aic))"
   ]
  },
  {
   "cell_type": "markdown",
   "metadata": {},
   "source": [
    "In conculsion, I would choose the one witch Interaction Model."
   ]
  },
  {
   "cell_type": "markdown",
   "metadata": {},
   "source": [
    "## (c) Fitting\n",
    "\n",
    "### (i)  \n",
    "\n",
    "#### Make a function all_column that takes a data frame data and a response name name and outputs a formula including all column names in data on the right-hand side. For instance, if the data frame data contains the columns “Donald”, “Huey”, “Dewey”, and “Louie”, all_column(data, \"Donald\") should output \"Donald ~ Huey + Dewey + Louie\". Run all_columns(weather, \"RainTomorrow\") do demonstrate that it works."
   ]
  },
  {
   "cell_type": "code",
   "execution_count": 30,
   "metadata": {},
   "outputs": [],
   "source": [
    "def all_column(data, name): \n",
    "    \n",
    "    coloum_list = data.columns.values.tolist()\n",
    "    \n",
    "    list = []\n",
    "    \n",
    "    for i in coloum_list:\n",
    "        \n",
    "        if name != i:\n",
    "            \n",
    "            list.append(i)\n",
    "            \n",
    "            covariate= str(list).replace(',',' + ').replace(\"\"\"'\"\"\", \"\")\n",
    "            \n",
    "       \n",
    "    print(\"\"\"'\"\"\"+ name + ' ~ ' + covariate[1:-1] + \"\"\"'\"\"\")"
   ]
  },
  {
   "cell_type": "code",
   "execution_count": 31,
   "metadata": {},
   "outputs": [
    {
     "name": "stdout",
     "output_type": "stream",
     "text": [
      "'Location ~ MinTemp +  MaxTemp +  Rainfall +  Evaporation +  Sunshine +  WindGustDir +  WindGustSpeed +  WindDir9am +  WindDir3pm +  WindSpeed9am +  WindSpeed3pm +  Humidity9am +  Humidity3pm +  Pressure9am +  Pressure3pm +  Cloud9am +  Cloud3pm +  Temp9am +  Temp3pm +  RainToday +  RainTomorrow +  RainTomorrow2 +  RainToday2'\n"
     ]
    }
   ],
   "source": [
    "all_column(weather, 'Location')"
   ]
  },
  {
   "cell_type": "code",
   "execution_count": 32,
   "metadata": {},
   "outputs": [
    {
     "name": "stdout",
     "output_type": "stream",
     "text": [
      "'Evaporation ~ Location +  MinTemp +  MaxTemp +  Rainfall +  Sunshine +  WindGustDir +  WindGustSpeed +  WindDir9am +  WindDir3pm +  WindSpeed9am +  WindSpeed3pm +  Humidity9am +  Humidity3pm +  Pressure9am +  Pressure3pm +  Cloud9am +  Cloud3pm +  Temp9am +  Temp3pm +  RainToday +  RainTomorrow +  RainTomorrow2 +  RainToday2'\n"
     ]
    }
   ],
   "source": [
    "all_column(weather, 'Evaporation')"
   ]
  },
  {
   "cell_type": "code",
   "execution_count": 33,
   "metadata": {},
   "outputs": [
    {
     "name": "stdout",
     "output_type": "stream",
     "text": [
      "'RainTomorrow2 ~ Location +  MinTemp +  MaxTemp +  Rainfall +  Evaporation +  Sunshine +  WindGustDir +  WindGustSpeed +  WindDir9am +  WindDir3pm +  WindSpeed9am +  WindSpeed3pm +  Humidity9am +  Humidity3pm +  Pressure9am +  Pressure3pm +  Cloud9am +  Cloud3pm +  Temp9am +  Temp3pm +  RainToday +  RainTomorrow +  RainToday2'\n"
     ]
    }
   ],
   "source": [
    "all_column(weather, 'RainTomorrow2')"
   ]
  },
  {
   "cell_type": "markdown",
   "metadata": {},
   "source": [
    "### (ii)  \n",
    "\n",
    "####  Fit a logistic model for RainTomorrow with all covariates. How many parameters was fitted in this model? (Don’t use summary for this! Use an argument or a method from statsmodels.)\n"
   ]
  },
  {
   "cell_type": "code",
   "execution_count": 34,
   "metadata": {},
   "outputs": [
    {
     "data": {
      "text/plain": [
       "88"
      ]
     },
     "execution_count": 34,
     "metadata": {},
     "output_type": "execute_result"
    }
   ],
   "source": [
    "smf.glm(formula = 'RainTomorrow2 ~ Location +  MinTemp +  MaxTemp +  Rainfall +  Evaporation +  Sunshine +  WindGustDir +  WindGustSpeed +  WindDir9am +  WindDir3pm +  WindSpeed9am +  WindSpeed3pm +  Humidity9am +  Humidity3pm +  Pressure9am +  Pressure3pm +  Cloud9am +  Cloud3pm +  Temp9am +  Temp3pm  +  RainToday2', \n",
    "              data=weather, \n",
    "              family=sm.families.Binomial()).fit().params.count()"
   ]
  },
  {
   "cell_type": "markdown",
   "metadata": {},
   "source": [
    "### (iii)  \n",
    "\n",
    "#### Fit at least five logistic regression models on this data set and choose your favorite. Make sure to justify your choice."
   ]
  },
  {
   "cell_type": "markdown",
   "metadata": {},
   "source": [
    "first I want to see their correlation with each other"
   ]
  },
  {
   "cell_type": "code",
   "execution_count": 35,
   "metadata": {},
   "outputs": [
    {
     "name": "stderr",
     "output_type": "stream",
     "text": [
      "<ipython-input-35-5596e26e27d7>:1: FutureWarning: The default value of numeric_only in DataFrame.corr is deprecated. In a future version, it will default to False. Select only valid columns or specify the value of numeric_only to silence this warning.\n",
      "  cor= weather.corr()\n"
     ]
    },
    {
     "data": {
      "text/html": [
       "<div>\n",
       "<style scoped>\n",
       "    .dataframe tbody tr th:only-of-type {\n",
       "        vertical-align: middle;\n",
       "    }\n",
       "\n",
       "    .dataframe tbody tr th {\n",
       "        vertical-align: top;\n",
       "    }\n",
       "\n",
       "    .dataframe thead th {\n",
       "        text-align: right;\n",
       "    }\n",
       "</style>\n",
       "<table border=\"1\" class=\"dataframe\">\n",
       "  <thead>\n",
       "    <tr style=\"text-align: right;\">\n",
       "      <th></th>\n",
       "      <th>level_0</th>\n",
       "      <th>level_1</th>\n",
       "      <th>0</th>\n",
       "    </tr>\n",
       "  </thead>\n",
       "  <tbody>\n",
       "    <tr>\n",
       "      <th>0</th>\n",
       "      <td>MaxTemp</td>\n",
       "      <td>Temp3pm</td>\n",
       "      <td>0.984841</td>\n",
       "    </tr>\n",
       "    <tr>\n",
       "      <th>1</th>\n",
       "      <td>Pressure9am</td>\n",
       "      <td>Pressure3pm</td>\n",
       "      <td>0.961538</td>\n",
       "    </tr>\n",
       "    <tr>\n",
       "      <th>2</th>\n",
       "      <td>MinTemp</td>\n",
       "      <td>Temp9am</td>\n",
       "      <td>0.906295</td>\n",
       "    </tr>\n",
       "    <tr>\n",
       "      <th>3</th>\n",
       "      <td>MaxTemp</td>\n",
       "      <td>Temp9am</td>\n",
       "      <td>0.893387</td>\n",
       "    </tr>\n",
       "    <tr>\n",
       "      <th>4</th>\n",
       "      <td>Temp9am</td>\n",
       "      <td>Temp3pm</td>\n",
       "      <td>0.870620</td>\n",
       "    </tr>\n",
       "  </tbody>\n",
       "</table>\n",
       "</div>"
      ],
      "text/plain": [
       "       level_0      level_1         0\n",
       "0      MaxTemp      Temp3pm  0.984841\n",
       "1  Pressure9am  Pressure3pm  0.961538\n",
       "2      MinTemp      Temp9am  0.906295\n",
       "3      MaxTemp      Temp9am  0.893387\n",
       "4      Temp9am      Temp3pm  0.870620"
      ]
     },
     "execution_count": 35,
     "metadata": {},
     "output_type": "execute_result"
    }
   ],
   "source": [
    "cor= weather.corr()\n",
    "#find their correlation values\n",
    "\n",
    "cor *= np.tri(*cor.values.shape, k=-1).T\n",
    "co = cor.stack()\n",
    "co = co.reindex(co.abs().sort_values(ascending = False).index).reset_index()\n",
    "\n",
    "co.head()"
   ]
  },
  {
   "cell_type": "markdown",
   "metadata": {},
   "source": [
    "by looking at the covariance and based on our goal is to predict RainTomorrw, I choose\n",
    "\n",
    "- Rainfall \n",
    "\n",
    "- RainToday\n",
    "\n",
    "as my covariates and as we examine our first model we will start adjusting and thus generate at least five regression models.\n",
    "\n"
   ]
  },
  {
   "cell_type": "code",
   "execution_count": 36,
   "metadata": {},
   "outputs": [
    {
     "data": {
      "text/plain": [
       "54240.58892271702"
      ]
     },
     "execution_count": 36,
     "metadata": {},
     "output_type": "execute_result"
    }
   ],
   "source": [
    "model_01 = smf.glm(formula = \"RainTomorrow2 ~ RainToday + Rainfall\", \n",
    "              data=weather, \n",
    "              family=sm.families.Binomial()).fit()\n",
    "model_01.summary()\n",
    "model_01.aic"
   ]
  },
  {
   "cell_type": "markdown",
   "metadata": {},
   "source": [
    "after model_01 here is what we have:\n",
    "\n",
    "|Models         | R${^2}$       | AIC    | ${\\Delta}$R${^2}$ | ${\\Delta}$AIC |\n",
    "| ------------- |:-------------:| ------:| -------------:| -------------:|\n",
    "| Model_01      | 0.08839       | 54240.5|           NULL|           NULL|\n"
   ]
  },
  {
   "cell_type": "markdown",
   "metadata": {},
   "source": [
    "now I want to see if adding Pressure9am interaction with Pressure Humidity and Temp in 9am and 3pm combined with help elevate my model's significane in regression"
   ]
  },
  {
   "cell_type": "code",
   "execution_count": 37,
   "metadata": {},
   "outputs": [
    {
     "data": {
      "text/html": [
       "<table class=\"simpletable\">\n",
       "<caption>Generalized Linear Model Regression Results</caption>\n",
       "<tr>\n",
       "  <th>Dep. Variable:</th>     <td>RainTomorrow2</td>  <th>  No. Observations:  </th>  <td> 56420</td> \n",
       "</tr>\n",
       "<tr>\n",
       "  <th>Model:</th>                  <td>GLM</td>       <th>  Df Residuals:      </th>  <td> 56411</td> \n",
       "</tr>\n",
       "<tr>\n",
       "  <th>Model Family:</th>        <td>Binomial</td>     <th>  Df Model:          </th>  <td>     8</td> \n",
       "</tr>\n",
       "<tr>\n",
       "  <th>Link Function:</th>         <td>logit</td>      <th>  Scale:             </th> <td>  1.0000</td>\n",
       "</tr>\n",
       "<tr>\n",
       "  <th>Method:</th>                <td>IRLS</td>       <th>  Log-Likelihood:    </th> <td> -20907.</td>\n",
       "</tr>\n",
       "<tr>\n",
       "  <th>Date:</th>            <td>Thu, 24 Nov 2022</td> <th>  Deviance:          </th> <td>  41815.</td>\n",
       "</tr>\n",
       "<tr>\n",
       "  <th>Time:</th>                <td>18:51:23</td>     <th>  Pearson chi2:      </th> <td>5.85e+04</td>\n",
       "</tr>\n",
       "<tr>\n",
       "  <th>No. Iterations:</th>          <td>6</td>        <th>                     </th>     <td> </td>   \n",
       "</tr>\n",
       "<tr>\n",
       "  <th>Covariance Type:</th>     <td>nonrobust</td>    <th>                     </th>     <td> </td>   \n",
       "</tr>\n",
       "</table>\n",
       "<table class=\"simpletable\">\n",
       "<tr>\n",
       "          <td></td>            <th>coef</th>     <th>std err</th>      <th>z</th>      <th>P>|z|</th>  <th>[0.025</th>    <th>0.975]</th>  \n",
       "</tr>\n",
       "<tr>\n",
       "  <th>Intercept</th>        <td>  105.0497</td> <td>    2.172</td> <td>   48.362</td> <td> 0.000</td> <td>  100.792</td> <td>  109.307</td>\n",
       "</tr>\n",
       "<tr>\n",
       "  <th>RainToday[T.Yes]</th> <td>    0.5846</td> <td>    0.034</td> <td>   17.318</td> <td> 0.000</td> <td>    0.518</td> <td>    0.651</td>\n",
       "</tr>\n",
       "<tr>\n",
       "  <th>Rainfall</th>         <td>    0.0166</td> <td>    0.002</td> <td>    8.300</td> <td> 0.000</td> <td>    0.013</td> <td>    0.021</td>\n",
       "</tr>\n",
       "<tr>\n",
       "  <th>Humidity9am</th>      <td>   -0.0054</td> <td>    0.001</td> <td>   -4.018</td> <td> 0.000</td> <td>   -0.008</td> <td>   -0.003</td>\n",
       "</tr>\n",
       "<tr>\n",
       "  <th>Temp9am</th>          <td>    0.0035</td> <td>    0.008</td> <td>    0.455</td> <td> 0.649</td> <td>   -0.012</td> <td>    0.019</td>\n",
       "</tr>\n",
       "<tr>\n",
       "  <th>Pressure9am</th>      <td>    0.1158</td> <td>    0.007</td> <td>   15.608</td> <td> 0.000</td> <td>    0.101</td> <td>    0.130</td>\n",
       "</tr>\n",
       "<tr>\n",
       "  <th>Humidity3pm</th>      <td>    0.0648</td> <td>    0.002</td> <td>   42.150</td> <td> 0.000</td> <td>    0.062</td> <td>    0.068</td>\n",
       "</tr>\n",
       "<tr>\n",
       "  <th>Temp3pm</th>          <td>   -0.0594</td> <td>    0.008</td> <td>   -7.332</td> <td> 0.000</td> <td>   -0.075</td> <td>   -0.043</td>\n",
       "</tr>\n",
       "<tr>\n",
       "  <th>Pressure3pm</th>      <td>   -0.2231</td> <td>    0.008</td> <td>  -29.359</td> <td> 0.000</td> <td>   -0.238</td> <td>   -0.208</td>\n",
       "</tr>\n",
       "</table>"
      ],
      "text/plain": [
       "<class 'statsmodels.iolib.summary.Summary'>\n",
       "\"\"\"\n",
       "                 Generalized Linear Model Regression Results                  \n",
       "==============================================================================\n",
       "Dep. Variable:          RainTomorrow2   No. Observations:                56420\n",
       "Model:                            GLM   Df Residuals:                    56411\n",
       "Model Family:                Binomial   Df Model:                            8\n",
       "Link Function:                  logit   Scale:                          1.0000\n",
       "Method:                          IRLS   Log-Likelihood:                -20907.\n",
       "Date:                Thu, 24 Nov 2022   Deviance:                       41815.\n",
       "Time:                        18:51:23   Pearson chi2:                 5.85e+04\n",
       "No. Iterations:                     6                                         \n",
       "Covariance Type:            nonrobust                                         \n",
       "====================================================================================\n",
       "                       coef    std err          z      P>|z|      [0.025      0.975]\n",
       "------------------------------------------------------------------------------------\n",
       "Intercept          105.0497      2.172     48.362      0.000     100.792     109.307\n",
       "RainToday[T.Yes]     0.5846      0.034     17.318      0.000       0.518       0.651\n",
       "Rainfall             0.0166      0.002      8.300      0.000       0.013       0.021\n",
       "Humidity9am         -0.0054      0.001     -4.018      0.000      -0.008      -0.003\n",
       "Temp9am              0.0035      0.008      0.455      0.649      -0.012       0.019\n",
       "Pressure9am          0.1158      0.007     15.608      0.000       0.101       0.130\n",
       "Humidity3pm          0.0648      0.002     42.150      0.000       0.062       0.068\n",
       "Temp3pm             -0.0594      0.008     -7.332      0.000      -0.075      -0.043\n",
       "Pressure3pm         -0.2231      0.008    -29.359      0.000      -0.238      -0.208\n",
       "====================================================================================\n",
       "\"\"\""
      ]
     },
     "execution_count": 37,
     "metadata": {},
     "output_type": "execute_result"
    }
   ],
   "source": [
    "model_02 = smf.glm(formula = \"RainTomorrow2 ~ RainToday + Rainfall + Humidity9am + Temp9am + Pressure9am + Humidity3pm + Temp3pm + Pressure3pm\", \n",
    "              data=weather, \n",
    "              family=sm.families.Binomial()).fit()\n",
    "model_02.summary()"
   ]
  },
  {
   "cell_type": "code",
   "execution_count": 38,
   "metadata": {},
   "outputs": [
    {
     "name": "stdout",
     "output_type": "stream",
     "text": [
      "0.29714888507669\n",
      "41832.88290610995\n"
     ]
    }
   ],
   "source": [
    "print(mcfaddenrsq(model_02))\n",
    "print(model_02.aic)"
   ]
  },
  {
   "cell_type": "markdown",
   "metadata": {},
   "source": [
    "after model_02 here is what we have:\n",
    "\n",
    "|Models         | R${^2}$       | AIC    | ${\\Delta}$R${^2}$ | ${\\Delta}$AIC |\n",
    "| ------------- |:-------------:| ------:| -------------:| -------------:|\n",
    "| Model_01      | 0.08839       | 54240.5|           NULL|           NULL|\n",
    "| Model_02      | 0.29714       | 41832.8|    +0.20875   |      -124077.7|\n",
    "\n",
    "we can see after including our new-added covariates, our covariates's ability to explain our response increaded to 29.7%\n",
    "\n",
    "note that our p-value here for Temp9am, however, p = .649 in which can show it does not obtain statistical meaning because it is not sufficient to explain our response RainTomorrow now."
   ]
  },
  {
   "cell_type": "markdown",
   "metadata": {},
   "source": [
    "now i will remove Temp9am and add WindGustSpeed with interaction of pressure9am"
   ]
  },
  {
   "cell_type": "code",
   "execution_count": 39,
   "metadata": {},
   "outputs": [
    {
     "data": {
      "text/html": [
       "<table class=\"simpletable\">\n",
       "<caption>Generalized Linear Model Regression Results</caption>\n",
       "<tr>\n",
       "  <th>Dep. Variable:</th>     <td>RainTomorrow2</td>  <th>  No. Observations:  </th>  <td> 56420</td> \n",
       "</tr>\n",
       "<tr>\n",
       "  <th>Model:</th>                  <td>GLM</td>       <th>  Df Residuals:      </th>  <td> 56410</td> \n",
       "</tr>\n",
       "<tr>\n",
       "  <th>Model Family:</th>        <td>Binomial</td>     <th>  Df Model:          </th>  <td>     9</td> \n",
       "</tr>\n",
       "<tr>\n",
       "  <th>Link Function:</th>         <td>logit</td>      <th>  Scale:             </th> <td>  1.0000</td>\n",
       "</tr>\n",
       "<tr>\n",
       "  <th>Method:</th>                <td>IRLS</td>       <th>  Log-Likelihood:    </th> <td> -20056.</td>\n",
       "</tr>\n",
       "<tr>\n",
       "  <th>Date:</th>            <td>Thu, 24 Nov 2022</td> <th>  Deviance:          </th> <td>  40112.</td>\n",
       "</tr>\n",
       "<tr>\n",
       "  <th>Time:</th>                <td>18:51:24</td>     <th>  Pearson chi2:      </th> <td>5.67e+04</td>\n",
       "</tr>\n",
       "<tr>\n",
       "  <th>No. Iterations:</th>          <td>6</td>        <th>                     </th>     <td> </td>   \n",
       "</tr>\n",
       "<tr>\n",
       "  <th>Covariance Type:</th>     <td>nonrobust</td>    <th>                     </th>     <td> </td>   \n",
       "</tr>\n",
       "</table>\n",
       "<table class=\"simpletable\">\n",
       "<tr>\n",
       "              <td></td>                 <th>coef</th>     <th>std err</th>      <th>z</th>      <th>P>|z|</th>  <th>[0.025</th>    <th>0.975]</th>  \n",
       "</tr>\n",
       "<tr>\n",
       "  <th>Intercept</th>                 <td>   64.2253</td> <td>    6.092</td> <td>   10.542</td> <td> 0.000</td> <td>   52.284</td> <td>   76.166</td>\n",
       "</tr>\n",
       "<tr>\n",
       "  <th>RainToday[T.Yes]</th>          <td>    0.4597</td> <td>    0.034</td> <td>   13.344</td> <td> 0.000</td> <td>    0.392</td> <td>    0.527</td>\n",
       "</tr>\n",
       "<tr>\n",
       "  <th>Rainfall</th>                  <td>    0.0141</td> <td>    0.002</td> <td>    7.021</td> <td> 0.000</td> <td>    0.010</td> <td>    0.018</td>\n",
       "</tr>\n",
       "<tr>\n",
       "  <th>Humidity9am</th>               <td>    0.0046</td> <td>    0.001</td> <td>    4.186</td> <td> 0.000</td> <td>    0.002</td> <td>    0.007</td>\n",
       "</tr>\n",
       "<tr>\n",
       "  <th>WindGustSpeed</th>             <td>    0.0665</td> <td>    0.125</td> <td>    0.533</td> <td> 0.594</td> <td>   -0.178</td> <td>    0.311</td>\n",
       "</tr>\n",
       "<tr>\n",
       "  <th>Pressure9am</th>               <td>    0.1669</td> <td>    0.009</td> <td>   17.972</td> <td> 0.000</td> <td>    0.149</td> <td>    0.185</td>\n",
       "</tr>\n",
       "<tr>\n",
       "  <th>WindGustSpeed:Pressure9am</th> <td>-2.228e-05</td> <td>    0.000</td> <td>   -0.181</td> <td> 0.856</td> <td>   -0.000</td> <td>    0.000</td>\n",
       "</tr>\n",
       "<tr>\n",
       "  <th>Humidity3pm</th>               <td>    0.0700</td> <td>    0.001</td> <td>   69.575</td> <td> 0.000</td> <td>    0.068</td> <td>    0.072</td>\n",
       "</tr>\n",
       "<tr>\n",
       "  <th>Temp3pm</th>                   <td>   -0.0276</td> <td>    0.003</td> <td>  -10.785</td> <td> 0.000</td> <td>   -0.033</td> <td>   -0.023</td>\n",
       "</tr>\n",
       "<tr>\n",
       "  <th>Pressure3pm</th>               <td>   -0.2375</td> <td>    0.007</td> <td>  -32.060</td> <td> 0.000</td> <td>   -0.252</td> <td>   -0.223</td>\n",
       "</tr>\n",
       "</table>"
      ],
      "text/plain": [
       "<class 'statsmodels.iolib.summary.Summary'>\n",
       "\"\"\"\n",
       "                 Generalized Linear Model Regression Results                  \n",
       "==============================================================================\n",
       "Dep. Variable:          RainTomorrow2   No. Observations:                56420\n",
       "Model:                            GLM   Df Residuals:                    56410\n",
       "Model Family:                Binomial   Df Model:                            9\n",
       "Link Function:                  logit   Scale:                          1.0000\n",
       "Method:                          IRLS   Log-Likelihood:                -20056.\n",
       "Date:                Thu, 24 Nov 2022   Deviance:                       40112.\n",
       "Time:                        18:51:24   Pearson chi2:                 5.67e+04\n",
       "No. Iterations:                     6                                         \n",
       "Covariance Type:            nonrobust                                         \n",
       "=============================================================================================\n",
       "                                coef    std err          z      P>|z|      [0.025      0.975]\n",
       "---------------------------------------------------------------------------------------------\n",
       "Intercept                    64.2253      6.092     10.542      0.000      52.284      76.166\n",
       "RainToday[T.Yes]              0.4597      0.034     13.344      0.000       0.392       0.527\n",
       "Rainfall                      0.0141      0.002      7.021      0.000       0.010       0.018\n",
       "Humidity9am                   0.0046      0.001      4.186      0.000       0.002       0.007\n",
       "WindGustSpeed                 0.0665      0.125      0.533      0.594      -0.178       0.311\n",
       "Pressure9am                   0.1669      0.009     17.972      0.000       0.149       0.185\n",
       "WindGustSpeed:Pressure9am -2.228e-05      0.000     -0.181      0.856      -0.000       0.000\n",
       "Humidity3pm                   0.0700      0.001     69.575      0.000       0.068       0.072\n",
       "Temp3pm                      -0.0276      0.003    -10.785      0.000      -0.033      -0.023\n",
       "Pressure3pm                  -0.2375      0.007    -32.060      0.000      -0.252      -0.223\n",
       "=============================================================================================\n",
       "\"\"\""
      ]
     },
     "execution_count": 39,
     "metadata": {},
     "output_type": "execute_result"
    }
   ],
   "source": [
    "model_03 = smf.glm(formula = \"RainTomorrow2 ~ RainToday + Rainfall + Humidity9am + WindGustSpeed * Pressure9am + Humidity3pm + Temp3pm + Pressure3pm\", \n",
    "              data=weather, \n",
    "              family=sm.families.Binomial()).fit()\n",
    "\n",
    "model_03.summary()"
   ]
  },
  {
   "cell_type": "code",
   "execution_count": 40,
   "metadata": {},
   "outputs": [
    {
     "name": "stdout",
     "output_type": "stream",
     "text": [
      "0.3257641136841579\n",
      "40132.47053434698\n"
     ]
    }
   ],
   "source": [
    "print(mcfaddenrsq(model_03))\n",
    "print(model_03.aic)"
   ]
  },
  {
   "cell_type": "markdown",
   "metadata": {},
   "source": [
    "after model_03 here is what we have:\n",
    "\n",
    "|Models         | R${^2}$       | AIC    | ${\\Delta}$R${^2}$ | ${\\Delta}$AIC |\n",
    "| ------------- |:-------------:| ------:| -------------:| -------------:|\n",
    "| Model_01      | 0.08839       | 54240.5|           NULL|           NULL|\n",
    "| Model_02      | 0.29714       | 41832.8|    +0.20875   |      -124077.7|\n",
    "| Model_03      | 0.32576       | 40132.4|    +0.02862   |        -1700.4|\n",
    "\n",
    "we can see our model R${^2}$ increased to 32%! However, if we look at the p-values, ones that contain WindGustSpeed seems to be irrelevant to our response "
   ]
  },
  {
   "cell_type": "markdown",
   "metadata": {},
   "source": [
    "I will remove the covariate WindGustSpeed but I want to see if some interaction:\n",
    "\n",
    "- Sunshine * Evaporation"
   ]
  },
  {
   "cell_type": "code",
   "execution_count": 41,
   "metadata": {},
   "outputs": [
    {
     "data": {
      "text/html": [
       "<table class=\"simpletable\">\n",
       "<caption>Generalized Linear Model Regression Results</caption>\n",
       "<tr>\n",
       "  <th>Dep. Variable:</th>     <td>RainTomorrow2</td>  <th>  No. Observations:  </th>  <td> 56420</td> \n",
       "</tr>\n",
       "<tr>\n",
       "  <th>Model:</th>                  <td>GLM</td>       <th>  Df Residuals:      </th>  <td> 56409</td> \n",
       "</tr>\n",
       "<tr>\n",
       "  <th>Model Family:</th>        <td>Binomial</td>     <th>  Df Model:          </th>  <td>    10</td> \n",
       "</tr>\n",
       "<tr>\n",
       "  <th>Link Function:</th>         <td>logit</td>      <th>  Scale:             </th> <td>  1.0000</td>\n",
       "</tr>\n",
       "<tr>\n",
       "  <th>Method:</th>                <td>IRLS</td>       <th>  Log-Likelihood:    </th> <td> -19875.</td>\n",
       "</tr>\n",
       "<tr>\n",
       "  <th>Date:</th>            <td>Thu, 24 Nov 2022</td> <th>  Deviance:          </th> <td>  39749.</td>\n",
       "</tr>\n",
       "<tr>\n",
       "  <th>Time:</th>                <td>18:51:25</td>     <th>  Pearson chi2:      </th> <td>5.24e+04</td>\n",
       "</tr>\n",
       "<tr>\n",
       "  <th>No. Iterations:</th>          <td>6</td>        <th>                     </th>     <td> </td>   \n",
       "</tr>\n",
       "<tr>\n",
       "  <th>Covariance Type:</th>     <td>nonrobust</td>    <th>                     </th>     <td> </td>   \n",
       "</tr>\n",
       "</table>\n",
       "<table class=\"simpletable\">\n",
       "<tr>\n",
       "            <td></td>              <th>coef</th>     <th>std err</th>      <th>z</th>      <th>P>|z|</th>  <th>[0.025</th>    <th>0.975]</th>  \n",
       "</tr>\n",
       "<tr>\n",
       "  <th>Intercept</th>            <td>   98.8838</td> <td>    2.188</td> <td>   45.185</td> <td> 0.000</td> <td>   94.594</td> <td>  103.173</td>\n",
       "</tr>\n",
       "<tr>\n",
       "  <th>RainToday[T.Yes]</th>     <td>    0.6096</td> <td>    0.035</td> <td>   17.540</td> <td> 0.000</td> <td>    0.541</td> <td>    0.678</td>\n",
       "</tr>\n",
       "<tr>\n",
       "  <th>Sunshine</th>             <td>   -0.1310</td> <td>    0.007</td> <td>  -18.136</td> <td> 0.000</td> <td>   -0.145</td> <td>   -0.117</td>\n",
       "</tr>\n",
       "<tr>\n",
       "  <th>Evaporation</th>          <td>    0.0899</td> <td>    0.009</td> <td>    9.967</td> <td> 0.000</td> <td>    0.072</td> <td>    0.108</td>\n",
       "</tr>\n",
       "<tr>\n",
       "  <th>Sunshine:Evaporation</th> <td>   -0.0104</td> <td>    0.001</td> <td>   -9.201</td> <td> 0.000</td> <td>   -0.013</td> <td>   -0.008</td>\n",
       "</tr>\n",
       "<tr>\n",
       "  <th>Rainfall</th>             <td>    0.0118</td> <td>    0.002</td> <td>    5.711</td> <td> 0.000</td> <td>    0.008</td> <td>    0.016</td>\n",
       "</tr>\n",
       "<tr>\n",
       "  <th>Humidity9am</th>          <td>   -0.0100</td> <td>    0.001</td> <td>   -8.937</td> <td> 0.000</td> <td>   -0.012</td> <td>   -0.008</td>\n",
       "</tr>\n",
       "<tr>\n",
       "  <th>Pressure9am</th>          <td>    0.1136</td> <td>    0.007</td> <td>   15.334</td> <td> 0.000</td> <td>    0.099</td> <td>    0.128</td>\n",
       "</tr>\n",
       "<tr>\n",
       "  <th>Humidity3pm</th>          <td>    0.0515</td> <td>    0.001</td> <td>   50.213</td> <td> 0.000</td> <td>    0.049</td> <td>    0.053</td>\n",
       "</tr>\n",
       "<tr>\n",
       "  <th>Temp3pm</th>              <td>   -0.0288</td> <td>    0.003</td> <td>   -9.859</td> <td> 0.000</td> <td>   -0.035</td> <td>   -0.023</td>\n",
       "</tr>\n",
       "<tr>\n",
       "  <th>Pressure3pm</th>          <td>   -0.2135</td> <td>    0.008</td> <td>  -27.971</td> <td> 0.000</td> <td>   -0.228</td> <td>   -0.199</td>\n",
       "</tr>\n",
       "</table>"
      ],
      "text/plain": [
       "<class 'statsmodels.iolib.summary.Summary'>\n",
       "\"\"\"\n",
       "                 Generalized Linear Model Regression Results                  \n",
       "==============================================================================\n",
       "Dep. Variable:          RainTomorrow2   No. Observations:                56420\n",
       "Model:                            GLM   Df Residuals:                    56409\n",
       "Model Family:                Binomial   Df Model:                           10\n",
       "Link Function:                  logit   Scale:                          1.0000\n",
       "Method:                          IRLS   Log-Likelihood:                -19875.\n",
       "Date:                Thu, 24 Nov 2022   Deviance:                       39749.\n",
       "Time:                        18:51:25   Pearson chi2:                 5.24e+04\n",
       "No. Iterations:                     6                                         \n",
       "Covariance Type:            nonrobust                                         \n",
       "========================================================================================\n",
       "                           coef    std err          z      P>|z|      [0.025      0.975]\n",
       "----------------------------------------------------------------------------------------\n",
       "Intercept               98.8838      2.188     45.185      0.000      94.594     103.173\n",
       "RainToday[T.Yes]         0.6096      0.035     17.540      0.000       0.541       0.678\n",
       "Sunshine                -0.1310      0.007    -18.136      0.000      -0.145      -0.117\n",
       "Evaporation              0.0899      0.009      9.967      0.000       0.072       0.108\n",
       "Sunshine:Evaporation    -0.0104      0.001     -9.201      0.000      -0.013      -0.008\n",
       "Rainfall                 0.0118      0.002      5.711      0.000       0.008       0.016\n",
       "Humidity9am             -0.0100      0.001     -8.937      0.000      -0.012      -0.008\n",
       "Pressure9am              0.1136      0.007     15.334      0.000       0.099       0.128\n",
       "Humidity3pm              0.0515      0.001     50.213      0.000       0.049       0.053\n",
       "Temp3pm                 -0.0288      0.003     -9.859      0.000      -0.035      -0.023\n",
       "Pressure3pm             -0.2135      0.008    -27.971      0.000      -0.228      -0.199\n",
       "========================================================================================\n",
       "\"\"\""
      ]
     },
     "execution_count": 41,
     "metadata": {},
     "output_type": "execute_result"
    }
   ],
   "source": [
    "model_04 = smf.glm(formula = \"RainTomorrow2 ~ RainToday + Sunshine * Evaporation + Rainfall + Humidity9am + Pressure9am + Humidity3pm + Temp3pm + Pressure3pm\", \n",
    "              data=weather, \n",
    "              family=sm.families.Binomial()).fit()\n",
    "\n",
    "model_04.summary()"
   ]
  },
  {
   "cell_type": "code",
   "execution_count": 42,
   "metadata": {},
   "outputs": [
    {
     "name": "stdout",
     "output_type": "stream",
     "text": [
      "0.33187171923826264\n",
      "39771.1093534951\n"
     ]
    }
   ],
   "source": [
    "print(mcfaddenrsq(model_04))\n",
    "print(model_04.aic)"
   ]
  },
  {
   "cell_type": "markdown",
   "metadata": {},
   "source": [
    "after model_04 here is what we have:\n",
    "\n",
    "|Models         | R${^2}$       | AIC    | ${\\Delta}$R${^2}$ | ${\\Delta}$AIC |\n",
    "| ------------- |:-------------:| ------:| -------------:| -------------:|\n",
    "| Model_01      | 0.08839       | 54240.5|           NULL|           NULL|\n",
    "| Model_02      | 0.29714       | 41832.8|    +0.20875   |      -124077.7|\n",
    "| Model_03      | 0.32576       | 40132.4|    +0.02862   |        -1700.4|\n",
    "| Model_04      | 0.33187       | 39771.1|    +0.00611   |       -361.3  |\n",
    "\n",
    "This model is surprising entertaning! We can see the whole model covariates are even more significant for our response since the R${^2}$ is up to 33% now with p-values are all significant (${p<0.001}$) showing this increment of interaction has statistical meaning."
   ]
  },
  {
   "cell_type": "markdown",
   "metadata": {},
   "source": [
    "Lastly I wanna add one more block for my model which is Location:"
   ]
  },
  {
   "cell_type": "code",
   "execution_count": 43,
   "metadata": {},
   "outputs": [
    {
     "data": {
      "text/html": [
       "<table class=\"simpletable\">\n",
       "<caption>Generalized Linear Model Regression Results</caption>\n",
       "<tr>\n",
       "  <th>Dep. Variable:</th>     <td>RainTomorrow2</td>  <th>  No. Observations:  </th>  <td> 56420</td> \n",
       "</tr>\n",
       "<tr>\n",
       "  <th>Model:</th>                  <td>GLM</td>       <th>  Df Residuals:      </th>  <td> 56384</td> \n",
       "</tr>\n",
       "<tr>\n",
       "  <th>Model Family:</th>        <td>Binomial</td>     <th>  Df Model:          </th>  <td>    35</td> \n",
       "</tr>\n",
       "<tr>\n",
       "  <th>Link Function:</th>         <td>logit</td>      <th>  Scale:             </th> <td>  1.0000</td>\n",
       "</tr>\n",
       "<tr>\n",
       "  <th>Method:</th>                <td>IRLS</td>       <th>  Log-Likelihood:    </th> <td> -19622.</td>\n",
       "</tr>\n",
       "<tr>\n",
       "  <th>Date:</th>            <td>Thu, 24 Nov 2022</td> <th>  Deviance:          </th> <td>  39244.</td>\n",
       "</tr>\n",
       "<tr>\n",
       "  <th>Time:</th>                <td>18:51:27</td>     <th>  Pearson chi2:      </th> <td>5.19e+04</td>\n",
       "</tr>\n",
       "<tr>\n",
       "  <th>No. Iterations:</th>          <td>6</td>        <th>                     </th>     <td> </td>   \n",
       "</tr>\n",
       "<tr>\n",
       "  <th>Covariance Type:</th>     <td>nonrobust</td>    <th>                     </th>     <td> </td>   \n",
       "</tr>\n",
       "</table>\n",
       "<table class=\"simpletable\">\n",
       "<tr>\n",
       "                <td></td>                  <th>coef</th>     <th>std err</th>      <th>z</th>      <th>P>|z|</th>  <th>[0.025</th>    <th>0.975]</th>  \n",
       "</tr>\n",
       "<tr>\n",
       "  <th>Intercept</th>                    <td>  102.3792</td> <td>    2.328</td> <td>   43.986</td> <td> 0.000</td> <td>   97.817</td> <td>  106.941</td>\n",
       "</tr>\n",
       "<tr>\n",
       "  <th>Location[T.Brisbane]</th>         <td>    0.3234</td> <td>    0.117</td> <td>    2.758</td> <td> 0.006</td> <td>    0.094</td> <td>    0.553</td>\n",
       "</tr>\n",
       "<tr>\n",
       "  <th>Location[T.Cairns]</th>           <td>    0.0068</td> <td>    0.119</td> <td>    0.057</td> <td> 0.954</td> <td>   -0.227</td> <td>    0.241</td>\n",
       "</tr>\n",
       "<tr>\n",
       "  <th>Location[T.Canberra]</th>         <td>    0.4171</td> <td>    0.144</td> <td>    2.903</td> <td> 0.004</td> <td>    0.135</td> <td>    0.699</td>\n",
       "</tr>\n",
       "<tr>\n",
       "  <th>Location[T.Cobar]</th>            <td>    0.1734</td> <td>    0.209</td> <td>    0.828</td> <td> 0.408</td> <td>   -0.237</td> <td>    0.584</td>\n",
       "</tr>\n",
       "<tr>\n",
       "  <th>Location[T.CoffsHarbour]</th>     <td>    0.4639</td> <td>    0.127</td> <td>    3.652</td> <td> 0.000</td> <td>    0.215</td> <td>    0.713</td>\n",
       "</tr>\n",
       "<tr>\n",
       "  <th>Location[T.Darwin]</th>           <td>   -0.0305</td> <td>    0.120</td> <td>   -0.254</td> <td> 0.799</td> <td>   -0.266</td> <td>    0.205</td>\n",
       "</tr>\n",
       "<tr>\n",
       "  <th>Location[T.Hobart]</th>           <td>    0.0529</td> <td>    0.127</td> <td>    0.416</td> <td> 0.678</td> <td>   -0.197</td> <td>    0.303</td>\n",
       "</tr>\n",
       "<tr>\n",
       "  <th>Location[T.Melbourne]</th>        <td>    0.4154</td> <td>    0.124</td> <td>    3.350</td> <td> 0.001</td> <td>    0.172</td> <td>    0.658</td>\n",
       "</tr>\n",
       "<tr>\n",
       "  <th>Location[T.MelbourneAirport]</th> <td>    0.2535</td> <td>    0.120</td> <td>    2.113</td> <td> 0.035</td> <td>    0.018</td> <td>    0.489</td>\n",
       "</tr>\n",
       "<tr>\n",
       "  <th>Location[T.Mildura]</th>          <td>    0.3618</td> <td>    0.131</td> <td>    2.752</td> <td> 0.006</td> <td>    0.104</td> <td>    0.619</td>\n",
       "</tr>\n",
       "<tr>\n",
       "  <th>Location[T.Moree]</th>            <td>    0.4235</td> <td>    0.136</td> <td>    3.111</td> <td> 0.002</td> <td>    0.157</td> <td>    0.690</td>\n",
       "</tr>\n",
       "<tr>\n",
       "  <th>Location[T.MountGambier]</th>     <td>    0.6842</td> <td>    0.121</td> <td>    5.652</td> <td> 0.000</td> <td>    0.447</td> <td>    0.921</td>\n",
       "</tr>\n",
       "<tr>\n",
       "  <th>Location[T.NorfolkIsland]</th>    <td>    0.1789</td> <td>    0.119</td> <td>    1.502</td> <td> 0.133</td> <td>   -0.055</td> <td>    0.412</td>\n",
       "</tr>\n",
       "<tr>\n",
       "  <th>Location[T.Nuriootpa]</th>        <td>    0.5484</td> <td>    0.129</td> <td>    4.253</td> <td> 0.000</td> <td>    0.296</td> <td>    0.801</td>\n",
       "</tr>\n",
       "<tr>\n",
       "  <th>Location[T.Perth]</th>            <td>    0.7835</td> <td>    0.118</td> <td>    6.634</td> <td> 0.000</td> <td>    0.552</td> <td>    1.015</td>\n",
       "</tr>\n",
       "<tr>\n",
       "  <th>Location[T.PerthAirport]</th>     <td>    0.8638</td> <td>    0.119</td> <td>    7.251</td> <td> 0.000</td> <td>    0.630</td> <td>    1.097</td>\n",
       "</tr>\n",
       "<tr>\n",
       "  <th>Location[T.Portland]</th>         <td>    0.7440</td> <td>    0.124</td> <td>    6.020</td> <td> 0.000</td> <td>    0.502</td> <td>    0.986</td>\n",
       "</tr>\n",
       "<tr>\n",
       "  <th>Location[T.Sale]</th>             <td>    0.1480</td> <td>    0.129</td> <td>    1.144</td> <td> 0.253</td> <td>   -0.106</td> <td>    0.402</td>\n",
       "</tr>\n",
       "<tr>\n",
       "  <th>Location[T.Sydney]</th>           <td>    0.5302</td> <td>    0.124</td> <td>    4.261</td> <td> 0.000</td> <td>    0.286</td> <td>    0.774</td>\n",
       "</tr>\n",
       "<tr>\n",
       "  <th>Location[T.SydneyAirport]</th>    <td>    0.4288</td> <td>    0.117</td> <td>    3.678</td> <td> 0.000</td> <td>    0.200</td> <td>    0.657</td>\n",
       "</tr>\n",
       "<tr>\n",
       "  <th>Location[T.Townsville]</th>       <td>   -0.5860</td> <td>    0.124</td> <td>   -4.713</td> <td> 0.000</td> <td>   -0.830</td> <td>   -0.342</td>\n",
       "</tr>\n",
       "<tr>\n",
       "  <th>Location[T.WaggaWagga]</th>       <td>    0.5006</td> <td>    0.127</td> <td>    3.945</td> <td> 0.000</td> <td>    0.252</td> <td>    0.749</td>\n",
       "</tr>\n",
       "<tr>\n",
       "  <th>Location[T.Watsonia]</th>         <td>    0.3669</td> <td>    0.120</td> <td>    3.052</td> <td> 0.002</td> <td>    0.131</td> <td>    0.602</td>\n",
       "</tr>\n",
       "<tr>\n",
       "  <th>Location[T.Williamtown]</th>      <td>    0.5732</td> <td>    0.132</td> <td>    4.358</td> <td> 0.000</td> <td>    0.315</td> <td>    0.831</td>\n",
       "</tr>\n",
       "<tr>\n",
       "  <th>Location[T.Woomera]</th>          <td>    0.2450</td> <td>    0.154</td> <td>    1.595</td> <td> 0.111</td> <td>   -0.056</td> <td>    0.546</td>\n",
       "</tr>\n",
       "<tr>\n",
       "  <th>RainToday[T.Yes]</th>             <td>    0.6151</td> <td>    0.035</td> <td>   17.459</td> <td> 0.000</td> <td>    0.546</td> <td>    0.684</td>\n",
       "</tr>\n",
       "<tr>\n",
       "  <th>Sunshine</th>                     <td>   -0.1294</td> <td>    0.007</td> <td>  -17.508</td> <td> 0.000</td> <td>   -0.144</td> <td>   -0.115</td>\n",
       "</tr>\n",
       "<tr>\n",
       "  <th>Evaporation</th>                  <td>    0.0947</td> <td>    0.009</td> <td>   10.277</td> <td> 0.000</td> <td>    0.077</td> <td>    0.113</td>\n",
       "</tr>\n",
       "<tr>\n",
       "  <th>Sunshine:Evaporation</th>         <td>   -0.0109</td> <td>    0.001</td> <td>   -9.614</td> <td> 0.000</td> <td>   -0.013</td> <td>   -0.009</td>\n",
       "</tr>\n",
       "<tr>\n",
       "  <th>Rainfall</th>                     <td>    0.0113</td> <td>    0.002</td> <td>    5.444</td> <td> 0.000</td> <td>    0.007</td> <td>    0.015</td>\n",
       "</tr>\n",
       "<tr>\n",
       "  <th>Humidity9am</th>                  <td>   -0.0110</td> <td>    0.001</td> <td>   -9.312</td> <td> 0.000</td> <td>   -0.013</td> <td>   -0.009</td>\n",
       "</tr>\n",
       "<tr>\n",
       "  <th>Pressure9am</th>                  <td>    0.1314</td> <td>    0.008</td> <td>   17.150</td> <td> 0.000</td> <td>    0.116</td> <td>    0.146</td>\n",
       "</tr>\n",
       "<tr>\n",
       "  <th>Humidity3pm</th>                  <td>    0.0561</td> <td>    0.001</td> <td>   45.543</td> <td> 0.000</td> <td>    0.054</td> <td>    0.058</td>\n",
       "</tr>\n",
       "<tr>\n",
       "  <th>Temp3pm</th>                      <td>   -0.0116</td> <td>    0.004</td> <td>   -3.002</td> <td> 0.003</td> <td>   -0.019</td> <td>   -0.004</td>\n",
       "</tr>\n",
       "<tr>\n",
       "  <th>Pressure3pm</th>                  <td>   -0.2357</td> <td>    0.008</td> <td>  -29.981</td> <td> 0.000</td> <td>   -0.251</td> <td>   -0.220</td>\n",
       "</tr>\n",
       "</table>"
      ],
      "text/plain": [
       "<class 'statsmodels.iolib.summary.Summary'>\n",
       "\"\"\"\n",
       "                 Generalized Linear Model Regression Results                  \n",
       "==============================================================================\n",
       "Dep. Variable:          RainTomorrow2   No. Observations:                56420\n",
       "Model:                            GLM   Df Residuals:                    56384\n",
       "Model Family:                Binomial   Df Model:                           35\n",
       "Link Function:                  logit   Scale:                          1.0000\n",
       "Method:                          IRLS   Log-Likelihood:                -19622.\n",
       "Date:                Thu, 24 Nov 2022   Deviance:                       39244.\n",
       "Time:                        18:51:27   Pearson chi2:                 5.19e+04\n",
       "No. Iterations:                     6                                         \n",
       "Covariance Type:            nonrobust                                         \n",
       "================================================================================================\n",
       "                                   coef    std err          z      P>|z|      [0.025      0.975]\n",
       "------------------------------------------------------------------------------------------------\n",
       "Intercept                      102.3792      2.328     43.986      0.000      97.817     106.941\n",
       "Location[T.Brisbane]             0.3234      0.117      2.758      0.006       0.094       0.553\n",
       "Location[T.Cairns]               0.0068      0.119      0.057      0.954      -0.227       0.241\n",
       "Location[T.Canberra]             0.4171      0.144      2.903      0.004       0.135       0.699\n",
       "Location[T.Cobar]                0.1734      0.209      0.828      0.408      -0.237       0.584\n",
       "Location[T.CoffsHarbour]         0.4639      0.127      3.652      0.000       0.215       0.713\n",
       "Location[T.Darwin]              -0.0305      0.120     -0.254      0.799      -0.266       0.205\n",
       "Location[T.Hobart]               0.0529      0.127      0.416      0.678      -0.197       0.303\n",
       "Location[T.Melbourne]            0.4154      0.124      3.350      0.001       0.172       0.658\n",
       "Location[T.MelbourneAirport]     0.2535      0.120      2.113      0.035       0.018       0.489\n",
       "Location[T.Mildura]              0.3618      0.131      2.752      0.006       0.104       0.619\n",
       "Location[T.Moree]                0.4235      0.136      3.111      0.002       0.157       0.690\n",
       "Location[T.MountGambier]         0.6842      0.121      5.652      0.000       0.447       0.921\n",
       "Location[T.NorfolkIsland]        0.1789      0.119      1.502      0.133      -0.055       0.412\n",
       "Location[T.Nuriootpa]            0.5484      0.129      4.253      0.000       0.296       0.801\n",
       "Location[T.Perth]                0.7835      0.118      6.634      0.000       0.552       1.015\n",
       "Location[T.PerthAirport]         0.8638      0.119      7.251      0.000       0.630       1.097\n",
       "Location[T.Portland]             0.7440      0.124      6.020      0.000       0.502       0.986\n",
       "Location[T.Sale]                 0.1480      0.129      1.144      0.253      -0.106       0.402\n",
       "Location[T.Sydney]               0.5302      0.124      4.261      0.000       0.286       0.774\n",
       "Location[T.SydneyAirport]        0.4288      0.117      3.678      0.000       0.200       0.657\n",
       "Location[T.Townsville]          -0.5860      0.124     -4.713      0.000      -0.830      -0.342\n",
       "Location[T.WaggaWagga]           0.5006      0.127      3.945      0.000       0.252       0.749\n",
       "Location[T.Watsonia]             0.3669      0.120      3.052      0.002       0.131       0.602\n",
       "Location[T.Williamtown]          0.5732      0.132      4.358      0.000       0.315       0.831\n",
       "Location[T.Woomera]              0.2450      0.154      1.595      0.111      -0.056       0.546\n",
       "RainToday[T.Yes]                 0.6151      0.035     17.459      0.000       0.546       0.684\n",
       "Sunshine                        -0.1294      0.007    -17.508      0.000      -0.144      -0.115\n",
       "Evaporation                      0.0947      0.009     10.277      0.000       0.077       0.113\n",
       "Sunshine:Evaporation            -0.0109      0.001     -9.614      0.000      -0.013      -0.009\n",
       "Rainfall                         0.0113      0.002      5.444      0.000       0.007       0.015\n",
       "Humidity9am                     -0.0110      0.001     -9.312      0.000      -0.013      -0.009\n",
       "Pressure9am                      0.1314      0.008     17.150      0.000       0.116       0.146\n",
       "Humidity3pm                      0.0561      0.001     45.543      0.000       0.054       0.058\n",
       "Temp3pm                         -0.0116      0.004     -3.002      0.003      -0.019      -0.004\n",
       "Pressure3pm                     -0.2357      0.008    -29.981      0.000      -0.251      -0.220\n",
       "================================================================================================\n",
       "\"\"\""
      ]
     },
     "execution_count": 43,
     "metadata": {},
     "output_type": "execute_result"
    }
   ],
   "source": [
    "model_05 = smf.glm(formula = \"RainTomorrow2 ~ Location + RainToday + Sunshine * Evaporation + Rainfall + Humidity9am + Pressure9am + Humidity3pm + Temp3pm + Pressure3pm\", \n",
    "              data=weather, \n",
    "              family=sm.families.Binomial()).fit()\n",
    "model_05.summary()"
   ]
  },
  {
   "cell_type": "code",
   "execution_count": 44,
   "metadata": {},
   "outputs": [
    {
     "name": "stdout",
     "output_type": "stream",
     "text": [
      "0.3403692465315483\n",
      "39315.56400937342\n"
     ]
    }
   ],
   "source": [
    "print(mcfaddenrsq(model_05))\n",
    "print(model_05.aic)"
   ]
  },
  {
   "cell_type": "markdown",
   "metadata": {},
   "source": [
    "In total, with model_05 here is what we have:\n",
    "\n",
    "|Models         | R${^2}$       | AIC    | ${\\Delta}$R${^2}$ | ${\\Delta}$AIC |\n",
    "| ------------- |:-------------:| ------:| -------------:| -------------:|\n",
    "| Model_01      | 0.08839       | 54240.5|           NULL|           NULL|\n",
    "| Model_02      | 0.29714       | 41832.8|    +0.20875   |      -124077.7|\n",
    "| Model_03      | 0.32576       | 40132.4|    +0.02862   |        -1700.4|\n",
    "| Model_04      | 0.33187       | 39771.1|    +0.00611   |       -361.3  |\n",
    "| Model_05      | 0.34036       | 39315.5|    +0.00849   |       -455.6  |\n",
    "\n",
    "In general, based on our stepwise regression modeling, it seems like we are on the right track considering our AIC score has showns a steady decline as our model significance R${^2}$ showing more and more ability of our covariates able to explain our response. \n",
    "\n",
    "- My favourite would be Model_04 since its p-value shown all of the covariates are able to reach significant level and it has higher R${^2}$ and lower ${AIC}$ to our previous models too. \n",
    "\n",
    "- Model_05 is however too a very good model since it has the highest R${^2}$ and lowest ${AIC}$ and even though our p-value in Location do not reach significant level, our main categorical block of covaiates all reached significant level."
   ]
  },
  {
   "cell_type": "markdown",
   "metadata": {},
   "source": [
    "### (iv) \n",
    "\n",
    "#### Investigate the effect of link functions on your choice of models. Using the same models as in your previous exercise, change the link function from the logistic link to the Probit link, Cauchit link, and cloglog link. Report the BICs of the models in a table."
   ]
  },
  {
   "cell_type": "markdown",
   "metadata": {},
   "source": [
    "To this question, I will use the built-in function .bic_llf to calculate my BIC socre but below is the funcation of calculation my BIC using equation based on followig:\n",
    "\n",
    "${BIC = k*ln(n) - 2ln(L)}$ <br> where ${n = smaple \\,number}$ and ${k = number \\, of \\,our \\,covariates}$ and ${L = Loglikehood\\, Function}$"
   ]
  },
  {
   "cell_type": "code",
   "execution_count": 45,
   "metadata": {},
   "outputs": [],
   "source": [
    "#my bic function:\n",
    "    \n",
    "def bic(n,k,model):\n",
    "    \n",
    "    llf = model.llf # log-like value\n",
    "    \n",
    "    bic = ((-2)*(llf)) + (k)*(np.log(n)) # bic calculation\n",
    "    \n",
    "    print(bic)"
   ]
  },
  {
   "cell_type": "markdown",
   "metadata": {},
   "source": [
    "In total, with all five models here is what we have for our calculation for BIC:\n",
    "\n",
    "\n",
    "\n",
    "|Models         |     Logit   |   Probit  | Cauchy | Cloglog |\n",
    "| :--- | :--- | :---: | :----: |----:|  \n",
    "| Model_01      | 54267.4         | 54280.3       | 54244.2    | 54348.8     |\n",
    "| Model_02      | 41913.3         | 42047.6       | 42350.1    | NA         |\n",
    "| Model_03      | 40221.8         | 40306.3       | 41021.2    | NA         |\n",
    "| Model_04      | 39869.4         | 39806.7       | 41115.4    | NA         |\n",
    "| Model_05      | 39637.4         | 39556.2       | 40881.2    | NA         |\n",
    "\n",
    "\n",
    "\n"
   ]
  },
  {
   "cell_type": "markdown",
   "metadata": {},
   "source": [
    "model_01:"
   ]
  },
  {
   "cell_type": "code",
   "execution_count": 46,
   "metadata": {},
   "outputs": [],
   "source": [
    "model_01_logit = smf.glm(formula = \"RainTomorrow2 ~ RainToday + Rainfall\", \n",
    "              data=weather, \n",
    "              family=sm.families.Binomial()).fit()\n",
    "\n",
    "model_01_probit = smf.glm(formula = \"RainTomorrow2 ~ RainToday + Rainfall\", \n",
    "                          data=weather, \n",
    "                          family=sm.families.Binomial(sm.genmod.families.links.probit())).fit()\n",
    "\n",
    "model_01_cauchy = smf.glm(formula = \"RainTomorrow2 ~ RainToday + Rainfall\", \n",
    "                           data=weather, \n",
    "                           family=sm.families.Binomial(sm.genmod.families.links.cauchy())).fit()\n",
    "\n",
    "model_01_clog = smf.glm(formula = \"RainTomorrow2 ~ RainToday + Rainfall\", \n",
    "                        data=weather, \n",
    "                        family=sm.families.Binomial(sm.genmod.families.links.cloglog())).fit()"
   ]
  },
  {
   "cell_type": "markdown",
   "metadata": {},
   "source": [
    "model_02:"
   ]
  },
  {
   "cell_type": "code",
   "execution_count": 47,
   "metadata": {},
   "outputs": [],
   "source": [
    "model_02_logit = smf.glm(formula = \"RainTomorrow2 ~ RainToday + Rainfall + Humidity9am + Temp9am + Pressure9am + Humidity3pm + Temp3pm + Pressure3pm\", \n",
    "                         data=weather, \n",
    "                         family=sm.families.Binomial()).fit()\n",
    "\n",
    "model_02_probit = smf.glm(formula = \"RainTomorrow2 ~ RainToday + Rainfall + Humidity9am + Temp9am + Pressure9am + Humidity3pm + Temp3pm + Pressure3pm\", \n",
    "                          data=weather, \n",
    "                          family=sm.families.Binomial(sm.genmod.families.links.probit())).fit()\n",
    "\n",
    "model_02_cauchy = smf.glm(formula = \"RainTomorrow2 ~ RainToday + Rainfall + Humidity9am + Temp9am + Pressure9am + Humidity3pm + Temp3pm + Pressure3pm\", \n",
    "                          data=weather, \n",
    "                          family=sm.families.Binomial(sm.genmod.families.links.cauchy())).fit()"
   ]
  },
  {
   "cell_type": "code",
   "execution_count": 48,
   "metadata": {},
   "outputs": [
    {
     "name": "stderr",
     "output_type": "stream",
     "text": [
      "/opt/anaconda3/lib/python3.8/site-packages/statsmodels/genmod/families/family.py:894: RuntimeWarning: invalid value encountered in divide\n",
      "  n_endog_mu = self._clean((1. - endog) / (1. - mu))\n"
     ]
    }
   ],
   "source": [
    "model_02_clog = smf.glm(formula = \"RainTomorrow2 ~ RainToday + Rainfall + Humidity9am + Temp9am + Pressure9am + Humidity3pm + Temp3pm + Pressure3pm\", \n",
    "                        data=weather, \n",
    "                        family=sm.families.Binomial(sm.genmod.families.links.cloglog())).fit()"
   ]
  },
  {
   "cell_type": "markdown",
   "metadata": {},
   "source": [
    "model_03:"
   ]
  },
  {
   "cell_type": "code",
   "execution_count": 50,
   "metadata": {},
   "outputs": [],
   "source": [
    "model_03_logit = smf.glm(formula = \"RainTomorrow2 ~ RainToday + Rainfall + Humidity9am + WindGustSpeed * Pressure9am + Humidity3pm + Temp3pm + Pressure3pm\", \n",
    "                         data=weather, \n",
    "                         family=sm.families.Binomial()).fit()\n",
    "\n",
    "model_03_probit = smf.glm(formula = \"RainTomorrow2 ~ RainToday + Rainfall + Humidity9am + WindGustSpeed * Pressure9am + Humidity3pm + Temp3pm + Pressure3pm\", \n",
    "                          data=weather, \n",
    "                          family=sm.families.Binomial(sm.genmod.families.links.probit())).fit()\n",
    "\n",
    "model_03_cauchy = smf.glm(formula = \"RainTomorrow2 ~ RainToday + Rainfall + Humidity9am + WindGustSpeed * Pressure9am + Humidity3pm + Temp3pm + Pressure3pm\", \n",
    "                          data=weather, \n",
    "                          family=sm.families.Binomial(sm.genmod.families.links.cauchy())).fit()"
   ]
  },
  {
   "cell_type": "code",
   "execution_count": 51,
   "metadata": {},
   "outputs": [
    {
     "name": "stderr",
     "output_type": "stream",
     "text": [
      "/opt/anaconda3/lib/python3.8/site-packages/statsmodels/genmod/families/family.py:894: RuntimeWarning: invalid value encountered in divide\n",
      "  n_endog_mu = self._clean((1. - endog) / (1. - mu))\n"
     ]
    }
   ],
   "source": [
    "model_03_clog = smf.glm(formula = \"RainTomorrow2 ~ RainToday + Rainfall + Humidity9am + WindGustSpeed * Pressure9am + Humidity3pm + Temp3pm + Pressure3pm\", \n",
    "                        data=weather, \n",
    "                        family=sm.families.Binomial(sm.genmod.families.links.cloglog())).fit()"
   ]
  },
  {
   "cell_type": "markdown",
   "metadata": {},
   "source": [
    "model_04:"
   ]
  },
  {
   "cell_type": "code",
   "execution_count": 52,
   "metadata": {},
   "outputs": [],
   "source": [
    "model_04_logit = smf.glm(formula = \"RainTomorrow2 ~ RainToday + Sunshine * Evaporation + Rainfall + Humidity9am + Pressure9am + Humidity3pm + Temp3pm + Pressure3pm\", \n",
    "                         data=weather, \n",
    "                         family=sm.families.Binomial()).fit()\n",
    "\n",
    "model_04_probit = smf.glm(formula = \"RainTomorrow2 ~ RainToday + Sunshine * Evaporation + Rainfall + Humidity9am + Pressure9am + Humidity3pm + Temp3pm + Pressure3pm\", \n",
    "                          data=weather, \n",
    "                          family=sm.families.Binomial(sm.genmod.families.links.probit())).fit()\n",
    "\n",
    "model_04_cauchy = smf.glm(formula = \"RainTomorrow2 ~ RainToday + Sunshine * Evaporation + Rainfall + Humidity9am + Pressure9am + Humidity3pm + Temp3pm + Pressure3pm\", \n",
    "                          data=weather, \n",
    "                          family=sm.families.Binomial(sm.genmod.families.links.cauchy())).fit()"
   ]
  },
  {
   "cell_type": "code",
   "execution_count": 53,
   "metadata": {},
   "outputs": [
    {
     "name": "stderr",
     "output_type": "stream",
     "text": [
      "/opt/anaconda3/lib/python3.8/site-packages/statsmodels/genmod/families/family.py:894: RuntimeWarning: invalid value encountered in divide\n",
      "  n_endog_mu = self._clean((1. - endog) / (1. - mu))\n"
     ]
    }
   ],
   "source": [
    "model_04_clog = smf.glm(formula = \"RainTomorrow2 ~ RainToday + Sunshine * Evaporation + Rainfall + Humidity9am + Pressure9am + Humidity3pm + Temp3pm + Pressure3pm\", \n",
    "                        data=weather, \n",
    "                        family=sm.families.Binomial(sm.genmod.families.links.cloglog())).fit()"
   ]
  },
  {
   "cell_type": "markdown",
   "metadata": {},
   "source": [
    "model_05:"
   ]
  },
  {
   "cell_type": "code",
   "execution_count": 54,
   "metadata": {},
   "outputs": [],
   "source": [
    "model_05_logit = smf.glm(formula = \"RainTomorrow2 ~ Location + RainToday + Sunshine * Evaporation + Rainfall + Humidity9am + Pressure9am + Humidity3pm + Temp3pm + Pressure3pm\", \n",
    "                         data=weather, \n",
    "                         family=sm.families.Binomial()).fit()\n",
    "\n",
    "model_05_probit = smf.glm(formula = \"RainTomorrow2 ~ Location + RainToday + Sunshine * Evaporation + Rainfall + Humidity9am + Pressure9am + Humidity3pm + Temp3pm + Pressure3pm\", \n",
    "                          data=weather, \n",
    "                          family=sm.families.Binomial(sm.genmod.families.links.probit())).fit()\n",
    "\n",
    "model_05_cauchy = smf.glm(formula = \"RainTomorrow2 ~ Location + RainToday + Sunshine * Evaporation + Rainfall + Humidity9am + Pressure9am + Humidity3pm + Temp3pm + Pressure3pm\", \n",
    "                          data=weather, \n",
    "                          family=sm.families.Binomial(sm.genmod.families.links.cauchy())).fit()"
   ]
  },
  {
   "cell_type": "code",
   "execution_count": 55,
   "metadata": {},
   "outputs": [
    {
     "name": "stderr",
     "output_type": "stream",
     "text": [
      "/opt/anaconda3/lib/python3.8/site-packages/statsmodels/genmod/families/family.py:894: RuntimeWarning: invalid value encountered in divide\n",
      "  n_endog_mu = self._clean((1. - endog) / (1. - mu))\n"
     ]
    }
   ],
   "source": [
    "model_05_clog = smf.glm(formula = \"RainTomorrow2 ~ Location + RainToday + Sunshine * Evaporation + Rainfall + Humidity9am + Pressure9am + Humidity3pm + Temp3pm + Pressure3pm\", \n",
    "                        data=weather, \n",
    "                        family=sm.families.Binomial(sm.genmod.families.links.cloglog())).fit()"
   ]
  },
  {
   "cell_type": "markdown",
   "metadata": {},
   "source": [
    "### (v) \n",
    "\n",
    "#### (1) Make a ROC curve for the logistic model RainTomorrow ~ Location * RainToday and interpret it."
   ]
  },
  {
   "cell_type": "code",
   "execution_count": 89,
   "metadata": {},
   "outputs": [
    {
     "name": "stdout",
     "output_type": "stream",
     "text": [
      "Optimization terminated successfully.\n",
      "         Current function value: 0.511888\n",
      "         Iterations 6\n"
     ]
    }
   ],
   "source": [
    "model_roc = smf.logit(\"RainTomorrow2 ~ Location\", data=weather).fit()"
   ]
  },
  {
   "cell_type": "code",
   "execution_count": 90,
   "metadata": {},
   "outputs": [
    {
     "data": {
      "text/plain": [
       "array([[43993.,     0.],\n",
       "       [12427.,     0.]])"
      ]
     },
     "execution_count": 90,
     "metadata": {},
     "output_type": "execute_result"
    }
   ],
   "source": [
    "#let set my threshold as 0.5 and see our confusion matrix:\n",
    "model_roc.pred_table(threshold = 0.5)"
   ]
  },
  {
   "cell_type": "markdown",
   "metadata": {},
   "source": [
    "#### Confusion Matrix:\n",
    "\n",
    "|                 | ${\\hat Y}$ = 1| ${\\hat Y}$ = 0  ||\n",
    "| :-------------- | :------------:| -------------: | |\n",
    "| Y = 1     |          43993|              0 |  |\n",
    "| Y = 0     |          12427|              0 | |\n",
    "\n",
    "Now we can calculate our neede values:\n",
    "    \n",
    "Recall Score: ${\\frac{TP}{TP + FN}}$\n",
    "\n",
    "Precision Score: ${\\frac{TP}{TP + FP}}$\n",
    "\n",
    "F1 Score: ${\\frac{2}{\\frac{1}{Precision} + \\frac{1}{Recall}}}$ (note: F Measure ${\\beta = 0}$)"
   ]
  },
  {
   "cell_type": "code",
   "execution_count": 58,
   "metadata": {},
   "outputs": [
    {
     "name": "stdout",
     "output_type": "stream",
     "text": [
      "Recall: 0.7797274064621329 \n",
      "Precision: 1.0 \n",
      "F1 Score: 0.8762323978728066\n"
     ]
    }
   ],
   "source": [
    "Recall_Score = 43993 / (43994+12427)\n",
    "\n",
    "Precision_Score = 43993 / (43993 + 0)\n",
    "    \n",
    "F1_Score = 2 / ( (1/Precision_Score) + (1/Recall_Score) )\n",
    "\n",
    "print('Recall:', Recall_Score, '\\nPrecision:', Precision_Score, '\\nF1 Score:', F1_Score )"
   ]
  },
  {
   "cell_type": "code",
   "execution_count": 59,
   "metadata": {},
   "outputs": [
    {
     "data": {
      "image/png": "[encoded data removed]",
      "text/plain": [
       "<Figure size 576x396 with 1 Axes>"
      ]
     },
     "metadata": {},
     "output_type": "display_data"
    }
   ],
   "source": [
    "fpr, tpr, _ = metrics.roc_curve(weather.RainTomorrow2, model_roc.predict())\n",
    "\n",
    "plt.style.use('seaborn')\n",
    "plt.rc('font', size=14)\n",
    "plt.rc('figure', titlesize=18)\n",
    "plt.rc('axes', labelsize=15)\n",
    "plt.rc('axes', titlesize=18)\n",
    "plt.plot(fpr,tpr, \n",
    "         color='green',\n",
    "         linewidth=2, \n",
    "         markersize=12)\n",
    "plt.title(\"ROC Curve\")\n",
    "plt.show()"
   ]
  },
  {
   "cell_type": "markdown",
   "metadata": {},
   "source": [
    "### (v) \n",
    "\n",
    "#### (2) What is the AUC of this model?"
   ]
  },
  {
   "cell_type": "code",
   "execution_count": 60,
   "metadata": {},
   "outputs": [
    {
     "name": "stdout",
     "output_type": "stream",
     "text": [
      "This Model has a AUC score of: 0.6140508792657052\n"
     ]
    }
   ],
   "source": [
    "print('This Model has a AUC score of:', metrics.roc_auc_score(weather.RainTomorrow2, model_roc.predict()))"
   ]
  },
  {
   "cell_type": "markdown",
   "metadata": {},
   "source": [
    "# 2 Linear Regression\n",
    "\n",
    "## (a) Exploration\n",
    "\n",
    "### (i) \n",
    "\n",
    "#### ${1}$ Fit the model np.log(earnings) ~ age + education + gender. Show the output of the model and interpret each coeﬀicient."
   ]
  },
  {
   "cell_type": "markdown",
   "metadata": {},
   "source": [
    "Coefficients we get from this model are male, female, age and education. Our gender female is captured by the intercept term and gender seems to contribute to this model the most and determined our predicted response by a larger percentage than other coefficients. Followed by education are a big covariate that can influence our predicted response. \n",
    "\n",
    "- we can see that based on the ranking, gender seems to have the the highest impact on our response and then education lastly age and based on p-values we can say they do reach significant level to reject our Null Hypothesis ${H_0}$ and estiablished this model in use."
   ]
  },
  {
   "cell_type": "code",
   "execution_count": 4,
   "metadata": {
    "collapsed": true
   },
   "outputs": [
    {
     "data": {
      "text/html": [
       "<div>\n",
       "<style scoped>\n",
       "    .dataframe tbody tr th:only-of-type {\n",
       "        vertical-align: middle;\n",
       "    }\n",
       "\n",
       "    .dataframe tbody tr th {\n",
       "        vertical-align: top;\n",
       "    }\n",
       "\n",
       "    .dataframe thead th {\n",
       "        text-align: right;\n",
       "    }\n",
       "</style>\n",
       "<table border=\"1\" class=\"dataframe\">\n",
       "  <thead>\n",
       "    <tr style=\"text-align: right;\">\n",
       "      <th></th>\n",
       "      <th>earnings</th>\n",
       "      <th>gender</th>\n",
       "      <th>age</th>\n",
       "      <th>region</th>\n",
       "      <th>education</th>\n",
       "    </tr>\n",
       "  </thead>\n",
       "  <tbody>\n",
       "    <tr>\n",
       "      <th>0</th>\n",
       "      <td>20.673077</td>\n",
       "      <td>male</td>\n",
       "      <td>31</td>\n",
       "      <td>South</td>\n",
       "      <td>14</td>\n",
       "    </tr>\n",
       "    <tr>\n",
       "      <th>1</th>\n",
       "      <td>24.278847</td>\n",
       "      <td>male</td>\n",
       "      <td>50</td>\n",
       "      <td>South</td>\n",
       "      <td>12</td>\n",
       "    </tr>\n",
       "    <tr>\n",
       "      <th>2</th>\n",
       "      <td>10.149572</td>\n",
       "      <td>male</td>\n",
       "      <td>36</td>\n",
       "      <td>South</td>\n",
       "      <td>12</td>\n",
       "    </tr>\n",
       "    <tr>\n",
       "      <th>3</th>\n",
       "      <td>8.894231</td>\n",
       "      <td>female</td>\n",
       "      <td>33</td>\n",
       "      <td>South</td>\n",
       "      <td>10</td>\n",
       "    </tr>\n",
       "    <tr>\n",
       "      <th>4</th>\n",
       "      <td>6.410256</td>\n",
       "      <td>female</td>\n",
       "      <td>56</td>\n",
       "      <td>South</td>\n",
       "      <td>10</td>\n",
       "    </tr>\n",
       "  </tbody>\n",
       "</table>\n",
       "</div>"
      ],
      "text/plain": [
       "    earnings  gender  age region  education\n",
       "0  20.673077    male   31  South         14\n",
       "1  24.278847    male   50  South         12\n",
       "2  10.149572    male   36  South         12\n",
       "3   8.894231  female   33  South         10\n",
       "4   6.410256  female   56  South         10"
      ]
     },
     "execution_count": 4,
     "metadata": {},
     "output_type": "execute_result"
    }
   ],
   "source": [
    "data = sm.datasets.get_rdataset(\"CPSSW8\", \"AER\").data\n",
    "\n",
    "data.head(5)"
   ]
  },
  {
   "cell_type": "code",
   "execution_count": 5,
   "metadata": {
    "scrolled": true
   },
   "outputs": [
    {
     "data": {
      "text/html": [
       "<table class=\"simpletable\">\n",
       "<caption>OLS Regression Results</caption>\n",
       "<tr>\n",
       "  <th>Dep. Variable:</th>    <td>np.log(earnings)</td> <th>  R-squared:         </th> <td>   0.245</td> \n",
       "</tr>\n",
       "<tr>\n",
       "  <th>Model:</th>                   <td>OLS</td>       <th>  Adj. R-squared:    </th> <td>   0.245</td> \n",
       "</tr>\n",
       "<tr>\n",
       "  <th>Method:</th>             <td>Least Squares</td>  <th>  F-statistic:       </th> <td>   6649.</td> \n",
       "</tr>\n",
       "<tr>\n",
       "  <th>Date:</th>             <td>Fri, 25 Nov 2022</td> <th>  Prob (F-statistic):</th>  <td>  0.00</td>  \n",
       "</tr>\n",
       "<tr>\n",
       "  <th>Time:</th>                 <td>02:36:28</td>     <th>  Log-Likelihood:    </th> <td> -42257.</td> \n",
       "</tr>\n",
       "<tr>\n",
       "  <th>No. Observations:</th>      <td> 61395</td>      <th>  AIC:               </th> <td>8.452e+04</td>\n",
       "</tr>\n",
       "<tr>\n",
       "  <th>Df Residuals:</th>          <td> 61391</td>      <th>  BIC:               </th> <td>8.456e+04</td>\n",
       "</tr>\n",
       "<tr>\n",
       "  <th>Df Model:</th>              <td>     3</td>      <th>                     </th>     <td> </td>    \n",
       "</tr>\n",
       "<tr>\n",
       "  <th>Covariance Type:</th>      <td>nonrobust</td>    <th>                     </th>     <td> </td>    \n",
       "</tr>\n",
       "</table>\n",
       "<table class=\"simpletable\">\n",
       "<tr>\n",
       "         <td></td>           <th>coef</th>     <th>std err</th>      <th>t</th>      <th>P>|t|</th>  <th>[0.025</th>    <th>0.975]</th>  \n",
       "</tr>\n",
       "<tr>\n",
       "  <th>Intercept</th>      <td>    0.9868</td> <td>    0.013</td> <td>   74.296</td> <td> 0.000</td> <td>    0.961</td> <td>    1.013</td>\n",
       "</tr>\n",
       "<tr>\n",
       "  <th>gender[T.male]</th> <td>    0.2339</td> <td>    0.004</td> <td>   59.651</td> <td> 0.000</td> <td>    0.226</td> <td>    0.242</td>\n",
       "</tr>\n",
       "<tr>\n",
       "  <th>age</th>            <td>    0.0089</td> <td>    0.000</td> <td>   48.215</td> <td> 0.000</td> <td>    0.009</td> <td>    0.009</td>\n",
       "</tr>\n",
       "<tr>\n",
       "  <th>education</th>      <td>    0.0941</td> <td>    0.001</td> <td>  118.818</td> <td> 0.000</td> <td>    0.093</td> <td>    0.096</td>\n",
       "</tr>\n",
       "</table>\n",
       "<table class=\"simpletable\">\n",
       "<tr>\n",
       "  <th>Omnibus:</th>       <td>2743.387</td> <th>  Durbin-Watson:     </th> <td>   1.809</td>\n",
       "</tr>\n",
       "<tr>\n",
       "  <th>Prob(Omnibus):</th>  <td> 0.000</td>  <th>  Jarque-Bera (JB):  </th> <td>3647.470</td>\n",
       "</tr>\n",
       "<tr>\n",
       "  <th>Skew:</th>           <td>-0.453</td>  <th>  Prob(JB):          </th> <td>    0.00</td>\n",
       "</tr>\n",
       "<tr>\n",
       "  <th>Kurtosis:</th>       <td> 3.777</td>  <th>  Cond. No.          </th> <td>    306.</td>\n",
       "</tr>\n",
       "</table><br/><br/>Notes:<br/>[1] Standard Errors assume that the covariance matrix of the errors is correctly specified."
      ],
      "text/plain": [
       "<class 'statsmodels.iolib.summary.Summary'>\n",
       "\"\"\"\n",
       "                            OLS Regression Results                            \n",
       "==============================================================================\n",
       "Dep. Variable:       np.log(earnings)   R-squared:                       0.245\n",
       "Model:                            OLS   Adj. R-squared:                  0.245\n",
       "Method:                 Least Squares   F-statistic:                     6649.\n",
       "Date:                Fri, 25 Nov 2022   Prob (F-statistic):               0.00\n",
       "Time:                        02:36:28   Log-Likelihood:                -42257.\n",
       "No. Observations:               61395   AIC:                         8.452e+04\n",
       "Df Residuals:                   61391   BIC:                         8.456e+04\n",
       "Df Model:                           3                                         \n",
       "Covariance Type:            nonrobust                                         \n",
       "==================================================================================\n",
       "                     coef    std err          t      P>|t|      [0.025      0.975]\n",
       "----------------------------------------------------------------------------------\n",
       "Intercept          0.9868      0.013     74.296      0.000       0.961       1.013\n",
       "gender[T.male]     0.2339      0.004     59.651      0.000       0.226       0.242\n",
       "age                0.0089      0.000     48.215      0.000       0.009       0.009\n",
       "education          0.0941      0.001    118.818      0.000       0.093       0.096\n",
       "==============================================================================\n",
       "Omnibus:                     2743.387   Durbin-Watson:                   1.809\n",
       "Prob(Omnibus):                  0.000   Jarque-Bera (JB):             3647.470\n",
       "Skew:                          -0.453   Prob(JB):                         0.00\n",
       "Kurtosis:                       3.777   Cond. No.                         306.\n",
       "==============================================================================\n",
       "\n",
       "Notes:\n",
       "[1] Standard Errors assume that the covariance matrix of the errors is correctly specified.\n",
       "\"\"\""
      ]
     },
     "execution_count": 5,
     "metadata": {},
     "output_type": "execute_result"
    }
   ],
   "source": [
    "fit = smf.ols(\"np.log(earnings) ~ age + education + gender\", data = data).fit()\n",
    "\n",
    "fit.summary()"
   ]
  },
  {
   "cell_type": "markdown",
   "metadata": {},
   "source": [
    "### (i) \n",
    "\n",
    "#### ${2}$ Why is there no coeﬀicient for female?\n",
    "\n",
    "If we change our model to ${\"np.log(earnings)}$ ~ ${age + education + gender -1\"}$ We can see the excluded model of intercept with provided coefficients for all categories. We can say the coefficient female. The value of our female has been captured by the intercept term."
   ]
  },
  {
   "cell_type": "markdown",
   "metadata": {},
   "source": [
    "### (ii) \n",
    "\n",
    "#### Fit a model with an interaction term between gender and education. Interpret the coeﬀicient gender[T.male]:education. What is the p-value for this coeﬀicient?"
   ]
  },
  {
   "cell_type": "markdown",
   "metadata": {},
   "source": [
    "based on our coefficient of gender[T.male]:education = -0.041361:\n",
    "\n",
    "- one unit increase in our interaction ${gender[T.male]:education}$, our response 𝑛𝑝.𝑙𝑜𝑔(𝑒𝑎𝑟𝑛𝑖𝑛𝑔𝑠) would decrease one unit\n",
    "\n",
    "- comapred to our previous model, our model elevated in ${R^2}$ by 0.004 but here our p-value is 0.159 (p>0.05). Showing this interaction does not shown significant and cannot provide ability to our explaination for our response."
   ]
  },
  {
   "cell_type": "code",
   "execution_count": 6,
   "metadata": {},
   "outputs": [
    {
     "name": "stdout",
     "output_type": "stream",
     "text": [
      "Coefficients:\n",
      " Intercept                  -14.623340\n",
      "gender[T.male]               4.816203\n",
      "age                          0.157422\n",
      "education                    1.772641\n",
      "gender[T.male]:education    -0.041361\n",
      "dtype: float64 \n",
      "P-Values:\n",
      " Intercept                   0.000000e+00\n",
      "gender[T.male]              4.700570e-32\n",
      "age                         0.000000e+00\n",
      "education                   0.000000e+00\n",
      "gender[T.male]:education    1.593211e-01\n",
      "dtype: float64 \n",
      "R Squared: 0.2487826428974439\n"
     ]
    }
   ],
   "source": [
    "fit = smf.ols(\"earnings ~ age + gender * education\", data = data).fit()\n",
    "\n",
    "\n",
    "print('Coefficients:\\n', fit.params, '\\nP-Values:\\n', fit.pvalues,'\\nR Squared:', fit.rsquared)"
   ]
  },
  {
   "cell_type": "markdown",
   "metadata": {},
   "source": [
    "### (iii) \n",
    "\n",
    "#### ${1}$ Using the model in the previous exercise, predict the wage (not on the log scale!) for:"
   ]
  },
  {
   "cell_type": "markdown",
   "metadata": {},
   "source": [
    "1. A female with education = 20 and age = 40\n",
    "\n",
    "27.126359999999995\n",
    "\n",
    "2. 2. A male with education = 20 and age = 28.\n",
    "\n",
    "28.895390999999996"
   ]
  },
  {
   "cell_type": "code",
   "execution_count": 7,
   "metadata": {},
   "outputs": [
    {
     "data": {
      "text/plain": [
       "Intercept                  -14.623340\n",
       "gender[T.male]               4.816203\n",
       "age                          0.157422\n",
       "education                    1.772641\n",
       "gender[T.male]:education    -0.041361\n",
       "dtype: float64"
      ]
     },
     "execution_count": 7,
     "metadata": {},
     "output_type": "execute_result"
    }
   ],
   "source": [
    "model_wage = smf.ols(\"earnings ~ age + gender * education\", data = data).fit()\n",
    "\n",
    "model_wage.params"
   ]
  },
  {
   "cell_type": "markdown",
   "metadata": {},
   "source": [
    "#### wage model:  <br><br> ${earings = \\beta_0 + \\beta_1X_1 + \\beta_2X_2 + \\beta_3X_3 + \\beta_4X_4}$ <br> <br>${earings = \\beta_0 + \\beta_1X_{gender[T.male]} + \\beta_2X_{age} + \\beta_3X_{education\t} + \\beta_4X_{gender[T.male]:education}}$ <br><br>${earings = -14.623340 + 4.816203X_{gender[T.male]} + 0.157422X_{age} + 1.772641X_{education\t} - 0.041361X_{gender[T.male]:education}}$"
   ]
  },
  {
   "cell_type": "code",
   "execution_count": 8,
   "metadata": {},
   "outputs": [
    {
     "data": {
      "text/plain": [
       "27.126359999999995"
      ]
     },
     "execution_count": 8,
     "metadata": {},
     "output_type": "execute_result"
    }
   ],
   "source": [
    "#A female with education = 20 and age = 40: \n",
    "\n",
    "- 14.623340 + 0.157422 * 40 + 1.772641 * 20 "
   ]
  },
  {
   "cell_type": "code",
   "execution_count": 9,
   "metadata": {},
   "outputs": [
    {
     "data": {
      "text/plain": [
       "28.895390999999996"
      ]
     },
     "execution_count": 9,
     "metadata": {},
     "output_type": "execute_result"
    }
   ],
   "source": [
    "#A male with education = 20 and age = 28: \n",
    "\n",
    "- 14.623340 + 4.816203 + (0.157422 * 28) + (1.772641 * 20) - (0.041361 * ( 1 * 28 ))"
   ]
  },
  {
   "cell_type": "markdown",
   "metadata": {},
   "source": [
    "## (b) Regions\n",
    "\n",
    "### (i) \n",
    "\n",
    "#### What are the unique “regions” in this data set? Make a table containing 95% confidence intervals for the average earnings for each combination of region and gender."
   ]
  },
  {
   "cell_type": "markdown",
   "metadata": {},
   "source": [
    "|Region         |     Gender   |     Avg.   |\n",
    "| :--- | :---  | :----: | \n",
    "| Midwest      | female           | 15.863265    |\n",
    "|       | male           | 19.921252    |\n",
    "| Northeast      | female          | 17.674641    |\n",
    "|       | male          |  21.528370    |\n",
    "| South       | female          | 15.738973    |\n",
    "|      | male         |  19.254426    |\n",
    "| West      | female          |  16.500548    |\n",
    "|       | male         | 20.089989    |\n",
    "\n",
    "<br>\n",
    "\n",
    "|         |    Midwest   |   Northeast  | South |    West   |\n",
    "| :--- | :--- | :---: | :----: | :----: | \n",
    "| Male      | (19.710304, 20.132200)         | (21.294135, 21.762605)       | (19.062785, 19.446067)\t    | (19.880695, 20.299283)    |\n",
    "| Female      | (15.624361, 16.102170)       | (17.411674, 17.937607)      | (15.529897, 15.948049)    | (16.255156, 16.745940)\t    |"
   ]
  },
  {
   "cell_type": "code",
   "execution_count": 10,
   "metadata": {},
   "outputs": [
    {
     "data": {
      "text/plain": [
       "4"
      ]
     },
     "execution_count": 10,
     "metadata": {},
     "output_type": "execute_result"
    }
   ],
   "source": [
    "data.region.nunique()"
   ]
  },
  {
   "cell_type": "code",
   "execution_count": 11,
   "metadata": {},
   "outputs": [
    {
     "data": {
      "text/plain": [
       "region     gender\n",
       "Midwest    female    15.863265\n",
       "           male      19.921252\n",
       "Northeast  female    17.674641\n",
       "           male      21.528370\n",
       "South      female    15.738973\n",
       "           male      19.254426\n",
       "West       female    16.500548\n",
       "           male      20.089989\n",
       "Name: earnings, dtype: float64"
      ]
     },
     "execution_count": 11,
     "metadata": {},
     "output_type": "execute_result"
    }
   ],
   "source": [
    "data.groupby([\"region\", \"gender\"])[\"earnings\"].mean()\n",
    "#we can find the average earings here"
   ]
  },
  {
   "cell_type": "code",
   "execution_count": 12,
   "metadata": {},
   "outputs": [],
   "source": [
    "region_gender = set(product(set(data[\"region\"]), set(data[\"gender\"])))\n",
    "#first we create our cartesian product\n",
    "\n",
    "data[\"region_gender\"] = list(zip(data[\"region\"],data[\"gender\"])) \n",
    "#fit this into my dataframe\n",
    "\n",
    "fit_2 = smf.ols('earnings ~ region_gender - 1', data = data).fit()\n",
    "#now we can run the regression with our cartesian product"
   ]
  },
  {
   "cell_type": "code",
   "execution_count": 13,
   "metadata": {},
   "outputs": [
    {
     "data": {
      "text/html": [
       "<div>\n",
       "<style scoped>\n",
       "    .dataframe tbody tr th:only-of-type {\n",
       "        vertical-align: middle;\n",
       "    }\n",
       "\n",
       "    .dataframe tbody tr th {\n",
       "        vertical-align: top;\n",
       "    }\n",
       "\n",
       "    .dataframe thead th {\n",
       "        text-align: right;\n",
       "    }\n",
       "</style>\n",
       "<table border=\"1\" class=\"dataframe\">\n",
       "  <thead>\n",
       "    <tr style=\"text-align: right;\">\n",
       "      <th></th>\n",
       "      <th>Conf_0.025</th>\n",
       "      <th>Conf_0.975</th>\n",
       "      <th>Avg.</th>\n",
       "    </tr>\n",
       "  </thead>\n",
       "  <tbody>\n",
       "    <tr>\n",
       "      <th>region_gender[('Midwest', 'female')]</th>\n",
       "      <td>15.624361</td>\n",
       "      <td>16.102170</td>\n",
       "      <td>15.863265</td>\n",
       "    </tr>\n",
       "    <tr>\n",
       "      <th>region_gender[('Midwest', 'male')]</th>\n",
       "      <td>19.710304</td>\n",
       "      <td>20.132200</td>\n",
       "      <td>19.921252</td>\n",
       "    </tr>\n",
       "    <tr>\n",
       "      <th>region_gender[('Northeast', 'female')]</th>\n",
       "      <td>17.411674</td>\n",
       "      <td>17.937607</td>\n",
       "      <td>17.674641</td>\n",
       "    </tr>\n",
       "    <tr>\n",
       "      <th>region_gender[('Northeast', 'male')]</th>\n",
       "      <td>21.294135</td>\n",
       "      <td>21.762605</td>\n",
       "      <td>21.528370</td>\n",
       "    </tr>\n",
       "    <tr>\n",
       "      <th>region_gender[('South', 'female')]</th>\n",
       "      <td>15.529897</td>\n",
       "      <td>15.948049</td>\n",
       "      <td>15.738973</td>\n",
       "    </tr>\n",
       "    <tr>\n",
       "      <th>region_gender[('South', 'male')]</th>\n",
       "      <td>19.062785</td>\n",
       "      <td>19.446067</td>\n",
       "      <td>19.254426</td>\n",
       "    </tr>\n",
       "    <tr>\n",
       "      <th>region_gender[('West', 'female')]</th>\n",
       "      <td>16.255156</td>\n",
       "      <td>16.745940</td>\n",
       "      <td>16.500548</td>\n",
       "    </tr>\n",
       "    <tr>\n",
       "      <th>region_gender[('West', 'male')]</th>\n",
       "      <td>19.880695</td>\n",
       "      <td>20.299283</td>\n",
       "      <td>20.089989</td>\n",
       "    </tr>\n",
       "  </tbody>\n",
       "</table>\n",
       "</div>"
      ],
      "text/plain": [
       "                                        Conf_0.025  Conf_0.975       Avg.\n",
       "region_gender[('Midwest', 'female')]     15.624361   16.102170  15.863265\n",
       "region_gender[('Midwest', 'male')]       19.710304   20.132200  19.921252\n",
       "region_gender[('Northeast', 'female')]   17.411674   17.937607  17.674641\n",
       "region_gender[('Northeast', 'male')]     21.294135   21.762605  21.528370\n",
       "region_gender[('South', 'female')]       15.529897   15.948049  15.738973\n",
       "region_gender[('South', 'male')]         19.062785   19.446067  19.254426\n",
       "region_gender[('West', 'female')]        16.255156   16.745940  16.500548\n",
       "region_gender[('West', 'male')]          19.880695   20.299283  20.089989"
      ]
     },
     "execution_count": 13,
     "metadata": {},
     "output_type": "execute_result"
    }
   ],
   "source": [
    "records = sorted(list(product(set(data[\"region\"]), set(data[\"gender\"]))))\n",
    "\n",
    "frame = pd.DataFrame.from_records(records, columns = [\"region\", \"gender\"])\n",
    "\n",
    "table_2 = fit_2.conf_int()\n",
    "\n",
    "table_2.reindex(table_2.abs().index).reset_index()\n",
    "\n",
    "table_2.columns = [\"Conf_0.025\", \"Conf_0.975\"]\n",
    "\n",
    "Avergae = [15.863265, 19.921252,17.674641, 21.528370, 15.738973, 19.254426, 16.500548, 20.089989]\n",
    "\n",
    "table_2[\"Avg.\"] = Avergae\n",
    "\n",
    "table_2"
   ]
  },
  {
   "cell_type": "markdown",
   "metadata": {},
   "source": [
    "### (ii) \n",
    "\n",
    "#### ${1}$ Add the “region” term to the model np.log(wage) ~ age + education + gender. \n",
    "\n",
    "#### Which region is the reference class in this model?"
   ]
  },
  {
   "cell_type": "markdown",
   "metadata": {},
   "source": [
    "The Reference Classs Baseline in this model with Region is region[T.Midwest]\t"
   ]
  },
  {
   "cell_type": "markdown",
   "metadata": {},
   "source": [
    "#### ${2}$ Is the region covariate significant?"
   ]
  },
  {
   "cell_type": "markdown",
   "metadata": {},
   "source": [
    "Region catagory in our regression model here reached significant level since our p-values are all p < 0.05 and we can here reject our ${H_0}$ Null Hypothesis and region covariate can bring significance for our model response."
   ]
  },
  {
   "cell_type": "markdown",
   "metadata": {},
   "source": [
    "#### ${3}$ Which region has the worst effect on wages?"
   ]
  },
  {
   "cell_type": "markdown",
   "metadata": {},
   "source": [
    "Baed on our result, region[T.South]\twith coefficient -0.0174 has the worst effect on our earnings since every unit up from Region South, it decrease our earnings unit."
   ]
  },
  {
   "cell_type": "code",
   "execution_count": 14,
   "metadata": {
    "scrolled": true
   },
   "outputs": [
    {
     "data": {
      "text/html": [
       "<table class=\"simpletable\">\n",
       "<caption>OLS Regression Results</caption>\n",
       "<tr>\n",
       "  <th>Dep. Variable:</th>    <td>np.log(earnings)</td> <th>  R-squared:         </th> <td>   0.248</td> \n",
       "</tr>\n",
       "<tr>\n",
       "  <th>Model:</th>                   <td>OLS</td>       <th>  Adj. R-squared:    </th> <td>   0.248</td> \n",
       "</tr>\n",
       "<tr>\n",
       "  <th>Method:</th>             <td>Least Squares</td>  <th>  F-statistic:       </th> <td>   3371.</td> \n",
       "</tr>\n",
       "<tr>\n",
       "  <th>Date:</th>             <td>Fri, 25 Nov 2022</td> <th>  Prob (F-statistic):</th>  <td>  0.00</td>  \n",
       "</tr>\n",
       "<tr>\n",
       "  <th>Time:</th>                 <td>02:36:43</td>     <th>  Log-Likelihood:    </th> <td> -42152.</td> \n",
       "</tr>\n",
       "<tr>\n",
       "  <th>No. Observations:</th>      <td> 61395</td>      <th>  AIC:               </th> <td>8.432e+04</td>\n",
       "</tr>\n",
       "<tr>\n",
       "  <th>Df Residuals:</th>          <td> 61388</td>      <th>  BIC:               </th> <td>8.438e+04</td>\n",
       "</tr>\n",
       "<tr>\n",
       "  <th>Df Model:</th>              <td>     6</td>      <th>                     </th>     <td> </td>    \n",
       "</tr>\n",
       "<tr>\n",
       "  <th>Covariance Type:</th>      <td>nonrobust</td>    <th>                     </th>     <td> </td>    \n",
       "</tr>\n",
       "</table>\n",
       "<table class=\"simpletable\">\n",
       "<tr>\n",
       "           <td></td>              <th>coef</th>     <th>std err</th>      <th>t</th>      <th>P>|t|</th>  <th>[0.025</th>    <th>0.975]</th>  \n",
       "</tr>\n",
       "<tr>\n",
       "  <th>Intercept</th>           <td>    0.9831</td> <td>    0.014</td> <td>   71.392</td> <td> 0.000</td> <td>    0.956</td> <td>    1.010</td>\n",
       "</tr>\n",
       "<tr>\n",
       "  <th>gender[T.male]</th>      <td>    0.2329</td> <td>    0.004</td> <td>   59.489</td> <td> 0.000</td> <td>    0.225</td> <td>    0.241</td>\n",
       "</tr>\n",
       "<tr>\n",
       "  <th>region[T.Northeast]</th> <td>    0.0585</td> <td>    0.006</td> <td>   10.033</td> <td> 0.000</td> <td>    0.047</td> <td>    0.070</td>\n",
       "</tr>\n",
       "<tr>\n",
       "  <th>region[T.South]</th>     <td>   -0.0174</td> <td>    0.005</td> <td>   -3.308</td> <td> 0.001</td> <td>   -0.028</td> <td>   -0.007</td>\n",
       "</tr>\n",
       "<tr>\n",
       "  <th>region[T.West]</th>      <td>    0.0281</td> <td>    0.006</td> <td>    5.066</td> <td> 0.000</td> <td>    0.017</td> <td>    0.039</td>\n",
       "</tr>\n",
       "<tr>\n",
       "  <th>age</th>                 <td>    0.0088</td> <td>    0.000</td> <td>   48.005</td> <td> 0.000</td> <td>    0.008</td> <td>    0.009</td>\n",
       "</tr>\n",
       "<tr>\n",
       "  <th>education</th>           <td>    0.0936</td> <td>    0.001</td> <td>  118.091</td> <td> 0.000</td> <td>    0.092</td> <td>    0.095</td>\n",
       "</tr>\n",
       "</table>\n",
       "<table class=\"simpletable\">\n",
       "<tr>\n",
       "  <th>Omnibus:</th>       <td>2784.532</td> <th>  Durbin-Watson:     </th> <td>   1.815</td>\n",
       "</tr>\n",
       "<tr>\n",
       "  <th>Prob(Omnibus):</th>  <td> 0.000</td>  <th>  Jarque-Bera (JB):  </th> <td>3722.689</td>\n",
       "</tr>\n",
       "<tr>\n",
       "  <th>Skew:</th>           <td>-0.456</td>  <th>  Prob(JB):          </th> <td>    0.00</td>\n",
       "</tr>\n",
       "<tr>\n",
       "  <th>Kurtosis:</th>       <td> 3.789</td>  <th>  Cond. No.          </th> <td>    322.</td>\n",
       "</tr>\n",
       "</table><br/><br/>Notes:<br/>[1] Standard Errors assume that the covariance matrix of the errors is correctly specified."
      ],
      "text/plain": [
       "<class 'statsmodels.iolib.summary.Summary'>\n",
       "\"\"\"\n",
       "                            OLS Regression Results                            \n",
       "==============================================================================\n",
       "Dep. Variable:       np.log(earnings)   R-squared:                       0.248\n",
       "Model:                            OLS   Adj. R-squared:                  0.248\n",
       "Method:                 Least Squares   F-statistic:                     3371.\n",
       "Date:                Fri, 25 Nov 2022   Prob (F-statistic):               0.00\n",
       "Time:                        02:36:43   Log-Likelihood:                -42152.\n",
       "No. Observations:               61395   AIC:                         8.432e+04\n",
       "Df Residuals:                   61388   BIC:                         8.438e+04\n",
       "Df Model:                           6                                         \n",
       "Covariance Type:            nonrobust                                         \n",
       "=======================================================================================\n",
       "                          coef    std err          t      P>|t|      [0.025      0.975]\n",
       "---------------------------------------------------------------------------------------\n",
       "Intercept               0.9831      0.014     71.392      0.000       0.956       1.010\n",
       "gender[T.male]          0.2329      0.004     59.489      0.000       0.225       0.241\n",
       "region[T.Northeast]     0.0585      0.006     10.033      0.000       0.047       0.070\n",
       "region[T.South]        -0.0174      0.005     -3.308      0.001      -0.028      -0.007\n",
       "region[T.West]          0.0281      0.006      5.066      0.000       0.017       0.039\n",
       "age                     0.0088      0.000     48.005      0.000       0.008       0.009\n",
       "education               0.0936      0.001    118.091      0.000       0.092       0.095\n",
       "==============================================================================\n",
       "Omnibus:                     2784.532   Durbin-Watson:                   1.815\n",
       "Prob(Omnibus):                  0.000   Jarque-Bera (JB):             3722.689\n",
       "Skew:                          -0.456   Prob(JB):                         0.00\n",
       "Kurtosis:                       3.789   Cond. No.                         322.\n",
       "==============================================================================\n",
       "\n",
       "Notes:\n",
       "[1] Standard Errors assume that the covariance matrix of the errors is correctly specified.\n",
       "\"\"\""
      ]
     },
     "execution_count": 14,
     "metadata": {},
     "output_type": "execute_result"
    }
   ],
   "source": [
    "mymodel = smf.ols('np.log(earnings) ~ age + education + gender + region', data = data).fit()\n",
    "\n",
    "mymodel.summary()"
   ]
  },
  {
   "cell_type": "markdown",
   "metadata": {},
   "source": [
    "### (iii) "
   ]
  },
  {
   "cell_type": "markdown",
   "metadata": {},
   "source": [
    "#### ${1}$  Add the interaction term region * education to the previous model.\n",
    "\n",
    "#### Interpret the coeﬀicients of this model.\n",
    "We can see the interaction of region*education overall brought down accuracy of the model. P-value ${region[T.Northeast],region[T.West],region[T.Northeast]:education}$ all remain unrejectable for our Null Hypothesis and does not bring statistical value. Especially our ${region[T.West]:education}$ reached to almost ${p-value \\, 1}$ Hence, to intepret our coefficients of this model, they instead does not bring accuracy but more complicated prediction for our earnings. However, as we predicted before, Gender and Education itself, remians the main two covariates for helping us predict the model with highest coefficients.\n",
    "\n",
    "\n",
    "#### ${2}$ Explain what region[T.South]:education means using one sentence.\n",
    "Our assumption here is people from south region and have a certain education education together, they are somehow linked and can bring better prediction to our model together with higher or lower earings.\n",
    "\n",
    "#### ${3}$ Test if region * education is significant.\n",
    "Based on P-Values of ${Regions*Education}$ we can conclude that this interaction do not bring statistical evaulation for this model. With P-value to almost 0.973 and 0.522. We thus cannot reject our Null Hypothese that there is no significant between our covariate and response in this model."
   ]
  },
  {
   "cell_type": "code",
   "execution_count": 16,
   "metadata": {
    "scrolled": true
   },
   "outputs": [
    {
     "data": {
      "text/html": [
       "<table class=\"simpletable\">\n",
       "<caption>OLS Regression Results</caption>\n",
       "<tr>\n",
       "  <th>Dep. Variable:</th>    <td>np.log(earnings)</td> <th>  R-squared:         </th> <td>   0.248</td> \n",
       "</tr>\n",
       "<tr>\n",
       "  <th>Model:</th>                   <td>OLS</td>       <th>  Adj. R-squared:    </th> <td>   0.248</td> \n",
       "</tr>\n",
       "<tr>\n",
       "  <th>Method:</th>             <td>Least Squares</td>  <th>  F-statistic:       </th> <td>   2249.</td> \n",
       "</tr>\n",
       "<tr>\n",
       "  <th>Date:</th>             <td>Fri, 25 Nov 2022</td> <th>  Prob (F-statistic):</th>  <td>  0.00</td>  \n",
       "</tr>\n",
       "<tr>\n",
       "  <th>Time:</th>                 <td>02:39:02</td>     <th>  Log-Likelihood:    </th> <td> -42146.</td> \n",
       "</tr>\n",
       "<tr>\n",
       "  <th>No. Observations:</th>      <td> 61395</td>      <th>  AIC:               </th> <td>8.431e+04</td>\n",
       "</tr>\n",
       "<tr>\n",
       "  <th>Df Residuals:</th>          <td> 61385</td>      <th>  BIC:               </th> <td>8.440e+04</td>\n",
       "</tr>\n",
       "<tr>\n",
       "  <th>Df Model:</th>              <td>     9</td>      <th>                     </th>     <td> </td>    \n",
       "</tr>\n",
       "<tr>\n",
       "  <th>Covariance Type:</th>      <td>nonrobust</td>    <th>                     </th>     <td> </td>    \n",
       "</tr>\n",
       "</table>\n",
       "<table class=\"simpletable\">\n",
       "<tr>\n",
       "                <td></td>                   <th>coef</th>     <th>std err</th>      <th>t</th>      <th>P>|t|</th>  <th>[0.025</th>    <th>0.975]</th>  \n",
       "</tr>\n",
       "<tr>\n",
       "  <th>Intercept</th>                     <td>    1.0134</td> <td>    0.025</td> <td>   40.380</td> <td> 0.000</td> <td>    0.964</td> <td>    1.063</td>\n",
       "</tr>\n",
       "<tr>\n",
       "  <th>gender[T.male]</th>                <td>    0.2330</td> <td>    0.004</td> <td>   59.502</td> <td> 0.000</td> <td>    0.225</td> <td>    0.241</td>\n",
       "</tr>\n",
       "<tr>\n",
       "  <th>region[T.Northeast]</th>           <td>    0.0371</td> <td>    0.034</td> <td>    1.080</td> <td> 0.280</td> <td>   -0.030</td> <td>    0.104</td>\n",
       "</tr>\n",
       "<tr>\n",
       "  <th>region[T.South]</th>               <td>   -0.0997</td> <td>    0.031</td> <td>   -3.249</td> <td> 0.001</td> <td>   -0.160</td> <td>   -0.040</td>\n",
       "</tr>\n",
       "<tr>\n",
       "  <th>region[T.West]</th>                <td>    0.0286</td> <td>    0.032</td> <td>    0.897</td> <td> 0.370</td> <td>   -0.034</td> <td>    0.091</td>\n",
       "</tr>\n",
       "<tr>\n",
       "  <th>age</th>                           <td>    0.0088</td> <td>    0.000</td> <td>   48.032</td> <td> 0.000</td> <td>    0.008</td> <td>    0.009</td>\n",
       "</tr>\n",
       "<tr>\n",
       "  <th>education</th>                     <td>    0.0914</td> <td>    0.002</td> <td>   53.271</td> <td> 0.000</td> <td>    0.088</td> <td>    0.095</td>\n",
       "</tr>\n",
       "<tr>\n",
       "  <th>education:region[T.Northeast]</th> <td>    0.0016</td> <td>    0.002</td> <td>    0.640</td> <td> 0.522</td> <td>   -0.003</td> <td>    0.006</td>\n",
       "</tr>\n",
       "<tr>\n",
       "  <th>education:region[T.South]</th>     <td>    0.0061</td> <td>    0.002</td> <td>    2.736</td> <td> 0.006</td> <td>    0.002</td> <td>    0.010</td>\n",
       "</tr>\n",
       "<tr>\n",
       "  <th>education:region[T.West]</th>      <td>-7.702e-05</td> <td>    0.002</td> <td>   -0.033</td> <td> 0.973</td> <td>   -0.005</td> <td>    0.004</td>\n",
       "</tr>\n",
       "</table>\n",
       "<table class=\"simpletable\">\n",
       "<tr>\n",
       "  <th>Omnibus:</th>       <td>2789.684</td> <th>  Durbin-Watson:     </th> <td>   1.815</td>\n",
       "</tr>\n",
       "<tr>\n",
       "  <th>Prob(Omnibus):</th>  <td> 0.000</td>  <th>  Jarque-Bera (JB):  </th> <td>3732.981</td>\n",
       "</tr>\n",
       "<tr>\n",
       "  <th>Skew:</th>           <td>-0.457</td>  <th>  Prob(JB):          </th> <td>    0.00</td>\n",
       "</tr>\n",
       "<tr>\n",
       "  <th>Kurtosis:</th>       <td> 3.791</td>  <th>  Cond. No.          </th> <td>1.20e+03</td>\n",
       "</tr>\n",
       "</table><br/><br/>Notes:<br/>[1] Standard Errors assume that the covariance matrix of the errors is correctly specified.<br/>[2] The condition number is large, 1.2e+03. This might indicate that there are<br/>strong multicollinearity or other numerical problems."
      ],
      "text/plain": [
       "<class 'statsmodels.iolib.summary.Summary'>\n",
       "\"\"\"\n",
       "                            OLS Regression Results                            \n",
       "==============================================================================\n",
       "Dep. Variable:       np.log(earnings)   R-squared:                       0.248\n",
       "Model:                            OLS   Adj. R-squared:                  0.248\n",
       "Method:                 Least Squares   F-statistic:                     2249.\n",
       "Date:                Fri, 25 Nov 2022   Prob (F-statistic):               0.00\n",
       "Time:                        02:39:02   Log-Likelihood:                -42146.\n",
       "No. Observations:               61395   AIC:                         8.431e+04\n",
       "Df Residuals:                   61385   BIC:                         8.440e+04\n",
       "Df Model:                           9                                         \n",
       "Covariance Type:            nonrobust                                         \n",
       "=================================================================================================\n",
       "                                    coef    std err          t      P>|t|      [0.025      0.975]\n",
       "-------------------------------------------------------------------------------------------------\n",
       "Intercept                         1.0134      0.025     40.380      0.000       0.964       1.063\n",
       "gender[T.male]                    0.2330      0.004     59.502      0.000       0.225       0.241\n",
       "region[T.Northeast]               0.0371      0.034      1.080      0.280      -0.030       0.104\n",
       "region[T.South]                  -0.0997      0.031     -3.249      0.001      -0.160      -0.040\n",
       "region[T.West]                    0.0286      0.032      0.897      0.370      -0.034       0.091\n",
       "age                               0.0088      0.000     48.032      0.000       0.008       0.009\n",
       "education                         0.0914      0.002     53.271      0.000       0.088       0.095\n",
       "education:region[T.Northeast]     0.0016      0.002      0.640      0.522      -0.003       0.006\n",
       "education:region[T.South]         0.0061      0.002      2.736      0.006       0.002       0.010\n",
       "education:region[T.West]      -7.702e-05      0.002     -0.033      0.973      -0.005       0.004\n",
       "==============================================================================\n",
       "Omnibus:                     2789.684   Durbin-Watson:                   1.815\n",
       "Prob(Omnibus):                  0.000   Jarque-Bera (JB):             3732.981\n",
       "Skew:                          -0.457   Prob(JB):                         0.00\n",
       "Kurtosis:                       3.791   Cond. No.                     1.20e+03\n",
       "==============================================================================\n",
       "\n",
       "Notes:\n",
       "[1] Standard Errors assume that the covariance matrix of the errors is correctly specified.\n",
       "[2] The condition number is large, 1.2e+03. This might indicate that there are\n",
       "strong multicollinearity or other numerical problems.\n",
       "\"\"\""
      ]
     },
     "execution_count": 16,
     "metadata": {},
     "output_type": "execute_result"
    }
   ],
   "source": [
    "mymodel_2 = smf.ols('np.log(earnings) ~ age + gender + education * region', data = data).fit()\n",
    "\n",
    "mymodel_2.summary()"
   ]
  },
  {
   "cell_type": "markdown",
   "metadata": {},
   "source": [
    "### (iv) \n",
    "\n",
    "#### Still using the previous model."
   ]
  },
  {
   "cell_type": "markdown",
   "metadata": {},
   "source": [
    "#### ${1}$  Predict the wages of a female of age 40 living the in the south with 0 education. Will your predicted wages increase or decrease if you change the region to Northeast?\n",
    "we are looking for wages of a female of age 40 living the in the south with 0 education:\n",
    "\n",
    "with the model 'np.log(earnings) ~ age + education + gender + region' we get a prediction of wage of 3.73801 where we use the log predicted value the take using ${e}$ number to counter our changes to the earnings covariate.\n",
    "\n",
    "If we change from 𝑟𝑒𝑔𝑖𝑜𝑛[𝑇.𝑆𝑜𝑢𝑡ℎ] to 𝑟𝑒𝑔𝑖𝑜𝑛[𝑇.𝑁𝑜𝑟𝑡ℎ𝑒𝑎𝑠𝑡], we will see our predicted wages increases since our coefficient are higher and education remain the same, where 3.73801 increased to 4.032573.\n",
    "\n",
    "#### ${2}$  Do you think it is best to use the model with the interaction term region * education or the model without the interaction term? Justify your choice.\n",
    "It is a better choice to do our prediction without the interaction model since as in previous question we have examined the p-values of the model and majority of them did not reach significant level in order to provide statistical value. It can give us a much more inaccurate (not as close as) predicted earnings comparing to the model without. Even though as shown below our predicted values of the asked informated above is relatively similar with With interaction model prediction of South is predicted of 3.549414 and with interaction model prediction of Northeast is 4.069684. \n",
    "\n",
    "#### ${3}$  Suppose you learn that Robin is 35 and resides in the south. Can you use the model in (iii) to predict his / her wage? Why or why not?\n",
    "We will not be able to use the model in (iii) to prodict Robin's earnings due to two reasons:\n",
    "\n",
    "- The model itself is not really statiscially significant.\n",
    "\n",
    "- With the interaction, we need to know Robin's education variables to using this model to predict.\n",
    "\n",
    "- Based on the question titled 'his/her', we are also unsure of Robin's gender which we will have two imporant variables required to proceed the prediction. "
   ]
  },
  {
   "cell_type": "code",
   "execution_count": 32,
   "metadata": {
    "collapsed": true
   },
   "outputs": [
    {
     "data": {
      "text/html": [
       "<table class=\"simpletable\">\n",
       "<caption>OLS Regression Results</caption>\n",
       "<tr>\n",
       "  <th>Dep. Variable:</th>    <td>np.log(earnings)</td> <th>  R-squared:         </th> <td>   0.248</td> \n",
       "</tr>\n",
       "<tr>\n",
       "  <th>Model:</th>                   <td>OLS</td>       <th>  Adj. R-squared:    </th> <td>   0.248</td> \n",
       "</tr>\n",
       "<tr>\n",
       "  <th>Method:</th>             <td>Least Squares</td>  <th>  F-statistic:       </th> <td>   2249.</td> \n",
       "</tr>\n",
       "<tr>\n",
       "  <th>Date:</th>             <td>Fri, 25 Nov 2022</td> <th>  Prob (F-statistic):</th>  <td>  0.00</td>  \n",
       "</tr>\n",
       "<tr>\n",
       "  <th>Time:</th>                 <td>02:45:40</td>     <th>  Log-Likelihood:    </th> <td> -42146.</td> \n",
       "</tr>\n",
       "<tr>\n",
       "  <th>No. Observations:</th>      <td> 61395</td>      <th>  AIC:               </th> <td>8.431e+04</td>\n",
       "</tr>\n",
       "<tr>\n",
       "  <th>Df Residuals:</th>          <td> 61385</td>      <th>  BIC:               </th> <td>8.440e+04</td>\n",
       "</tr>\n",
       "<tr>\n",
       "  <th>Df Model:</th>              <td>     9</td>      <th>                     </th>     <td> </td>    \n",
       "</tr>\n",
       "<tr>\n",
       "  <th>Covariance Type:</th>      <td>nonrobust</td>    <th>                     </th>     <td> </td>    \n",
       "</tr>\n",
       "</table>\n",
       "<table class=\"simpletable\">\n",
       "<tr>\n",
       "                <td></td>                   <th>coef</th>     <th>std err</th>      <th>t</th>      <th>P>|t|</th>  <th>[0.025</th>    <th>0.975]</th>  \n",
       "</tr>\n",
       "<tr>\n",
       "  <th>Intercept</th>                     <td>    1.0134</td> <td>    0.025</td> <td>   40.380</td> <td> 0.000</td> <td>    0.964</td> <td>    1.063</td>\n",
       "</tr>\n",
       "<tr>\n",
       "  <th>gender[T.male]</th>                <td>    0.2330</td> <td>    0.004</td> <td>   59.502</td> <td> 0.000</td> <td>    0.225</td> <td>    0.241</td>\n",
       "</tr>\n",
       "<tr>\n",
       "  <th>region[T.Northeast]</th>           <td>    0.0371</td> <td>    0.034</td> <td>    1.080</td> <td> 0.280</td> <td>   -0.030</td> <td>    0.104</td>\n",
       "</tr>\n",
       "<tr>\n",
       "  <th>region[T.South]</th>               <td>   -0.0997</td> <td>    0.031</td> <td>   -3.249</td> <td> 0.001</td> <td>   -0.160</td> <td>   -0.040</td>\n",
       "</tr>\n",
       "<tr>\n",
       "  <th>region[T.West]</th>                <td>    0.0286</td> <td>    0.032</td> <td>    0.897</td> <td> 0.370</td> <td>   -0.034</td> <td>    0.091</td>\n",
       "</tr>\n",
       "<tr>\n",
       "  <th>age</th>                           <td>    0.0088</td> <td>    0.000</td> <td>   48.032</td> <td> 0.000</td> <td>    0.008</td> <td>    0.009</td>\n",
       "</tr>\n",
       "<tr>\n",
       "  <th>education</th>                     <td>    0.0914</td> <td>    0.002</td> <td>   53.271</td> <td> 0.000</td> <td>    0.088</td> <td>    0.095</td>\n",
       "</tr>\n",
       "<tr>\n",
       "  <th>region[T.Northeast]:education</th> <td>    0.0016</td> <td>    0.002</td> <td>    0.640</td> <td> 0.522</td> <td>   -0.003</td> <td>    0.006</td>\n",
       "</tr>\n",
       "<tr>\n",
       "  <th>region[T.South]:education</th>     <td>    0.0061</td> <td>    0.002</td> <td>    2.736</td> <td> 0.006</td> <td>    0.002</td> <td>    0.010</td>\n",
       "</tr>\n",
       "<tr>\n",
       "  <th>region[T.West]:education</th>      <td>-7.702e-05</td> <td>    0.002</td> <td>   -0.033</td> <td> 0.973</td> <td>   -0.005</td> <td>    0.004</td>\n",
       "</tr>\n",
       "</table>\n",
       "<table class=\"simpletable\">\n",
       "<tr>\n",
       "  <th>Omnibus:</th>       <td>2789.684</td> <th>  Durbin-Watson:     </th> <td>   1.815</td>\n",
       "</tr>\n",
       "<tr>\n",
       "  <th>Prob(Omnibus):</th>  <td> 0.000</td>  <th>  Jarque-Bera (JB):  </th> <td>3732.981</td>\n",
       "</tr>\n",
       "<tr>\n",
       "  <th>Skew:</th>           <td>-0.457</td>  <th>  Prob(JB):          </th> <td>    0.00</td>\n",
       "</tr>\n",
       "<tr>\n",
       "  <th>Kurtosis:</th>       <td> 3.791</td>  <th>  Cond. No.          </th> <td>1.20e+03</td>\n",
       "</tr>\n",
       "</table><br/><br/>Notes:<br/>[1] Standard Errors assume that the covariance matrix of the errors is correctly specified.<br/>[2] The condition number is large, 1.2e+03. This might indicate that there are<br/>strong multicollinearity or other numerical problems."
      ],
      "text/plain": [
       "<class 'statsmodels.iolib.summary.Summary'>\n",
       "\"\"\"\n",
       "                            OLS Regression Results                            \n",
       "==============================================================================\n",
       "Dep. Variable:       np.log(earnings)   R-squared:                       0.248\n",
       "Model:                            OLS   Adj. R-squared:                  0.248\n",
       "Method:                 Least Squares   F-statistic:                     2249.\n",
       "Date:                Fri, 25 Nov 2022   Prob (F-statistic):               0.00\n",
       "Time:                        02:45:40   Log-Likelihood:                -42146.\n",
       "No. Observations:               61395   AIC:                         8.431e+04\n",
       "Df Residuals:                   61385   BIC:                         8.440e+04\n",
       "Df Model:                           9                                         \n",
       "Covariance Type:            nonrobust                                         \n",
       "=================================================================================================\n",
       "                                    coef    std err          t      P>|t|      [0.025      0.975]\n",
       "-------------------------------------------------------------------------------------------------\n",
       "Intercept                         1.0134      0.025     40.380      0.000       0.964       1.063\n",
       "gender[T.male]                    0.2330      0.004     59.502      0.000       0.225       0.241\n",
       "region[T.Northeast]               0.0371      0.034      1.080      0.280      -0.030       0.104\n",
       "region[T.South]                  -0.0997      0.031     -3.249      0.001      -0.160      -0.040\n",
       "region[T.West]                    0.0286      0.032      0.897      0.370      -0.034       0.091\n",
       "age                               0.0088      0.000     48.032      0.000       0.008       0.009\n",
       "education                         0.0914      0.002     53.271      0.000       0.088       0.095\n",
       "region[T.Northeast]:education     0.0016      0.002      0.640      0.522      -0.003       0.006\n",
       "region[T.South]:education         0.0061      0.002      2.736      0.006       0.002       0.010\n",
       "region[T.West]:education      -7.702e-05      0.002     -0.033      0.973      -0.005       0.004\n",
       "==============================================================================\n",
       "Omnibus:                     2789.684   Durbin-Watson:                   1.815\n",
       "Prob(Omnibus):                  0.000   Jarque-Bera (JB):             3732.981\n",
       "Skew:                          -0.457   Prob(JB):                         0.00\n",
       "Kurtosis:                       3.791   Cond. No.                     1.20e+03\n",
       "==============================================================================\n",
       "\n",
       "Notes:\n",
       "[1] Standard Errors assume that the covariance matrix of the errors is correctly specified.\n",
       "[2] The condition number is large, 1.2e+03. This might indicate that there are\n",
       "strong multicollinearity or other numerical problems.\n",
       "\"\"\""
      ]
     },
     "execution_count": 32,
     "metadata": {},
     "output_type": "execute_result"
    }
   ],
   "source": [
    "mymodel_2_nolog = smf.ols('np.log(earnings) ~ age + gender + region * education', data = data).fit()\n",
    "\n",
    "mymodel_2_nolog.summary()"
   ]
  },
  {
   "cell_type": "code",
   "execution_count": 22,
   "metadata": {
    "collapsed": true
   },
   "outputs": [
    {
     "data": {
      "text/html": [
       "<table class=\"simpletable\">\n",
       "<caption>OLS Regression Results</caption>\n",
       "<tr>\n",
       "  <th>Dep. Variable:</th>    <td>np.log(earnings)</td> <th>  R-squared:         </th> <td>   0.248</td> \n",
       "</tr>\n",
       "<tr>\n",
       "  <th>Model:</th>                   <td>OLS</td>       <th>  Adj. R-squared:    </th> <td>   0.248</td> \n",
       "</tr>\n",
       "<tr>\n",
       "  <th>Method:</th>             <td>Least Squares</td>  <th>  F-statistic:       </th> <td>   3371.</td> \n",
       "</tr>\n",
       "<tr>\n",
       "  <th>Date:</th>             <td>Fri, 25 Nov 2022</td> <th>  Prob (F-statistic):</th>  <td>  0.00</td>  \n",
       "</tr>\n",
       "<tr>\n",
       "  <th>Time:</th>                 <td>02:42:25</td>     <th>  Log-Likelihood:    </th> <td> -42152.</td> \n",
       "</tr>\n",
       "<tr>\n",
       "  <th>No. Observations:</th>      <td> 61395</td>      <th>  AIC:               </th> <td>8.432e+04</td>\n",
       "</tr>\n",
       "<tr>\n",
       "  <th>Df Residuals:</th>          <td> 61388</td>      <th>  BIC:               </th> <td>8.438e+04</td>\n",
       "</tr>\n",
       "<tr>\n",
       "  <th>Df Model:</th>              <td>     6</td>      <th>                     </th>     <td> </td>    \n",
       "</tr>\n",
       "<tr>\n",
       "  <th>Covariance Type:</th>      <td>nonrobust</td>    <th>                     </th>     <td> </td>    \n",
       "</tr>\n",
       "</table>\n",
       "<table class=\"simpletable\">\n",
       "<tr>\n",
       "           <td></td>              <th>coef</th>     <th>std err</th>      <th>t</th>      <th>P>|t|</th>  <th>[0.025</th>    <th>0.975]</th>  \n",
       "</tr>\n",
       "<tr>\n",
       "  <th>Intercept</th>           <td>    0.9831</td> <td>    0.014</td> <td>   71.392</td> <td> 0.000</td> <td>    0.956</td> <td>    1.010</td>\n",
       "</tr>\n",
       "<tr>\n",
       "  <th>gender[T.male]</th>      <td>    0.2329</td> <td>    0.004</td> <td>   59.489</td> <td> 0.000</td> <td>    0.225</td> <td>    0.241</td>\n",
       "</tr>\n",
       "<tr>\n",
       "  <th>region[T.Northeast]</th> <td>    0.0585</td> <td>    0.006</td> <td>   10.033</td> <td> 0.000</td> <td>    0.047</td> <td>    0.070</td>\n",
       "</tr>\n",
       "<tr>\n",
       "  <th>region[T.South]</th>     <td>   -0.0174</td> <td>    0.005</td> <td>   -3.308</td> <td> 0.001</td> <td>   -0.028</td> <td>   -0.007</td>\n",
       "</tr>\n",
       "<tr>\n",
       "  <th>region[T.West]</th>      <td>    0.0281</td> <td>    0.006</td> <td>    5.066</td> <td> 0.000</td> <td>    0.017</td> <td>    0.039</td>\n",
       "</tr>\n",
       "<tr>\n",
       "  <th>age</th>                 <td>    0.0088</td> <td>    0.000</td> <td>   48.005</td> <td> 0.000</td> <td>    0.008</td> <td>    0.009</td>\n",
       "</tr>\n",
       "<tr>\n",
       "  <th>education</th>           <td>    0.0936</td> <td>    0.001</td> <td>  118.091</td> <td> 0.000</td> <td>    0.092</td> <td>    0.095</td>\n",
       "</tr>\n",
       "</table>\n",
       "<table class=\"simpletable\">\n",
       "<tr>\n",
       "  <th>Omnibus:</th>       <td>2784.532</td> <th>  Durbin-Watson:     </th> <td>   1.815</td>\n",
       "</tr>\n",
       "<tr>\n",
       "  <th>Prob(Omnibus):</th>  <td> 0.000</td>  <th>  Jarque-Bera (JB):  </th> <td>3722.689</td>\n",
       "</tr>\n",
       "<tr>\n",
       "  <th>Skew:</th>           <td>-0.456</td>  <th>  Prob(JB):          </th> <td>    0.00</td>\n",
       "</tr>\n",
       "<tr>\n",
       "  <th>Kurtosis:</th>       <td> 3.789</td>  <th>  Cond. No.          </th> <td>    322.</td>\n",
       "</tr>\n",
       "</table><br/><br/>Notes:<br/>[1] Standard Errors assume that the covariance matrix of the errors is correctly specified."
      ],
      "text/plain": [
       "<class 'statsmodels.iolib.summary.Summary'>\n",
       "\"\"\"\n",
       "                            OLS Regression Results                            \n",
       "==============================================================================\n",
       "Dep. Variable:       np.log(earnings)   R-squared:                       0.248\n",
       "Model:                            OLS   Adj. R-squared:                  0.248\n",
       "Method:                 Least Squares   F-statistic:                     3371.\n",
       "Date:                Fri, 25 Nov 2022   Prob (F-statistic):               0.00\n",
       "Time:                        02:42:25   Log-Likelihood:                -42152.\n",
       "No. Observations:               61395   AIC:                         8.432e+04\n",
       "Df Residuals:                   61388   BIC:                         8.438e+04\n",
       "Df Model:                           6                                         \n",
       "Covariance Type:            nonrobust                                         \n",
       "=======================================================================================\n",
       "                          coef    std err          t      P>|t|      [0.025      0.975]\n",
       "---------------------------------------------------------------------------------------\n",
       "Intercept               0.9831      0.014     71.392      0.000       0.956       1.010\n",
       "gender[T.male]          0.2329      0.004     59.489      0.000       0.225       0.241\n",
       "region[T.Northeast]     0.0585      0.006     10.033      0.000       0.047       0.070\n",
       "region[T.South]        -0.0174      0.005     -3.308      0.001      -0.028      -0.007\n",
       "region[T.West]          0.0281      0.006      5.066      0.000       0.017       0.039\n",
       "age                     0.0088      0.000     48.005      0.000       0.008       0.009\n",
       "education               0.0936      0.001    118.091      0.000       0.092       0.095\n",
       "==============================================================================\n",
       "Omnibus:                     2784.532   Durbin-Watson:                   1.815\n",
       "Prob(Omnibus):                  0.000   Jarque-Bera (JB):             3722.689\n",
       "Skew:                          -0.456   Prob(JB):                         0.00\n",
       "Kurtosis:                       3.789   Cond. No.                         322.\n",
       "==============================================================================\n",
       "\n",
       "Notes:\n",
       "[1] Standard Errors assume that the covariance matrix of the errors is correctly specified.\n",
       "\"\"\""
      ]
     },
     "execution_count": 22,
     "metadata": {},
     "output_type": "execute_result"
    }
   ],
   "source": [
    "mymodel_3 = smf.ols('np.log(earnings) ~ age + education + gender + region', data = data).fit()\n",
    "\n",
    "mymodel_3.summary()"
   ]
  },
  {
   "cell_type": "code",
   "execution_count": 43,
   "metadata": {},
   "outputs": [
    {
     "name": "stdout",
     "output_type": "stream",
     "text": [
      "Without interaction model prediction of South:  0    3.73801\n",
      "dtype: float64\n",
      "Without interaction model prediction of Northeast:  0    4.032573\n",
      "dtype: float64\n"
     ]
    }
   ],
   "source": [
    "x = mymodel_3.predict({\"age\": 40, \n",
    "                                \"education\": 0, \n",
    "                                \"region\": \"South\", \n",
    "                                \"gender\":\"female\"})\n",
    "x_2 = mymodel_3.predict(({\"age\": 40, \n",
    "                                \"education\": 0, \n",
    "                                \"region\": \"Northeast\", \n",
    "                                \"gender\":\"female\"}))\n",
    "\n",
    "print('Without interaction model prediction of South: ', np.exp(x))\n",
    "print('Without interaction model prediction of Northeast: ', np.exp(x_2)) "
   ]
  },
  {
   "cell_type": "code",
   "execution_count": 45,
   "metadata": {},
   "outputs": [
    {
     "name": "stdout",
     "output_type": "stream",
     "text": [
      "With interaction model prediction of South:  0    3.549414\n",
      "dtype: float64\n",
      "With interaction model prediction of Northeast:  0    4.069684\n",
      "dtype: float64\n"
     ]
    }
   ],
   "source": [
    "x_3 = mymodel_2_nolog.predict({\"age\": 40, \n",
    "                                \"education\": 0, \n",
    "                                \"region\": \"South\", \n",
    "                                \"gender\":\"female\"})\n",
    "x_4 = mymodel_2_nolog.predict(({\"age\": 40, \n",
    "                                \"education\": 0, \n",
    "                                \"region\": \"Northeast\", \n",
    "                                \"gender\":\"female\"}))\n",
    "\n",
    "print('With interaction model prediction of South: ', np.exp(x_3))\n",
    "print('With interaction model prediction of Northeast: ', np.exp(x_4)) "
   ]
  },
  {
   "cell_type": "markdown",
   "metadata": {},
   "source": [
    "## (c) Model Fit and Model Choice\n",
    "\n",
    "### (i) "
   ]
  },
  {
   "cell_type": "markdown",
   "metadata": {},
   "source": [
    "#### ${1}$ We’re using \"np.log(wages) ~ age + education * gender\" in this subexercise. Plot the distribution of the residuals using a QQ plot and a histogram. Are the residuals normal? If not, do they deviate from normality in a way we expect to have serious implications for inference?\n",
    "\n",
    "- Based on our plot, the residual is almost at a normal distribution. The historgram has shown this perfectly. With our mean (E[X]) on almost 0.<br><br>\n",
    "- We can use our QQPlot further investigate this and also our P-values. \n",
    "<br><br>\n",
    "- The QQPlot shows and corrosponds to our historgram as residuals are almost aligned with our 45' examine line and thus are almost normally distributed. \n",
    "<br><br>\n",
    "- The left bottom has very few scattered dots. These dots should be ones with low significance, meaning no strong correlation to our model. This QQPlot in total displays that this model is reasonable.\n",
    "\n",
    "#### ${2}$ Make a residual plot, residuals versus fitted. Make some comment on its looks!\n",
    "One of our assumptions under a regression model including homoscedasticity for our variables. After the QQPlot and Histrogram we can be more sure that since our Residuals shows a normal distribution Combined with our Residuals vs Fitted plot, we can say that this model shows a good distribution. There are some a little heteroscedasticity that can be observed as our fitted values overall can draw a tilted line yet overall this model is workable and are evaluated."
   ]
  },
  {
   "cell_type": "code",
   "execution_count": 50,
   "metadata": {},
   "outputs": [],
   "source": [
    "c_model = smf.ols('np.log(earnings) ~ age + education * gender', data = data).fit()\n",
    "\n",
    "# model values\n",
    "model_fitted_y = c_model.fittedvalues\n",
    "# model residuals\n",
    "model_residuals = c_model.resid"
   ]
  },
  {
   "cell_type": "code",
   "execution_count": 47,
   "metadata": {
    "scrolled": true
   },
   "outputs": [
    {
     "data": {
      "text/plain": [
       "Text(0, 0.5, 'Standardized Residuals')"
      ]
     },
     "execution_count": 47,
     "metadata": {},
     "output_type": "execute_result"
    },
    {
     "data": {
      "image/png": "[encoded data removed]",
      "text/plain": [
       "<Figure size 576x396 with 1 Axes>"
      ]
     },
     "metadata": {},
     "output_type": "display_data"
    }
   ],
   "source": [
    "plt.style.use('seaborn') # pretty matplotlib plots\n",
    "plt.rc('font', size=14)\n",
    "plt.rc('figure', titlesize=18)\n",
    "plt.rc('axes', labelsize=15)\n",
    "plt.rc('axes', titlesize=18)\n",
    "\n",
    "plot_lm_2 = sm.qqplot(model_residuals, line='45', color='#4C72B0', lw=1)\n",
    "plot_lm_2.axes[0].set_title('Q-Q Plot')\n",
    "plot_lm_2.axes[0].set_xlabel('Theoretical Quantiles')\n",
    "plot_lm_2.axes[0].set_ylabel('Standardized Residuals')"
   ]
  },
  {
   "cell_type": "code",
   "execution_count": 48,
   "metadata": {
    "scrolled": true
   },
   "outputs": [
    {
     "data": {
      "image/png": "[encoded data removed]",
      "text/plain": [
       "<Figure size 576x396 with 1 Axes>"
      ]
     },
     "metadata": {},
     "output_type": "display_data"
    }
   ],
   "source": [
    "plt.hist(model_residuals, 50, histtype = 'step')\n",
    "plt.title('Residuals Histogram')\n",
    "plt.show()"
   ]
  },
  {
   "cell_type": "code",
   "execution_count": 49,
   "metadata": {},
   "outputs": [
    {
     "name": "stderr",
     "output_type": "stream",
     "text": [
      "/opt/anaconda3/lib/python3.8/site-packages/seaborn/_decorators.py:36: FutureWarning: Pass the following variables as keyword args: x, y. From version 0.12, the only valid positional argument will be `data`, and passing other arguments without an explicit keyword will result in an error or misinterpretation.\n",
      "  warnings.warn(\n"
     ]
    },
    {
     "data": {
      "image/png": "[encoded data removed]",
      "text/plain": [
       "<Figure size 576x396 with 1 Axes>"
      ]
     },
     "metadata": {},
     "output_type": "display_data"
    }
   ],
   "source": [
    "plot_lm_1 = plt.figure()\n",
    "plot_lm_1.axes[0] = sns.residplot(model_fitted_y, model_residuals,\n",
    "                          lowess=True,\n",
    "                          scatter_kws={'alpha': 0.5},\n",
    "                          line_kws={'color': 'red', 'lw': 1, 'alpha': 0.8})\n",
    "\n",
    "plot_lm_1.axes[0].set_title('Residuals vs Fitted')\n",
    "plot_lm_1.axes[0].set_xlabel('Fitted values')\n",
    "plot_lm_1.axes[0].set_ylabel('Residuals');"
   ]
  },
  {
   "cell_type": "markdown",
   "metadata": {},
   "source": [
    "### (ii)  & (iii) \n",
    "\n",
    "1. You need to make a good predictive model for the log wages. Try out at least five models and make an informed choice between them. Be sure to justify your choice, and be sure to try out at least one transformation of the covariates!<br>\n",
    "<br>\n",
    "2. Report the 𝑅2s of the models from (ii) in a table.\n"
   ]
  },
  {
   "cell_type": "markdown",
   "metadata": {},
   "source": [
    "Education and earnings obviously has high correlation, I will use this in my regresion first. I also think there is a relationship between gender and education level that can help me predict earnings:"
   ]
  },
  {
   "cell_type": "code",
   "execution_count": 80,
   "metadata": {},
   "outputs": [
    {
     "data": {
      "text/plain": [
       "86921.53884292742"
      ]
     },
     "execution_count": 80,
     "metadata": {},
     "output_type": "execute_result"
    }
   ],
   "source": [
    "s_model_1 = smf.ols('np.log(earnings) ~ I(education ** 2) * gender', data = data).fit()\n",
    "\n",
    "s_model_1.aic"
   ]
  },
  {
   "cell_type": "markdown",
   "metadata": {},
   "source": [
    "after model_01 here is what we have:\n",
    "\n",
    "|Models         | adj.R${^2}$       | AIC    | ${\\Delta}$adj.R${^2}$ | ${\\Delta}$AIC |\n",
    "| :------------- |:-------------:| :------:| :-------------:| -------------:|\n",
    "| Model_01      | 0.215       | 86921.5|           NULL|           NULL|\n",
    "\n",
    "\n",
    "So far, after our transformation to our covariate education, and interact with gender, the model itself can already fit our prediction by 21.5%. Let's try to aim for a higher model.\n"
   ]
  },
  {
   "cell_type": "code",
   "execution_count": 81,
   "metadata": {
    "scrolled": true
   },
   "outputs": [
    {
     "data": {
      "text/html": [
       "<table class=\"simpletable\">\n",
       "<caption>OLS Regression Results</caption>\n",
       "<tr>\n",
       "  <th>Dep. Variable:</th>    <td>np.log(earnings)</td> <th>  R-squared:         </th> <td>   0.248</td> \n",
       "</tr>\n",
       "<tr>\n",
       "  <th>Model:</th>                   <td>OLS</td>       <th>  Adj. R-squared:    </th> <td>   0.248</td> \n",
       "</tr>\n",
       "<tr>\n",
       "  <th>Method:</th>             <td>Least Squares</td>  <th>  F-statistic:       </th> <td>   2026.</td> \n",
       "</tr>\n",
       "<tr>\n",
       "  <th>Date:</th>             <td>Thu, 24 Nov 2022</td> <th>  Prob (F-statistic):</th>  <td>  0.00</td>  \n",
       "</tr>\n",
       "<tr>\n",
       "  <th>Time:</th>                 <td>14:10:11</td>     <th>  Log-Likelihood:    </th> <td> -42138.</td> \n",
       "</tr>\n",
       "<tr>\n",
       "  <th>No. Observations:</th>      <td> 61395</td>      <th>  AIC:               </th> <td>8.430e+04</td>\n",
       "</tr>\n",
       "<tr>\n",
       "  <th>Df Residuals:</th>          <td> 61384</td>      <th>  BIC:               </th> <td>8.440e+04</td>\n",
       "</tr>\n",
       "<tr>\n",
       "  <th>Df Model:</th>              <td>    10</td>      <th>                     </th>     <td> </td>    \n",
       "</tr>\n",
       "<tr>\n",
       "  <th>Covariance Type:</th>      <td>nonrobust</td>    <th>                     </th>     <td> </td>    \n",
       "</tr>\n",
       "</table>\n",
       "<table class=\"simpletable\">\n",
       "<tr>\n",
       "                    <td></td>                      <th>coef</th>     <th>std err</th>      <th>t</th>      <th>P>|t|</th>  <th>[0.025</th>    <th>0.975]</th>  \n",
       "</tr>\n",
       "<tr>\n",
       "  <th>Intercept</th>                            <td>    1.5270</td> <td>    0.038</td> <td>   40.054</td> <td> 0.000</td> <td>    1.452</td> <td>    1.602</td>\n",
       "</tr>\n",
       "<tr>\n",
       "  <th>gender[T.male]</th>                       <td>    0.0407</td> <td>    0.049</td> <td>    0.838</td> <td> 0.402</td> <td>   -0.054</td> <td>    0.136</td>\n",
       "</tr>\n",
       "<tr>\n",
       "  <th>region[T.Northeast]</th>                  <td>    0.0552</td> <td>    0.006</td> <td>    9.472</td> <td> 0.000</td> <td>    0.044</td> <td>    0.067</td>\n",
       "</tr>\n",
       "<tr>\n",
       "  <th>region[T.South]</th>                      <td>   -0.0209</td> <td>    0.005</td> <td>   -3.993</td> <td> 0.000</td> <td>   -0.031</td> <td>   -0.011</td>\n",
       "</tr>\n",
       "<tr>\n",
       "  <th>region[T.West]</th>                       <td>    0.0249</td> <td>    0.006</td> <td>    4.485</td> <td> 0.000</td> <td>    0.014</td> <td>    0.036</td>\n",
       "</tr>\n",
       "<tr>\n",
       "  <th>I(education ** 2)</th>                    <td>    0.0042</td> <td>    0.000</td> <td>   22.299</td> <td> 0.000</td> <td>    0.004</td> <td>    0.005</td>\n",
       "</tr>\n",
       "<tr>\n",
       "  <th>I(education ** 2):gender[T.male]</th>     <td>    0.0004</td> <td>    0.000</td> <td>    1.800</td> <td> 0.072</td> <td> -3.9e-05</td> <td>    0.001</td>\n",
       "</tr>\n",
       "<tr>\n",
       "  <th>age</th>                                  <td>    0.0093</td> <td>    0.001</td> <td>   10.708</td> <td> 0.000</td> <td>    0.008</td> <td>    0.011</td>\n",
       "</tr>\n",
       "<tr>\n",
       "  <th>gender[T.male]:age</th>                   <td>    0.0077</td> <td>    0.001</td> <td>    6.874</td> <td> 0.000</td> <td>    0.005</td> <td>    0.010</td>\n",
       "</tr>\n",
       "<tr>\n",
       "  <th>I(education ** 2):age</th>                <td>-1.106e-05</td> <td>  4.3e-06</td> <td>   -2.574</td> <td> 0.010</td> <td>-1.95e-05</td> <td>-2.64e-06</td>\n",
       "</tr>\n",
       "<tr>\n",
       "  <th>I(education ** 2):gender[T.male]:age</th> <td>-2.641e-05</td> <td> 5.57e-06</td> <td>   -4.739</td> <td> 0.000</td> <td>-3.73e-05</td> <td>-1.55e-05</td>\n",
       "</tr>\n",
       "</table>\n",
       "<table class=\"simpletable\">\n",
       "<tr>\n",
       "  <th>Omnibus:</th>       <td>2750.767</td> <th>  Durbin-Watson:     </th> <td>   1.813</td>\n",
       "</tr>\n",
       "<tr>\n",
       "  <th>Prob(Omnibus):</th>  <td> 0.000</td>  <th>  Jarque-Bera (JB):  </th> <td>3678.963</td>\n",
       "</tr>\n",
       "<tr>\n",
       "  <th>Skew:</th>           <td>-0.452</td>  <th>  Prob(JB):          </th> <td>    0.00</td>\n",
       "</tr>\n",
       "<tr>\n",
       "  <th>Kurtosis:</th>       <td> 3.787</td>  <th>  Cond. No.          </th> <td>3.10e+05</td>\n",
       "</tr>\n",
       "</table><br/><br/>Notes:<br/>[1] Standard Errors assume that the covariance matrix of the errors is correctly specified.<br/>[2] The condition number is large, 3.1e+05. This might indicate that there are<br/>strong multicollinearity or other numerical problems."
      ],
      "text/plain": [
       "<class 'statsmodels.iolib.summary.Summary'>\n",
       "\"\"\"\n",
       "                            OLS Regression Results                            \n",
       "==============================================================================\n",
       "Dep. Variable:       np.log(earnings)   R-squared:                       0.248\n",
       "Model:                            OLS   Adj. R-squared:                  0.248\n",
       "Method:                 Least Squares   F-statistic:                     2026.\n",
       "Date:                Thu, 24 Nov 2022   Prob (F-statistic):               0.00\n",
       "Time:                        14:10:11   Log-Likelihood:                -42138.\n",
       "No. Observations:               61395   AIC:                         8.430e+04\n",
       "Df Residuals:                   61384   BIC:                         8.440e+04\n",
       "Df Model:                          10                                         \n",
       "Covariance Type:            nonrobust                                         \n",
       "========================================================================================================\n",
       "                                           coef    std err          t      P>|t|      [0.025      0.975]\n",
       "--------------------------------------------------------------------------------------------------------\n",
       "Intercept                                1.5270      0.038     40.054      0.000       1.452       1.602\n",
       "gender[T.male]                           0.0407      0.049      0.838      0.402      -0.054       0.136\n",
       "region[T.Northeast]                      0.0552      0.006      9.472      0.000       0.044       0.067\n",
       "region[T.South]                         -0.0209      0.005     -3.993      0.000      -0.031      -0.011\n",
       "region[T.West]                           0.0249      0.006      4.485      0.000       0.014       0.036\n",
       "I(education ** 2)                        0.0042      0.000     22.299      0.000       0.004       0.005\n",
       "I(education ** 2):gender[T.male]         0.0004      0.000      1.800      0.072    -3.9e-05       0.001\n",
       "age                                      0.0093      0.001     10.708      0.000       0.008       0.011\n",
       "gender[T.male]:age                       0.0077      0.001      6.874      0.000       0.005       0.010\n",
       "I(education ** 2):age                -1.106e-05    4.3e-06     -2.574      0.010   -1.95e-05   -2.64e-06\n",
       "I(education ** 2):gender[T.male]:age -2.641e-05   5.57e-06     -4.739      0.000   -3.73e-05   -1.55e-05\n",
       "==============================================================================\n",
       "Omnibus:                     2750.767   Durbin-Watson:                   1.813\n",
       "Prob(Omnibus):                  0.000   Jarque-Bera (JB):             3678.963\n",
       "Skew:                          -0.452   Prob(JB):                         0.00\n",
       "Kurtosis:                       3.787   Cond. No.                     3.10e+05\n",
       "==============================================================================\n",
       "\n",
       "Notes:\n",
       "[1] Standard Errors assume that the covariance matrix of the errors is correctly specified.\n",
       "[2] The condition number is large, 3.1e+05. This might indicate that there are\n",
       "strong multicollinearity or other numerical problems.\n",
       "\"\"\""
      ]
     },
     "execution_count": 81,
     "metadata": {},
     "output_type": "execute_result"
    }
   ],
   "source": [
    "s_model_2 = smf.ols('np.log(earnings) ~ I(education ** 2) * gender * age + region', data = data).fit()\n",
    "\n",
    "s_model_2.summary()"
   ]
  },
  {
   "cell_type": "markdown",
   "metadata": {},
   "source": [
    "after model_02 here is what we have:\n",
    "\n",
    "|Models         | adj.R${^2}$       | AIC    | ${\\Delta}$adj.R${^2}$ | ${\\Delta}$AIC |\n",
    "| ------------- |:-------------:| ------:| -------------:| -------------:|\n",
    "| Model_01      | 0.215       | 86921.5|           NULL|           NULL|\n",
    "| Model_02      | 0.248       | 84297.2|    +0.033   |      -2624.3|\n",
    "\n",
    "This model shows a surprising result. The categoricial covariate gender[Male] actually cannot reject Null Hypothesis and present a quite high p-value. The model itself, however, shows a good 24.8% Adjusted ${R^2}$. \n",
    "\n",
    "Now let's try some adjustment on our age covariate."
   ]
  },
  {
   "cell_type": "code",
   "execution_count": 82,
   "metadata": {
    "scrolled": true
   },
   "outputs": [
    {
     "data": {
      "text/html": [
       "<table class=\"simpletable\">\n",
       "<caption>OLS Regression Results</caption>\n",
       "<tr>\n",
       "  <th>Dep. Variable:</th>    <td>np.log(earnings)</td> <th>  R-squared:         </th> <td>   0.248</td> \n",
       "</tr>\n",
       "<tr>\n",
       "  <th>Model:</th>                   <td>OLS</td>       <th>  Adj. R-squared:    </th> <td>   0.248</td> \n",
       "</tr>\n",
       "<tr>\n",
       "  <th>Method:</th>             <td>Least Squares</td>  <th>  F-statistic:       </th> <td>   6760.</td> \n",
       "</tr>\n",
       "<tr>\n",
       "  <th>Date:</th>             <td>Thu, 24 Nov 2022</td> <th>  Prob (F-statistic):</th>  <td>  0.00</td>  \n",
       "</tr>\n",
       "<tr>\n",
       "  <th>Time:</th>                 <td>14:10:11</td>     <th>  Log-Likelihood:    </th> <td> -42132.</td> \n",
       "</tr>\n",
       "<tr>\n",
       "  <th>No. Observations:</th>      <td> 61395</td>      <th>  AIC:               </th> <td>8.427e+04</td>\n",
       "</tr>\n",
       "<tr>\n",
       "  <th>Df Residuals:</th>          <td> 61391</td>      <th>  BIC:               </th> <td>8.431e+04</td>\n",
       "</tr>\n",
       "<tr>\n",
       "  <th>Df Model:</th>              <td>     3</td>      <th>                     </th>     <td> </td>    \n",
       "</tr>\n",
       "<tr>\n",
       "  <th>Covariance Type:</th>      <td>nonrobust</td>    <th>                     </th>     <td> </td>    \n",
       "</tr>\n",
       "</table>\n",
       "<table class=\"simpletable\">\n",
       "<tr>\n",
       "          <td></td>             <th>coef</th>     <th>std err</th>      <th>t</th>      <th>P>|t|</th>  <th>[0.025</th>    <th>0.975]</th>  \n",
       "</tr>\n",
       "<tr>\n",
       "  <th>Intercept</th>         <td>    0.6040</td> <td>    0.027</td> <td>   22.538</td> <td> 0.000</td> <td>    0.551</td> <td>    0.657</td>\n",
       "</tr>\n",
       "<tr>\n",
       "  <th>gender[T.male]</th>    <td>    0.2304</td> <td>    0.004</td> <td>   58.904</td> <td> 0.000</td> <td>    0.223</td> <td>    0.238</td>\n",
       "</tr>\n",
       "<tr>\n",
       "  <th>np.log(age)</th>       <td>    0.3791</td> <td>    0.007</td> <td>   52.869</td> <td> 0.000</td> <td>    0.365</td> <td>    0.393</td>\n",
       "</tr>\n",
       "<tr>\n",
       "  <th>I(education ** 2)</th> <td>    0.0033</td> <td> 2.84e-05</td> <td>  117.049</td> <td> 0.000</td> <td>    0.003</td> <td>    0.003</td>\n",
       "</tr>\n",
       "</table>\n",
       "<table class=\"simpletable\">\n",
       "<tr>\n",
       "  <th>Omnibus:</th>       <td>2777.940</td> <th>  Durbin-Watson:     </th> <td>   1.809</td>\n",
       "</tr>\n",
       "<tr>\n",
       "  <th>Prob(Omnibus):</th>  <td> 0.000</td>  <th>  Jarque-Bera (JB):  </th> <td>3731.516</td>\n",
       "</tr>\n",
       "<tr>\n",
       "  <th>Skew:</th>           <td>-0.454</td>  <th>  Prob(JB):          </th> <td>    0.00</td>\n",
       "</tr>\n",
       "<tr>\n",
       "  <th>Kurtosis:</th>       <td> 3.797</td>  <th>  Cond. No.          </th> <td>2.91e+03</td>\n",
       "</tr>\n",
       "</table><br/><br/>Notes:<br/>[1] Standard Errors assume that the covariance matrix of the errors is correctly specified.<br/>[2] The condition number is large, 2.91e+03. This might indicate that there are<br/>strong multicollinearity or other numerical problems."
      ],
      "text/plain": [
       "<class 'statsmodels.iolib.summary.Summary'>\n",
       "\"\"\"\n",
       "                            OLS Regression Results                            \n",
       "==============================================================================\n",
       "Dep. Variable:       np.log(earnings)   R-squared:                       0.248\n",
       "Model:                            OLS   Adj. R-squared:                  0.248\n",
       "Method:                 Least Squares   F-statistic:                     6760.\n",
       "Date:                Thu, 24 Nov 2022   Prob (F-statistic):               0.00\n",
       "Time:                        14:10:11   Log-Likelihood:                -42132.\n",
       "No. Observations:               61395   AIC:                         8.427e+04\n",
       "Df Residuals:                   61391   BIC:                         8.431e+04\n",
       "Df Model:                           3                                         \n",
       "Covariance Type:            nonrobust                                         \n",
       "=====================================================================================\n",
       "                        coef    std err          t      P>|t|      [0.025      0.975]\n",
       "-------------------------------------------------------------------------------------\n",
       "Intercept             0.6040      0.027     22.538      0.000       0.551       0.657\n",
       "gender[T.male]        0.2304      0.004     58.904      0.000       0.223       0.238\n",
       "np.log(age)           0.3791      0.007     52.869      0.000       0.365       0.393\n",
       "I(education ** 2)     0.0033   2.84e-05    117.049      0.000       0.003       0.003\n",
       "==============================================================================\n",
       "Omnibus:                     2777.940   Durbin-Watson:                   1.809\n",
       "Prob(Omnibus):                  0.000   Jarque-Bera (JB):             3731.516\n",
       "Skew:                          -0.454   Prob(JB):                         0.00\n",
       "Kurtosis:                       3.797   Cond. No.                     2.91e+03\n",
       "==============================================================================\n",
       "\n",
       "Notes:\n",
       "[1] Standard Errors assume that the covariance matrix of the errors is correctly specified.\n",
       "[2] The condition number is large, 2.91e+03. This might indicate that there are\n",
       "strong multicollinearity or other numerical problems.\n",
       "\"\"\""
      ]
     },
     "execution_count": 82,
     "metadata": {},
     "output_type": "execute_result"
    }
   ],
   "source": [
    "s_model_3 = smf.ols('np.log(earnings) ~ gender + np.log(age) + I(education ** 2)', data = data).fit()\n",
    "\n",
    "s_model_3.summary()"
   ]
  },
  {
   "cell_type": "markdown",
   "metadata": {},
   "source": [
    "after model_03 here is what we have:\n",
    "\n",
    "|Models         | adj.R${^2}$       | AIC    | ${\\Delta}$adj.R${^2}$ | ${\\Delta}$AIC |\n",
    "| ------------- |:-------------:| ------:| -------------:| -------------:|\n",
    "| Model_01      | 0.215       | 86921.5|           NULL|           NULL|\n",
    "| Model_02      | 0.248       | 84297.2|    +0.033   |      -2624.3|\n",
    "| Model_03      | 0.248       | 84271.4|    +0.000   |        +3.2|\n",
    "\n",
    "This model is relativly present the same result compared to our Model 2 and it gives a cleaner and more concise covairates. All p-values pass our ${H_0}$ and thus is quite a progress than our previous model. \n",
    "\n",
    "But I am sure there are higher model for this prediction. Let's try some alterations."
   ]
  },
  {
   "cell_type": "code",
   "execution_count": 83,
   "metadata": {
    "scrolled": true
   },
   "outputs": [
    {
     "data": {
      "text/html": [
       "<table class=\"simpletable\">\n",
       "<caption>OLS Regression Results</caption>\n",
       "<tr>\n",
       "  <th>Dep. Variable:</th>    <td>np.log(earnings)</td> <th>  R-squared:         </th> <td>   0.252</td> \n",
       "</tr>\n",
       "<tr>\n",
       "  <th>Model:</th>                   <td>OLS</td>       <th>  Adj. R-squared:    </th> <td>   0.252</td> \n",
       "</tr>\n",
       "<tr>\n",
       "  <th>Method:</th>             <td>Least Squares</td>  <th>  F-statistic:       </th> <td>   5168.</td> \n",
       "</tr>\n",
       "<tr>\n",
       "  <th>Date:</th>             <td>Thu, 24 Nov 2022</td> <th>  Prob (F-statistic):</th>  <td>  0.00</td>  \n",
       "</tr>\n",
       "<tr>\n",
       "  <th>Time:</th>                 <td>14:10:11</td>     <th>  Log-Likelihood:    </th> <td> -41985.</td> \n",
       "</tr>\n",
       "<tr>\n",
       "  <th>No. Observations:</th>      <td> 61395</td>      <th>  AIC:               </th> <td>8.398e+04</td>\n",
       "</tr>\n",
       "<tr>\n",
       "  <th>Df Residuals:</th>          <td> 61390</td>      <th>  BIC:               </th> <td>8.403e+04</td>\n",
       "</tr>\n",
       "<tr>\n",
       "  <th>Df Model:</th>              <td>     4</td>      <th>                     </th>     <td> </td>    \n",
       "</tr>\n",
       "<tr>\n",
       "  <th>Covariance Type:</th>      <td>nonrobust</td>    <th>                     </th>     <td> </td>    \n",
       "</tr>\n",
       "</table>\n",
       "<table class=\"simpletable\">\n",
       "<tr>\n",
       "          <td></td>             <th>coef</th>     <th>std err</th>      <th>t</th>      <th>P>|t|</th>  <th>[0.025</th>    <th>0.975]</th>  \n",
       "</tr>\n",
       "<tr>\n",
       "  <th>Intercept</th>         <td>   -0.0771</td> <td>    0.048</td> <td>   -1.610</td> <td> 0.107</td> <td>   -0.171</td> <td>    0.017</td>\n",
       "</tr>\n",
       "<tr>\n",
       "  <th>gender[T.male]</th>    <td>    0.2341</td> <td>    0.004</td> <td>   59.897</td> <td> 0.000</td> <td>    0.226</td> <td>    0.242</td>\n",
       "</tr>\n",
       "<tr>\n",
       "  <th>np.log(age)</th>       <td>    0.3847</td> <td>    0.007</td> <td>   53.723</td> <td> 0.000</td> <td>    0.371</td> <td>    0.399</td>\n",
       "</tr>\n",
       "<tr>\n",
       "  <th>education</th>         <td>    0.0965</td> <td>    0.006</td> <td>   17.150</td> <td> 0.000</td> <td>    0.086</td> <td>    0.108</td>\n",
       "</tr>\n",
       "<tr>\n",
       "  <th>I(education ** 2)</th> <td>   -0.0001</td> <td>    0.000</td> <td>   -0.536</td> <td> 0.592</td> <td>   -0.001</td> <td>    0.000</td>\n",
       "</tr>\n",
       "</table>\n",
       "<table class=\"simpletable\">\n",
       "<tr>\n",
       "  <th>Omnibus:</th>       <td>2804.438</td> <th>  Durbin-Watson:     </th> <td>   1.811</td>\n",
       "</tr>\n",
       "<tr>\n",
       "  <th>Prob(Omnibus):</th>  <td> 0.000</td>  <th>  Jarque-Bera (JB):  </th> <td>3756.544</td>\n",
       "</tr>\n",
       "<tr>\n",
       "  <th>Skew:</th>           <td>-0.458</td>  <th>  Prob(JB):          </th> <td>    0.00</td>\n",
       "</tr>\n",
       "<tr>\n",
       "  <th>Kurtosis:</th>       <td> 3.794</td>  <th>  Cond. No.          </th> <td>5.11e+03</td>\n",
       "</tr>\n",
       "</table><br/><br/>Notes:<br/>[1] Standard Errors assume that the covariance matrix of the errors is correctly specified.<br/>[2] The condition number is large, 5.11e+03. This might indicate that there are<br/>strong multicollinearity or other numerical problems."
      ],
      "text/plain": [
       "<class 'statsmodels.iolib.summary.Summary'>\n",
       "\"\"\"\n",
       "                            OLS Regression Results                            \n",
       "==============================================================================\n",
       "Dep. Variable:       np.log(earnings)   R-squared:                       0.252\n",
       "Model:                            OLS   Adj. R-squared:                  0.252\n",
       "Method:                 Least Squares   F-statistic:                     5168.\n",
       "Date:                Thu, 24 Nov 2022   Prob (F-statistic):               0.00\n",
       "Time:                        14:10:11   Log-Likelihood:                -41985.\n",
       "No. Observations:               61395   AIC:                         8.398e+04\n",
       "Df Residuals:                   61390   BIC:                         8.403e+04\n",
       "Df Model:                           4                                         \n",
       "Covariance Type:            nonrobust                                         \n",
       "=====================================================================================\n",
       "                        coef    std err          t      P>|t|      [0.025      0.975]\n",
       "-------------------------------------------------------------------------------------\n",
       "Intercept            -0.0771      0.048     -1.610      0.107      -0.171       0.017\n",
       "gender[T.male]        0.2341      0.004     59.897      0.000       0.226       0.242\n",
       "np.log(age)           0.3847      0.007     53.723      0.000       0.371       0.399\n",
       "education             0.0965      0.006     17.150      0.000       0.086       0.108\n",
       "I(education ** 2)    -0.0001      0.000     -0.536      0.592      -0.001       0.000\n",
       "==============================================================================\n",
       "Omnibus:                     2804.438   Durbin-Watson:                   1.811\n",
       "Prob(Omnibus):                  0.000   Jarque-Bera (JB):             3756.544\n",
       "Skew:                          -0.458   Prob(JB):                         0.00\n",
       "Kurtosis:                       3.794   Cond. No.                     5.11e+03\n",
       "==============================================================================\n",
       "\n",
       "Notes:\n",
       "[1] Standard Errors assume that the covariance matrix of the errors is correctly specified.\n",
       "[2] The condition number is large, 5.11e+03. This might indicate that there are\n",
       "strong multicollinearity or other numerical problems.\n",
       "\"\"\""
      ]
     },
     "execution_count": 83,
     "metadata": {},
     "output_type": "execute_result"
    }
   ],
   "source": [
    "s_model_4 = smf.ols('np.log(earnings) ~ np.log(age) + gender + education + I(education ** 2)', data = data).fit()\n",
    "\n",
    "s_model_4.summary()"
   ]
  },
  {
   "cell_type": "markdown",
   "metadata": {},
   "source": [
    "after model_04 here is what we have:\n",
    "\n",
    "|Models         | adj.R${^2}$       | AIC    | ${\\Delta}$adj.R${^2}$ | ${\\Delta}$AIC |\n",
    "| :------------- |:-------------:| :------:| -------------:| -------------:|\n",
    "| Model_01      | 0.215       | 86921.5|           NULL|           NULL|\n",
    "| Model_02      | 0.248       | 84297.2|    +0.033   |      -2624.3|\n",
    "| Model_03      | 0.248       | 84271.4|    +0.000   |        +3.2|\n",
    "| Model_04      | 0.252       | 83980.0|    +0.004   |       -291.4  |\n",
    "\n",
    "We have made some adjustment but here by evaulating the p-values, I can see our baseline and adjusted Education seems to not be uaccurate anymore. "
   ]
  },
  {
   "cell_type": "code",
   "execution_count": 84,
   "metadata": {
    "scrolled": true
   },
   "outputs": [
    {
     "data": {
      "text/html": [
       "<table class=\"simpletable\">\n",
       "<caption>OLS Regression Results</caption>\n",
       "<tr>\n",
       "  <th>Dep. Variable:</th>    <td>np.log(earnings)</td> <th>  R-squared:         </th> <td>   0.270</td> \n",
       "</tr>\n",
       "<tr>\n",
       "  <th>Model:</th>                   <td>OLS</td>       <th>  Adj. R-squared:    </th> <td>   0.270</td> \n",
       "</tr>\n",
       "<tr>\n",
       "  <th>Method:</th>             <td>Least Squares</td>  <th>  F-statistic:       </th> <td>   2519.</td> \n",
       "</tr>\n",
       "<tr>\n",
       "  <th>Date:</th>             <td>Thu, 24 Nov 2022</td> <th>  Prob (F-statistic):</th>  <td>  0.00</td>  \n",
       "</tr>\n",
       "<tr>\n",
       "  <th>Time:</th>                 <td>14:10:11</td>     <th>  Log-Likelihood:    </th> <td> -41244.</td> \n",
       "</tr>\n",
       "<tr>\n",
       "  <th>No. Observations:</th>      <td> 61395</td>      <th>  AIC:               </th> <td>8.251e+04</td>\n",
       "</tr>\n",
       "<tr>\n",
       "  <th>Df Residuals:</th>          <td> 61385</td>      <th>  BIC:               </th> <td>8.260e+04</td>\n",
       "</tr>\n",
       "<tr>\n",
       "  <th>Df Model:</th>              <td>     9</td>      <th>                     </th>     <td> </td>    \n",
       "</tr>\n",
       "<tr>\n",
       "  <th>Covariance Type:</th>      <td>nonrobust</td>    <th>                     </th>     <td> </td>    \n",
       "</tr>\n",
       "</table>\n",
       "<table class=\"simpletable\">\n",
       "<tr>\n",
       "                <td></td>                  <th>coef</th>     <th>std err</th>      <th>t</th>      <th>P>|t|</th>  <th>[0.025</th>    <th>0.975]</th>  \n",
       "</tr>\n",
       "<tr>\n",
       "  <th>Intercept</th>                    <td>   -4.4724</td> <td>    0.147</td> <td>  -30.339</td> <td> 0.000</td> <td>   -4.761</td> <td>   -4.183</td>\n",
       "</tr>\n",
       "<tr>\n",
       "  <th>gender[T.male]</th>               <td>    0.2921</td> <td>    0.092</td> <td>    3.189</td> <td> 0.001</td> <td>    0.113</td> <td>    0.472</td>\n",
       "</tr>\n",
       "<tr>\n",
       "  <th>I(1 * (region == 'South'))</th>   <td>   -0.0443</td> <td>    0.004</td> <td>  -10.697</td> <td> 0.000</td> <td>   -0.052</td> <td>   -0.036</td>\n",
       "</tr>\n",
       "<tr>\n",
       "  <th>age</th>                          <td>   -0.0439</td> <td>    0.002</td> <td>  -20.708</td> <td> 0.000</td> <td>   -0.048</td> <td>   -0.040</td>\n",
       "</tr>\n",
       "<tr>\n",
       "  <th>gender[T.male]:age</th>           <td>    0.0053</td> <td>    0.002</td> <td>    2.537</td> <td> 0.011</td> <td>    0.001</td> <td>    0.009</td>\n",
       "</tr>\n",
       "<tr>\n",
       "  <th>education</th>                    <td>    0.1051</td> <td>    0.005</td> <td>   20.186</td> <td> 0.000</td> <td>    0.095</td> <td>    0.115</td>\n",
       "</tr>\n",
       "<tr>\n",
       "  <th>gender[T.male]:education</th>     <td>   -0.0127</td> <td>    0.007</td> <td>   -1.909</td> <td> 0.056</td> <td>   -0.026</td> <td>    0.000</td>\n",
       "</tr>\n",
       "<tr>\n",
       "  <th>age:education</th>                <td>-2.853e-05</td> <td>    0.000</td> <td>   -0.239</td> <td> 0.811</td> <td>   -0.000</td> <td>    0.000</td>\n",
       "</tr>\n",
       "<tr>\n",
       "  <th>gender[T.male]:age:education</th> <td>   -0.0002</td> <td>    0.000</td> <td>   -1.230</td> <td> 0.219</td> <td>   -0.000</td> <td>    0.000</td>\n",
       "</tr>\n",
       "<tr>\n",
       "  <th>np.log(age)</th>                  <td>    2.0404</td> <td>    0.050</td> <td>   40.842</td> <td> 0.000</td> <td>    1.942</td> <td>    2.138</td>\n",
       "</tr>\n",
       "</table>\n",
       "<table class=\"simpletable\">\n",
       "<tr>\n",
       "  <th>Omnibus:</th>       <td>2827.060</td> <th>  Durbin-Watson:     </th> <td>   1.819</td>\n",
       "</tr>\n",
       "<tr>\n",
       "  <th>Prob(Omnibus):</th>  <td> 0.000</td>  <th>  Jarque-Bera (JB):  </th> <td>3826.092</td>\n",
       "</tr>\n",
       "<tr>\n",
       "  <th>Skew:</th>           <td>-0.457</td>  <th>  Prob(JB):          </th> <td>    0.00</td>\n",
       "</tr>\n",
       "<tr>\n",
       "  <th>Kurtosis:</th>       <td> 3.813</td>  <th>  Cond. No.          </th> <td>5.82e+04</td>\n",
       "</tr>\n",
       "</table><br/><br/>Notes:<br/>[1] Standard Errors assume that the covariance matrix of the errors is correctly specified.<br/>[2] The condition number is large, 5.82e+04. This might indicate that there are<br/>strong multicollinearity or other numerical problems."
      ],
      "text/plain": [
       "<class 'statsmodels.iolib.summary.Summary'>\n",
       "\"\"\"\n",
       "                            OLS Regression Results                            \n",
       "==============================================================================\n",
       "Dep. Variable:       np.log(earnings)   R-squared:                       0.270\n",
       "Model:                            OLS   Adj. R-squared:                  0.270\n",
       "Method:                 Least Squares   F-statistic:                     2519.\n",
       "Date:                Thu, 24 Nov 2022   Prob (F-statistic):               0.00\n",
       "Time:                        14:10:11   Log-Likelihood:                -41244.\n",
       "No. Observations:               61395   AIC:                         8.251e+04\n",
       "Df Residuals:                   61385   BIC:                         8.260e+04\n",
       "Df Model:                           9                                         \n",
       "Covariance Type:            nonrobust                                         \n",
       "================================================================================================\n",
       "                                   coef    std err          t      P>|t|      [0.025      0.975]\n",
       "------------------------------------------------------------------------------------------------\n",
       "Intercept                       -4.4724      0.147    -30.339      0.000      -4.761      -4.183\n",
       "gender[T.male]                   0.2921      0.092      3.189      0.001       0.113       0.472\n",
       "I(1 * (region == 'South'))      -0.0443      0.004    -10.697      0.000      -0.052      -0.036\n",
       "age                             -0.0439      0.002    -20.708      0.000      -0.048      -0.040\n",
       "gender[T.male]:age               0.0053      0.002      2.537      0.011       0.001       0.009\n",
       "education                        0.1051      0.005     20.186      0.000       0.095       0.115\n",
       "gender[T.male]:education        -0.0127      0.007     -1.909      0.056      -0.026       0.000\n",
       "age:education                -2.853e-05      0.000     -0.239      0.811      -0.000       0.000\n",
       "gender[T.male]:age:education    -0.0002      0.000     -1.230      0.219      -0.000       0.000\n",
       "np.log(age)                      2.0404      0.050     40.842      0.000       1.942       2.138\n",
       "==============================================================================\n",
       "Omnibus:                     2827.060   Durbin-Watson:                   1.819\n",
       "Prob(Omnibus):                  0.000   Jarque-Bera (JB):             3826.092\n",
       "Skew:                          -0.457   Prob(JB):                         0.00\n",
       "Kurtosis:                       3.813   Cond. No.                     5.82e+04\n",
       "==============================================================================\n",
       "\n",
       "Notes:\n",
       "[1] Standard Errors assume that the covariance matrix of the errors is correctly specified.\n",
       "[2] The condition number is large, 5.82e+04. This might indicate that there are\n",
       "strong multicollinearity or other numerical problems.\n",
       "\"\"\""
      ]
     },
     "execution_count": 84,
     "metadata": {},
     "output_type": "execute_result"
    }
   ],
   "source": [
    "s_model_5 = smf.ols('''np.log(earnings) ~ I(1 * (region == 'South')) + gender * age * education + np.log(age)''', data = data).fit()\n",
    "\n",
    "\n",
    "s_model_5.summary()"
   ]
  },
  {
   "cell_type": "markdown",
   "metadata": {},
   "source": [
    "In total, with model_05 here is what we have:\n",
    "\n",
    "|Models         | adj.R${^2}$       | AIC    | ${\\Delta}$adj.R${^2}$ | ${\\Delta}$AIC |\n",
    "| ------------- |:-------------:| ------:| -------------:| -------------:|\n",
    "| Model_01      | 0.215       | 86921.5|           NULL|           NULL|\n",
    "| Model_02      | 0.248       | 84297.2|    +0.033   |      -2624.3|\n",
    "| Model_03      | 0.248       | 84271.4|    +0.000   |        +3.2|\n",
    "| Model_04      | 0.252       | 83980.0|    +0.004   |       -291.4  |\n",
    "| Model_05      | 0.270       | 82507.5|    +0.018    |       -1472.5  |\n",
    "\n",
    "\n",
    " So far these are our five models. I am inclined to choosing our last model Mode_05 but let's do some examination on it and see if it is a suitable evaulated model since some of our covariates does not pass the pvalue Significant test.\n",
    " \n",
    "Firstly we can examine the ANOVA table here for model 2 and 5 (ones choosing between): lastly I decided to use model 5 as it present the highest ${R^2}$ score and lowest AIC. Beaware of that interaction does not really bring statistical value to our model, but, we can say that it is because of the interacted covariate itself, the model predicted level increansed to 27% from 21.5%. Based on the QQ Plot we can also see the distribution is close to the 45 degrees exmaine line and perform a good normal distributed residuals. "
   ]
  },
  {
   "cell_type": "code",
   "execution_count": 85,
   "metadata": {
    "scrolled": false
   },
   "outputs": [
    {
     "data": {
      "text/html": [
       "<div>\n",
       "<style scoped>\n",
       "    .dataframe tbody tr th:only-of-type {\n",
       "        vertical-align: middle;\n",
       "    }\n",
       "\n",
       "    .dataframe tbody tr th {\n",
       "        vertical-align: top;\n",
       "    }\n",
       "\n",
       "    .dataframe thead th {\n",
       "        text-align: right;\n",
       "    }\n",
       "</style>\n",
       "<table border=\"1\" class=\"dataframe\">\n",
       "  <thead>\n",
       "    <tr style=\"text-align: right;\">\n",
       "      <th></th>\n",
       "      <th>df</th>\n",
       "      <th>sum_sq</th>\n",
       "      <th>mean_sq</th>\n",
       "      <th>F</th>\n",
       "      <th>PR(&gt;F)</th>\n",
       "    </tr>\n",
       "  </thead>\n",
       "  <tbody>\n",
       "    <tr>\n",
       "      <th>gender</th>\n",
       "      <td>1.0</td>\n",
       "      <td>646.280571</td>\n",
       "      <td>646.280571</td>\n",
       "      <td>2879.560672</td>\n",
       "      <td>0.000000e+00</td>\n",
       "    </tr>\n",
       "    <tr>\n",
       "      <th>I(1 * (region == 'South'))</th>\n",
       "      <td>1.0</td>\n",
       "      <td>59.365886</td>\n",
       "      <td>59.365886</td>\n",
       "      <td>264.509996</td>\n",
       "      <td>2.375770e-59</td>\n",
       "    </tr>\n",
       "    <tr>\n",
       "      <th>age</th>\n",
       "      <td>1.0</td>\n",
       "      <td>703.883770</td>\n",
       "      <td>703.883770</td>\n",
       "      <td>3136.216859</td>\n",
       "      <td>0.000000e+00</td>\n",
       "    </tr>\n",
       "    <tr>\n",
       "      <th>gender:age</th>\n",
       "      <td>1.0</td>\n",
       "      <td>41.426071</td>\n",
       "      <td>41.426071</td>\n",
       "      <td>184.577549</td>\n",
       "      <td>5.582281e-42</td>\n",
       "    </tr>\n",
       "    <tr>\n",
       "      <th>education</th>\n",
       "      <td>1.0</td>\n",
       "      <td>3212.860087</td>\n",
       "      <td>3212.860087</td>\n",
       "      <td>14315.184407</td>\n",
       "      <td>0.000000e+00</td>\n",
       "    </tr>\n",
       "    <tr>\n",
       "      <th>gender:education</th>\n",
       "      <td>1.0</td>\n",
       "      <td>37.427597</td>\n",
       "      <td>37.427597</td>\n",
       "      <td>166.761992</td>\n",
       "      <td>4.227707e-38</td>\n",
       "    </tr>\n",
       "    <tr>\n",
       "      <th>age:education</th>\n",
       "      <td>1.0</td>\n",
       "      <td>10.848086</td>\n",
       "      <td>10.848086</td>\n",
       "      <td>48.334612</td>\n",
       "      <td>3.629282e-12</td>\n",
       "    </tr>\n",
       "    <tr>\n",
       "      <th>gender:age:education</th>\n",
       "      <td>1.0</td>\n",
       "      <td>2.384578</td>\n",
       "      <td>2.384578</td>\n",
       "      <td>10.624698</td>\n",
       "      <td>1.116479e-03</td>\n",
       "    </tr>\n",
       "    <tr>\n",
       "      <th>np.log(age)</th>\n",
       "      <td>1.0</td>\n",
       "      <td>374.378697</td>\n",
       "      <td>374.378697</td>\n",
       "      <td>1668.077645</td>\n",
       "      <td>0.000000e+00</td>\n",
       "    </tr>\n",
       "    <tr>\n",
       "      <th>Residual</th>\n",
       "      <td>61385.0</td>\n",
       "      <td>13777.078299</td>\n",
       "      <td>0.224437</td>\n",
       "      <td>NaN</td>\n",
       "      <td>NaN</td>\n",
       "    </tr>\n",
       "  </tbody>\n",
       "</table>\n",
       "</div>"
      ],
      "text/plain": [
       "                                 df        sum_sq      mean_sq             F  \\\n",
       "gender                          1.0    646.280571   646.280571   2879.560672   \n",
       "I(1 * (region == 'South'))      1.0     59.365886    59.365886    264.509996   \n",
       "age                             1.0    703.883770   703.883770   3136.216859   \n",
       "gender:age                      1.0     41.426071    41.426071    184.577549   \n",
       "education                       1.0   3212.860087  3212.860087  14315.184407   \n",
       "gender:education                1.0     37.427597    37.427597    166.761992   \n",
       "age:education                   1.0     10.848086    10.848086     48.334612   \n",
       "gender:age:education            1.0      2.384578     2.384578     10.624698   \n",
       "np.log(age)                     1.0    374.378697   374.378697   1668.077645   \n",
       "Residual                    61385.0  13777.078299     0.224437           NaN   \n",
       "\n",
       "                                  PR(>F)  \n",
       "gender                      0.000000e+00  \n",
       "I(1 * (region == 'South'))  2.375770e-59  \n",
       "age                         0.000000e+00  \n",
       "gender:age                  5.582281e-42  \n",
       "education                   0.000000e+00  \n",
       "gender:education            4.227707e-38  \n",
       "age:education               3.629282e-12  \n",
       "gender:age:education        1.116479e-03  \n",
       "np.log(age)                 0.000000e+00  \n",
       "Residual                             NaN  "
      ]
     },
     "execution_count": 85,
     "metadata": {},
     "output_type": "execute_result"
    }
   ],
   "source": [
    "anova_lm(s_model_5)"
   ]
  },
  {
   "cell_type": "code",
   "execution_count": 86,
   "metadata": {},
   "outputs": [
    {
     "data": {
      "text/html": [
       "<div>\n",
       "<style scoped>\n",
       "    .dataframe tbody tr th:only-of-type {\n",
       "        vertical-align: middle;\n",
       "    }\n",
       "\n",
       "    .dataframe tbody tr th {\n",
       "        vertical-align: top;\n",
       "    }\n",
       "\n",
       "    .dataframe thead th {\n",
       "        text-align: right;\n",
       "    }\n",
       "</style>\n",
       "<table border=\"1\" class=\"dataframe\">\n",
       "  <thead>\n",
       "    <tr style=\"text-align: right;\">\n",
       "      <th></th>\n",
       "      <th>df</th>\n",
       "      <th>sum_sq</th>\n",
       "      <th>mean_sq</th>\n",
       "      <th>F</th>\n",
       "      <th>PR(&gt;F)</th>\n",
       "    </tr>\n",
       "  </thead>\n",
       "  <tbody>\n",
       "    <tr>\n",
       "      <th>gender</th>\n",
       "      <td>1.0</td>\n",
       "      <td>646.280571</td>\n",
       "      <td>646.280571</td>\n",
       "      <td>2796.877525</td>\n",
       "      <td>0.000000e+00</td>\n",
       "    </tr>\n",
       "    <tr>\n",
       "      <th>region</th>\n",
       "      <td>3.0</td>\n",
       "      <td>113.489138</td>\n",
       "      <td>37.829713</td>\n",
       "      <td>163.713839</td>\n",
       "      <td>1.049718e-105</td>\n",
       "    </tr>\n",
       "    <tr>\n",
       "      <th>I(education ** 2)</th>\n",
       "      <td>1.0</td>\n",
       "      <td>3333.902396</td>\n",
       "      <td>3333.902396</td>\n",
       "      <td>14427.969988</td>\n",
       "      <td>0.000000e+00</td>\n",
       "    </tr>\n",
       "    <tr>\n",
       "      <th>I(education ** 2):gender</th>\n",
       "      <td>1.0</td>\n",
       "      <td>19.847254</td>\n",
       "      <td>19.847254</td>\n",
       "      <td>85.892012</td>\n",
       "      <td>1.959621e-20</td>\n",
       "    </tr>\n",
       "    <tr>\n",
       "      <th>age</th>\n",
       "      <td>1.0</td>\n",
       "      <td>527.151584</td>\n",
       "      <td>527.151584</td>\n",
       "      <td>2281.328705</td>\n",
       "      <td>0.000000e+00</td>\n",
       "    </tr>\n",
       "    <tr>\n",
       "      <th>gender:age</th>\n",
       "      <td>1.0</td>\n",
       "      <td>13.922043</td>\n",
       "      <td>13.922043</td>\n",
       "      <td>60.249759</td>\n",
       "      <td>8.483796e-15</td>\n",
       "    </tr>\n",
       "    <tr>\n",
       "      <th>I(education ** 2):age</th>\n",
       "      <td>1.0</td>\n",
       "      <td>22.017661</td>\n",
       "      <td>22.017661</td>\n",
       "      <td>95.284778</td>\n",
       "      <td>1.712123e-22</td>\n",
       "    </tr>\n",
       "    <tr>\n",
       "      <th>I(education ** 2):gender:age</th>\n",
       "      <td>1.0</td>\n",
       "      <td>5.188648</td>\n",
       "      <td>5.188648</td>\n",
       "      <td>22.454663</td>\n",
       "      <td>2.156435e-06</td>\n",
       "    </tr>\n",
       "    <tr>\n",
       "      <th>Residual</th>\n",
       "      <td>61384.0</td>\n",
       "      <td>14184.134347</td>\n",
       "      <td>0.231072</td>\n",
       "      <td>NaN</td>\n",
       "      <td>NaN</td>\n",
       "    </tr>\n",
       "  </tbody>\n",
       "</table>\n",
       "</div>"
      ],
      "text/plain": [
       "                                   df        sum_sq      mean_sq  \\\n",
       "gender                            1.0    646.280571   646.280571   \n",
       "region                            3.0    113.489138    37.829713   \n",
       "I(education ** 2)                 1.0   3333.902396  3333.902396   \n",
       "I(education ** 2):gender          1.0     19.847254    19.847254   \n",
       "age                               1.0    527.151584   527.151584   \n",
       "gender:age                        1.0     13.922043    13.922043   \n",
       "I(education ** 2):age             1.0     22.017661    22.017661   \n",
       "I(education ** 2):gender:age      1.0      5.188648     5.188648   \n",
       "Residual                      61384.0  14184.134347     0.231072   \n",
       "\n",
       "                                         F         PR(>F)  \n",
       "gender                         2796.877525   0.000000e+00  \n",
       "region                          163.713839  1.049718e-105  \n",
       "I(education ** 2)             14427.969988   0.000000e+00  \n",
       "I(education ** 2):gender         85.892012   1.959621e-20  \n",
       "age                            2281.328705   0.000000e+00  \n",
       "gender:age                       60.249759   8.483796e-15  \n",
       "I(education ** 2):age            95.284778   1.712123e-22  \n",
       "I(education ** 2):gender:age     22.454663   2.156435e-06  \n",
       "Residual                               NaN            NaN  "
      ]
     },
     "execution_count": 86,
     "metadata": {},
     "output_type": "execute_result"
    }
   ],
   "source": [
    "anova_lm(s_model_2)"
   ]
  },
  {
   "cell_type": "code",
   "execution_count": 134,
   "metadata": {
    "scrolled": true
   },
   "outputs": [
    {
     "data": {
      "text/plain": [
       "Text(0, 0.5, 'Standardized Residuals')"
      ]
     },
     "execution_count": 134,
     "metadata": {},
     "output_type": "execute_result"
    },
    {
     "data": {
      "image/png": "[encoded data removed]",
      "text/plain": [
       "<Figure size 576x396 with 1 Axes>"
      ]
     },
     "metadata": {},
     "output_type": "display_data"
    }
   ],
   "source": [
    "# model values\n",
    "model_fitted_y = s_model_5.fittedvalues\n",
    "# model residuals\n",
    "model_residuals = s_model_5.resid\n",
    "# normalized residuals\n",
    "model_norm_residuals = s_model_5.get_influence().resid_studentized_internal\n",
    "# absolute squared normalized residuals\n",
    "\n",
    "plt.style.use('seaborn') # pretty matplotlib plots\n",
    "plt.rc('font', size=14)\n",
    "plt.rc('figure', titlesize=18)\n",
    "plt.rc('axes', labelsize=15)\n",
    "plt.rc('axes', titlesize=18)\n",
    "\n",
    "plot_lm_2 = sm.qqplot(model_norm_residuals, line='45', alpha=0.5, color='#4C72B0', lw=1)\n",
    "plot_lm_2.axes[0].set_title('Normal Q-Q')\n",
    "plot_lm_2.axes[0].set_xlabel('Theoretical Quantiles')\n",
    "plot_lm_2.axes[0].set_ylabel('Standardized Residuals')"
   ]
  },
  {
   "cell_type": "markdown",
   "metadata": {},
   "source": [
    "# 3 Simulation\n",
    "\n",
    "## (a) Implementing the Funcation\n",
    "\n",
    "### (i) \n",
    "\n",
    "#### Implement the sample skewness as the function skewness taking x as an argument. Run the function on the vector np.array([7,0.3,1,33,0,6])."
   ]
  },
  {
   "cell_type": "code",
   "execution_count": 53,
   "metadata": {},
   "outputs": [],
   "source": [
    "def skewnesss(x):\n",
    "    \n",
    "    n = len(x) #sample total n\n",
    "    \n",
    "    x_bar = sum(x)/n #sample mean\n",
    "    \n",
    "    sigma_s_upper = [] #skewness upper sigma part\n",
    "    \n",
    "    sigma_s_lower = [] #skewness lower sigma part\n",
    "    \n",
    "    sigma_k_upper = []\n",
    "    \n",
    "    sigma_k_lower = []\n",
    "    \n",
    "    for i in x:\n",
    "        \n",
    "        sigma_s_upper.append((i - x_bar)**3)\n",
    "    \n",
    "    for i in x:\n",
    "        \n",
    "        sigma_s_lower.append((i - x_bar)**2)      \n",
    "            \n",
    "    for i in x:\n",
    "        \n",
    "        sigma_k_upper.append((i - x_bar)**4)\n",
    "        \n",
    "    for i in x:\n",
    "        \n",
    "        sigma_k_lower.append((i - x_bar)**2)\n",
    "        \n",
    "    skewness = ((sum(sigma_s_upper) / n) / ((sum(sigma_s_lower) / n ) ** (3/2)))\n",
    "    \n",
    "    kurtosis = ((sum(sigma_k_upper) / n) / ((sum(sigma_k_lower) / n ) ** (2)))\n",
    "   \n",
    "    print('Skewness =', skewness)"
   ]
  },
  {
   "cell_type": "code",
   "execution_count": 54,
   "metadata": {},
   "outputs": [
    {
     "name": "stdout",
     "output_type": "stream",
     "text": [
      "Skewness = 1.5723844222148309\n"
     ]
    }
   ],
   "source": [
    "x = np.array([7,0.3,1,33,0,6])\n",
    "\n",
    "skewnesss(x)"
   ]
  },
  {
   "cell_type": "markdown",
   "metadata": {},
   "source": [
    "### (ii) \n",
    "\n",
    "#### Now implement the sample kurtosis as the function kurtosis taking a Numpy array x as an argument. Run the function on the vector np.array([2,1,0.5,1,2,5]). (Please implement your own function, even if Numpy or Scipy might have it implemented already.)"
   ]
  },
  {
   "cell_type": "code",
   "execution_count": 55,
   "metadata": {},
   "outputs": [],
   "source": [
    "def kurtosiss(x):\n",
    "    \n",
    "    n = len(x) #sample total n\n",
    "    \n",
    "    x_bar = sum(x)/n #sample mean\n",
    "    \n",
    "    sigma_s_upper = [] #skewness upper sigma part\n",
    "    \n",
    "    sigma_s_lower = [] #skewness lower sigma part\n",
    "    \n",
    "    sigma_k_upper = []\n",
    "    \n",
    "    sigma_k_lower = []\n",
    "    \n",
    "    for i in x:\n",
    "        \n",
    "        sigma_s_upper.append((i - x_bar)**3)\n",
    "    \n",
    "    for i in x:\n",
    "        \n",
    "        sigma_s_lower.append((i - x_bar)**2)      \n",
    "            \n",
    "    for i in x:\n",
    "        \n",
    "        sigma_k_upper.append((i - x_bar)**4)\n",
    "        \n",
    "    for i in x:\n",
    "        \n",
    "        sigma_k_lower.append((i - x_bar)**2)\n",
    "        \n",
    "    skewness = ((sum(sigma_s_upper) / n) / ((sum(sigma_s_lower) / n ) ** (3/2)))\n",
    "    \n",
    "    kurtosis = ((sum(sigma_k_upper) / n) / ((sum(sigma_k_lower) / n ) ** (2)))\n",
    "   \n",
    "    print('Kurtosis =', kurtosis)"
   ]
  },
  {
   "cell_type": "code",
   "execution_count": 56,
   "metadata": {},
   "outputs": [
    {
     "name": "stdout",
     "output_type": "stream",
     "text": [
      "Kurtosis = 3.295495029306689\n"
     ]
    }
   ],
   "source": [
    "y = np.array([2,1,0.5,1,2,5])\n",
    "\n",
    "kurtosiss(y)"
   ]
  },
  {
   "cell_type": "markdown",
   "metadata": {},
   "source": [
    "### (iii) \n",
    "\n",
    "#### Make the jarque_beta function, taking x as an argument, that implements the Jarque-Bera test. To do this, use that the definition of the Jarque-Bera test is 𝑛6 (𝑆2 + 14 (𝐾 − 3)2), where 𝑛 is the sample size 𝑆 is the sample skewness, and 𝐾 is the sample kurtosis.\n"
   ]
  },
  {
   "cell_type": "code",
   "execution_count": 57,
   "metadata": {},
   "outputs": [],
   "source": [
    "def jarque_beta(x):\n",
    "    \n",
    "    n = len(x) #sample total n\n",
    "    \n",
    "    x_bar = sum(x)/n #sample mean\n",
    "    \n",
    "    sigma_s_upper = [] #skewness upper sigma part\n",
    "    \n",
    "    sigma_s_lower = [] #skewness lower sigma part\n",
    "    \n",
    "    sigma_k_upper = []\n",
    "    \n",
    "    sigma_k_lower = []\n",
    "    \n",
    "    for i in x:\n",
    "        \n",
    "        sigma_s_upper.append((i - x_bar)**3)\n",
    "    \n",
    "    for i in x :\n",
    "        \n",
    "        sigma_s_lower.append((i - x_bar)**2)      \n",
    "            \n",
    "    for i in x:\n",
    "        \n",
    "        sigma_k_upper.append((i - x_bar)**4)\n",
    "        \n",
    "    for i in x :\n",
    "        \n",
    "        sigma_k_lower.append((i - x_bar)**2)\n",
    "        \n",
    "    \n",
    "    skewness = ((sum(sigma_s_upper) / n) / ((sum(sigma_s_lower) / n ) ** (3/2)))\n",
    "    \n",
    "    kurtosis = ((sum(sigma_k_upper) / n) / ((sum(sigma_k_lower) / n ) ** (2)))\n",
    "    \n",
    "    jb_test = ( n / 6 ) * ((( skewness ) ** 2 ) + (( 1 / 4 ) * (( kurtosis - 3 ) ** 2 )))\n",
    "    \n",
    "    \n",
    "    return(jb_test)"
   ]
  },
  {
   "cell_type": "code",
   "execution_count": 58,
   "metadata": {},
   "outputs": [
    {
     "name": "stdout",
     "output_type": "stream",
     "text": [
      "Jarque-Bera Test = 2.6317260545008505\n"
     ]
    }
   ],
   "source": [
    "print('Jarque-Bera Test =', jarque_beta(x))"
   ]
  },
  {
   "cell_type": "code",
   "execution_count": 59,
   "metadata": {},
   "outputs": [
    {
     "data": {
      "text/plain": [
       "2.6317260545008505"
      ]
     },
     "execution_count": 59,
     "metadata": {},
     "output_type": "execute_result"
    }
   ],
   "source": [
    "c = np.array([7,0.3,1,33,0,6])\n",
    "\n",
    "jarque_beta(c)"
   ]
  },
  {
   "cell_type": "markdown",
   "metadata": {},
   "source": [
    "## (b) Simulations\n",
    "\n",
    "### (i) \n",
    "\n",
    "#### Make a function that simulates n observations from a normal distribution with mean mu and standard deviation sigma then calculates the Jarque-Beta test on these values. Do this n_reps times, and return the resulting test values as a Numpy vector. (Use the signature jarque_bera_normal(n, mu, sigma, n_reps)).\n"
   ]
  },
  {
   "cell_type": "code",
   "execution_count": 60,
   "metadata": {},
   "outputs": [
    {
     "data": {
      "text/plain": [
       "array([ 1.42621116, 33.09868414,  0.4891973 , ...,  1.59863464,\n",
       "        1.36511308,  1.90636243])"
      ]
     },
     "execution_count": 60,
     "metadata": {},
     "output_type": "execute_result"
    }
   ],
   "source": [
    "def jarque_bera_normal(n, mu, sigma, n_reps):\n",
    "    \n",
    "    rng = np.random.normal(mu, sigma, size = (n, n_reps))\n",
    "    \n",
    "    ans = np.array(jarque_beta(rng))\n",
    "    \n",
    "    return(ans)\n",
    "\n",
    "jarque_bera_normal(100, 0, 1, 10**5)"
   ]
  },
  {
   "cell_type": "markdown",
   "metadata": {},
   "source": [
    "### (ii) "
   ]
  },
  {
   "cell_type": "markdown",
   "metadata": {},
   "source": [
    "#### Using n = 100 and n_reps = 10**5, call jarque_bera_normal with your choice of mu and sigma. Make a histogram of the values. Moreover, according to Jarque-Bera test, the distribu- tion of the Jarque-Bera test should be approximately 𝜒2-distributed with 2 degrees of freedom. To verify this, add a line plot of the 𝜒2-distributed with 2 degrees of freedom to the histogram. Comment how well the lines match. (Hint: To plot the 𝜒2-distribution you must consult the Numpy documentation.)\n",
    "\n",
    "Here we can see our plotted Jarque Bera Function array shows a 𝜒2-distributed curve with a sample of 5000. "
   ]
  },
  {
   "cell_type": "code",
   "execution_count": 66,
   "metadata": {},
   "outputs": [
    {
     "data": {
      "image/png": "[encoded data removed]",
      "text/plain": [
       "<Figure size 576x396 with 1 Axes>"
      ]
     },
     "metadata": {},
     "output_type": "display_data"
    }
   ],
   "source": [
    "x = jarque_bera_normal(100, 15, 3, 10**5)\n",
    "x_2 = np.random.chisquare(df = 2, size = 5000)\n",
    "\n",
    "plt.style.use('dark_background')\n",
    "fig, ax = plt.subplots()\n",
    "sns.histplot(x, ax = ax, bins=10**4, kde=True, fill = False, palette=\"Set2\")\n",
    "sns.histplot(x_2, kde = True)\n",
    "ax.set_xlim(0,17)\n",
    "ax.set_xticks(range(0,17))\n",
    "fig.legend(labels=['Jarque Bera Score','${𝜒^2}$-distributed'])\n",
    "plt.show()"
   ]
  },
  {
   "cell_type": "markdown",
   "metadata": {},
   "source": [
    "### (iii)\n",
    "\n",
    "Since the Jarque-Bera test is 𝜒2-distributed with 2 degrees of freedom, we can calculate its p-value using scipy.stats.chi2. Explain how you would do this and why the result is a p-value.\n",
    "\n",
    "\n",
    "##### Before we start our Hypothesis, we need to examine what p-value is.\n",
    "\n",
    "- p-value is the probability of obtaining test result at least as extreme as the result actually observed, under the assumption that the null hypothesis is correct.\n",
    "\n",
    "- Here we are talking about If the distribution is Normal Distribution ${\\rightarrow}$ ${p(x)\\,{\\geq}\\,t}$\n",
    "\n",
    "Our Jarque-Bera test can thus prove:\n",
    " \n",
    "##### If ${X_i}$ is has a distribution of ${\\,N(μ，σ^2)}$, the when our sample ${n\\,{\\geq}\\,30}$, our ${JB\\,}$~${\\,χ^2_{df = 2}}$\n",
    "\n",
    "Now we construct our Hypothesis as instructed:\n",
    "\n",
    "$\\left\\{\\begin{matrix}\n",
    "H_0 = The\\,\\,true\\,\\,distribution\\,\\,is\\,\\,normal\\\\H_1 = The\\,\\,true\\,\\,distribution\\,\\,is\\,\\,not\\,\\,normal\n",
    "\\end{matrix}\\right.$\n",
    "\n",
    "##### If ${JB\\,}$${>}$${\\,χ^2_{df = 2}}$ then it rejects our ${H_0}$ meaning that our covariate is not normally distributed.\n",
    "\n",
    "##### Question: how you would do this and why the result is a p-value.\n",
    "\n",
    "1. From our function, we have calculated our JB values. Afterwards, we can use our sample from the function (using the same array that was calculating the JB Score)\n",
    "\n",
    "    rng = np.random.normal(mu, sigma, size = (n, n_reps))\n",
    "\n",
    "    Now further using scipy.stats.chi2 with confidence interval ${\\alpha = 0.05}$ and we have two arrays for each 10**5 reps of experiment and their JB values and p-values. \n",
    "\n",
    "    We now just need to compare each of their ${\\chi^2_{\\alpha = 0.05, df = 2}}$ to our ${JB}$ scores and we can see if<br>${JB\\,}$${< }$${\\,χ^2_{df = 2}}$ then our value fail to reject ${H_0}$<br>\n",
    "<br>\n",
    "2. We can simply use 1 - stats.chi2.cdf() to get our p-value. Cumulative Distribution Function presents the cumulative probability of a function up to a whole given area. Our goal is here to see what is the cumulatived ones that on one side of this point whic his why teh given result is a p-value."
   ]
  },
  {
   "cell_type": "markdown",
   "metadata": {},
   "source": [
    "## (c) Power of Functions\n",
    "\n",
    "### (i)  \n",
    "\n",
    "#### Make a function simulate_jarque_bera that takes three arguments n, n_reps and random as arguments. The random argument should be a random generator taking one size argument. (E.g. lambda size: rng.normal(mu, sigma, size), lambda size: rng.exponential(lambda, size)). It should simulate the Jarque-Bera test as we did in (b), but with the supplied distribution random instead of the normal distribution.\n"
   ]
  },
  {
   "cell_type": "code",
   "execution_count": 194,
   "metadata": {},
   "outputs": [],
   "source": [
    "normal = lambda mu, sigma, sizes: np.random.normal(mu,sigma, size = (sizes))\n",
    "logit = lambda sizes: np.random.logistic(size = (sizes))\n",
    "gamma = lambda s, sizes: np.random.gamma(s, size = (sizes))\n",
    "exponential = lambda s, sizes: np.random.exponential(s, size = (sizes))\n",
    "lognormal = lambda sizes: np.random.lognormal(size = (sizes))\n",
    "poisson = lambda sizes: np.random.poisson(size = (sizes))\n",
    "uniform = lambda sizes: np.random.uniform(size = (sizes))\n",
    "chisquare = lambda df, sizes: np.random.chisquare(df, size = (sizes))\n",
    "geometric = lambda p, sizes: np.random.geometric(p,size = (sizes))\n",
    "standard_cauchy = lambda sizes: np.random.standard_cauchy(size = (sizes))\n",
    "laplace = lambda mu,scale,sizes: np.random.laplace(mu,scale,size = (sizes))\n",
    "    \n",
    "def rando(distribution):\n",
    "    \n",
    "    normal = lambda mu, sigma, sizes: np.random.normal(mu,sigma, size = (sizes))\n",
    "    logit = lambda sizes: np.random.logistic(size = (sizes))\n",
    "    gamma = lambda s, sizes: np.random.gamma(s, size = (sizes))\n",
    "    exponential = lambda s, sizes: np.random.exponential(s, size = (sizes))\n",
    "    lognormal = lambda sizes: np.random.lognormal(size = (sizes))\n",
    "    poisson = lambda sizes: np.random.poisson(size = (sizes))\n",
    "    uniform = lambda sizes: np.random.uniform(size = (sizes))\n",
    "    chisquare = lambda df, sizes: np.random.chisquare(df, size = (sizes))\n",
    "    geometric = lambda p, sizes: np.random.geometric(p,size = (sizes))\n",
    "    standard_cauchy = lambda sizes: np.random.standard_cauchy(size = (sizes))\n",
    "    laplace = lambda mu,scale,sizes: np.random.laplace(mu,scale,size = (sizes))\n",
    "    \n",
    "    return(distribution)"
   ]
  },
  {
   "cell_type": "code",
   "execution_count": 195,
   "metadata": {},
   "outputs": [],
   "source": [
    "def simulate_jarque_bera(n, n_reps,random):\n",
    "    \n",
    "    x = rando(random)\n",
    "    \n",
    "    x_jb_sample = np.array(jarque_beta(x))\n",
    "    \n",
    "    return(x_jb_sample)"
   ]
  },
  {
   "cell_type": "code",
   "execution_count": 196,
   "metadata": {},
   "outputs": [
    {
     "data": {
      "text/plain": [
       "array([0.74722169, 0.38017125, 1.08096005, ..., 0.8768789 , 1.61170498,\n",
       "       1.31701453])"
      ]
     },
     "execution_count": 196,
     "metadata": {},
     "output_type": "execute_result"
    }
   ],
   "source": [
    "simulate_jarque_bera(5,10**5,logit((10,10**5)))"
   ]
  },
  {
   "cell_type": "code",
   "execution_count": 197,
   "metadata": {},
   "outputs": [
    {
     "data": {
      "text/plain": [
       "array([0.56658616, 0.52684691, 0.91705176, ..., 0.10249743, 0.61832134,\n",
       "       3.35967844])"
      ]
     },
     "execution_count": 197,
     "metadata": {},
     "output_type": "execute_result"
    }
   ],
   "source": [
    "simulate_jarque_bera(5,10**5,normal(0,1,(10,10**5)))"
   ]
  },
  {
   "cell_type": "markdown",
   "metadata": {},
   "source": [
    "### (ii) \n",
    "\n",
    "#### Make a function power_jarque_bera(n, n_reps, random, alpha = 0.05). The first three arguments are the same as the previous exercise, and alpha is a significance level. It should return the approximate probability that the Jarque-Bera test will be significant at the alpha level when the true distribution is random."
   ]
  },
  {
   "cell_type": "code",
   "execution_count": 198,
   "metadata": {},
   "outputs": [],
   "source": [
    "def power_jarque_bera(n, n_reps, random, alpha = 0.05):\n",
    "    \n",
    "    x_sample = np.array(rando(random))\n",
    "    \n",
    "    x_test = np.array(1 - stats.chi2.cdf(x_sample, 2,))  \n",
    "    \n",
    "    return(np.mean(x_test <= alpha))"
   ]
  },
  {
   "cell_type": "code",
   "execution_count": 199,
   "metadata": {},
   "outputs": [
    {
     "data": {
      "text/plain": [
       "0.000546"
      ]
     },
     "execution_count": 199,
     "metadata": {},
     "output_type": "execute_result"
    }
   ],
   "source": [
    "power_jarque_bera(10, 10**5, poisson((10,10**5)), alpha = 0.05)"
   ]
  },
  {
   "cell_type": "markdown",
   "metadata": {},
   "source": [
    "### (iii) \n",
    "\n",
    "#### Use the power_jarque_bera(n, n_reps, random, alpha = 0.05) function to calculate the power of the Jarque-Bera test for 5 different choices of distributions (the random argument) and put them into a table with 𝑛 = 50,100,1000. One of these five distributions should be the Laplace distribution."
   ]
  },
  {
   "cell_type": "markdown",
   "metadata": {},
   "source": [
    "laplace:"
   ]
  },
  {
   "cell_type": "code",
   "execution_count": 162,
   "metadata": {},
   "outputs": [
    {
     "data": {
      "text/plain": [
       "0.001259"
      ]
     },
     "execution_count": 162,
     "metadata": {},
     "output_type": "execute_result"
    }
   ],
   "source": [
    "power_jarque_bera(50, 10**5, laplace(0,1,(50,10**5)), alpha = 0.05)"
   ]
  },
  {
   "cell_type": "code",
   "execution_count": 163,
   "metadata": {},
   "outputs": [
    {
     "data": {
      "text/plain": [
       "0.0012399"
      ]
     },
     "execution_count": 163,
     "metadata": {},
     "output_type": "execute_result"
    }
   ],
   "source": [
    "power_jarque_bera(100, 10**5, laplace(0,1,(100,10**5)), alpha = 0.05)"
   ]
  },
  {
   "cell_type": "code",
   "execution_count": 164,
   "metadata": {
    "scrolled": true
   },
   "outputs": [
    {
     "data": {
      "text/plain": [
       "0.00125067"
      ]
     },
     "execution_count": 164,
     "metadata": {},
     "output_type": "execute_result"
    }
   ],
   "source": [
    "power_jarque_bera(1000, 10**5, laplace(0,1,(1000,10**5)), alpha = 0.05)"
   ]
  },
  {
   "cell_type": "markdown",
   "metadata": {},
   "source": [
    "logit:"
   ]
  },
  {
   "cell_type": "code",
   "execution_count": 165,
   "metadata": {
    "scrolled": true
   },
   "outputs": [
    {
     "data": {
      "text/plain": [
       "0.0024864"
      ]
     },
     "execution_count": 165,
     "metadata": {},
     "output_type": "execute_result"
    }
   ],
   "source": [
    "power_jarque_bera(50, 10**5, logit((50,10**5)), alpha = 0.05)"
   ]
  },
  {
   "cell_type": "code",
   "execution_count": 166,
   "metadata": {},
   "outputs": [
    {
     "data": {
      "text/plain": [
       "0.0025001"
      ]
     },
     "execution_count": 166,
     "metadata": {},
     "output_type": "execute_result"
    }
   ],
   "source": [
    "power_jarque_bera(100, 10**5, logit((100,10**5)), alpha = 0.05)"
   ]
  },
  {
   "cell_type": "code",
   "execution_count": 167,
   "metadata": {},
   "outputs": [
    {
     "data": {
      "text/plain": [
       "0.00248672"
      ]
     },
     "execution_count": 167,
     "metadata": {},
     "output_type": "execute_result"
    }
   ],
   "source": [
    "power_jarque_bera(1000, 10**5, logit((1000,10**5)), alpha = 0.05)"
   ]
  },
  {
   "cell_type": "markdown",
   "metadata": {},
   "source": [
    "exponential:"
   ]
  },
  {
   "cell_type": "code",
   "execution_count": 168,
   "metadata": {},
   "outputs": [
    {
     "data": {
      "text/plain": [
       "0.0025126"
      ]
     },
     "execution_count": 168,
     "metadata": {},
     "output_type": "execute_result"
    }
   ],
   "source": [
    "power_jarque_bera(50, 10**5, exponential(1,(50,10**5)), alpha = 0.05)"
   ]
  },
  {
   "cell_type": "code",
   "execution_count": 169,
   "metadata": {},
   "outputs": [
    {
     "data": {
      "text/plain": [
       "0.0025224"
      ]
     },
     "execution_count": 169,
     "metadata": {},
     "output_type": "execute_result"
    }
   ],
   "source": [
    "power_jarque_bera(100, 10**5, exponential(1,(100,10**5)), alpha = 0.05)"
   ]
  },
  {
   "cell_type": "code",
   "execution_count": 170,
   "metadata": {},
   "outputs": [
    {
     "data": {
      "text/plain": [
       "0.00250187"
      ]
     },
     "execution_count": 170,
     "metadata": {},
     "output_type": "execute_result"
    }
   ],
   "source": [
    "power_jarque_bera(1000, 10**5, exponential(1,(1000,10**5)), alpha = 0.05)"
   ]
  },
  {
   "cell_type": "markdown",
   "metadata": {},
   "source": [
    "poisson:"
   ]
  },
  {
   "cell_type": "code",
   "execution_count": 171,
   "metadata": {},
   "outputs": [
    {
     "data": {
      "text/plain": [
       "0.0005892"
      ]
     },
     "execution_count": 171,
     "metadata": {},
     "output_type": "execute_result"
    }
   ],
   "source": [
    "power_jarque_bera(50, 10**5, poisson((50,10**5)), alpha = 0.05)"
   ]
  },
  {
   "cell_type": "code",
   "execution_count": 172,
   "metadata": {},
   "outputs": [
    {
     "data": {
      "text/plain": [
       "0.0005976"
      ]
     },
     "execution_count": 172,
     "metadata": {},
     "output_type": "execute_result"
    }
   ],
   "source": [
    "power_jarque_bera(100, 10**5, poisson((100,10**5)), alpha = 0.05)"
   ]
  },
  {
   "cell_type": "code",
   "execution_count": 173,
   "metadata": {},
   "outputs": [
    {
     "data": {
      "text/plain": [
       "0.00059337"
      ]
     },
     "execution_count": 173,
     "metadata": {},
     "output_type": "execute_result"
    }
   ],
   "source": [
    "power_jarque_bera(1000, 10**5, poisson((1000,10**5)), alpha = 0.05)"
   ]
  },
  {
   "cell_type": "markdown",
   "metadata": {},
   "source": [
    "gamma:"
   ]
  },
  {
   "cell_type": "code",
   "execution_count": 174,
   "metadata": {},
   "outputs": [
    {
     "data": {
      "text/plain": [
       "0.002512"
      ]
     },
     "execution_count": 174,
     "metadata": {},
     "output_type": "execute_result"
    }
   ],
   "source": [
    "power_jarque_bera(50, 10**5, gamma(1,(50,10**5)), alpha = 0.05)"
   ]
  },
  {
   "cell_type": "code",
   "execution_count": 175,
   "metadata": {},
   "outputs": [
    {
     "data": {
      "text/plain": [
       "0.0025129"
      ]
     },
     "execution_count": 175,
     "metadata": {},
     "output_type": "execute_result"
    }
   ],
   "source": [
    "power_jarque_bera(100, 10**5, gamma(1,(100,10**5)), alpha = 0.05)"
   ]
  },
  {
   "cell_type": "code",
   "execution_count": 176,
   "metadata": {},
   "outputs": [
    {
     "data": {
      "text/plain": [
       "0.002501"
      ]
     },
     "execution_count": 176,
     "metadata": {},
     "output_type": "execute_result"
    }
   ],
   "source": [
    "power_jarque_bera(1000, 10**5, gamma(1,(1000,10**5)), alpha = 0.05)"
   ]
  }
 ],
 "metadata": {
  "kernelspec": {
   "display_name": "Python 3",
   "language": "python",
   "name": "python3"
  },
  "language_info": {
   "codemirror_mode": {
    "name": "ipython",
    "version": 3
   },
   "file_extension": ".py",
   "mimetype": "text/x-python",
   "name": "python",
   "nbconvert_exporter": "python",
   "pygments_lexer": "ipython3",
   "version": "3.8.5"
  }
 },
 "nbformat": 4,
 "nbformat_minor": 4
}
